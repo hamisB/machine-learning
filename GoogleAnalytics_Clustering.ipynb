{
  "nbformat": 4,
  "nbformat_minor": 0,
  "metadata": {
    "colab": {
      "name": "GoogleAnalytics-Clustering",
      "provenance": [],
      "authorship_tag": "ABX9TyMfyga2POmU5tsC3XXdbsnG",
      "include_colab_link": true
    },
    "kernelspec": {
      "name": "python3",
      "display_name": "Python 3"
    }
  },
  "cells": [
    {
      "cell_type": "markdown",
      "metadata": {
        "id": "view-in-github",
        "colab_type": "text"
      },
      "source": [
        "<a href=\"https://colab.research.google.com/github/hamisB/machine-learning/blob/master/GoogleAnalytics_Clustering.ipynb\" target=\"_parent\"><img src=\"https://colab.research.google.com/assets/colab-badge.svg\" alt=\"Open In Colab\"/></a>"
      ]
    },
    {
      "cell_type": "markdown",
      "metadata": {
        "id": "FjG9ESPe1EuH",
        "colab_type": "text"
      },
      "source": [
        "# Digital Analytics & Machine Learning \n"
      ]
    },
    {
      "cell_type": "markdown",
      "metadata": {
        "id": "_JoEZkgxDU1r",
        "colab_type": "text"
      },
      "source": [
        "### Authentification & Import Librairies"
      ]
    },
    {
      "cell_type": "code",
      "metadata": {
        "id": "JH8bKbMn3MMf",
        "colab_type": "code",
        "colab": {}
      },
      "source": [
        "# Athentification \n",
        "from google.colab import auth\n",
        "auth.authenticate_user()"
      ],
      "execution_count": 0,
      "outputs": []
    },
    {
      "cell_type": "code",
      "metadata": {
        "id": "kDrxQc-zzdT-",
        "colab_type": "code",
        "colab": {}
      },
      "source": [
        "# Import Librairies\n",
        "import pandas as pd\n",
        "import numpy as np\n",
        "import matplotlib.pyplot as plt\n",
        "import seaborn as sns\n",
        "import warnings\n",
        "warnings.filterwarnings(\"ignore\")\n",
        "%matplotlib inline\n",
        "import pandas_profiling as pp"
      ],
      "execution_count": 0,
      "outputs": []
    },
    {
      "cell_type": "markdown",
      "metadata": {
        "id": "KbuINuYsDZEI",
        "colab_type": "text"
      },
      "source": [
        "### Query BigQuery Google Analytics Data"
      ]
    },
    {
      "cell_type": "code",
      "metadata": {
        "id": "D8eyxjEj3RtS",
        "colab_type": "code",
        "colab": {}
      },
      "source": [
        "# Import Google Analytics Data From BigQuery\n",
        "ga_data = pd.io.gbq.read_gbq(\n",
        "'''\n",
        "SELECT\n",
        "  fullVisitorId,\n",
        "  count( distinct visitId) as totalVisites, \n",
        "  CAST( TIMESTAMP_SECONDS(MIN(visitId)) AS DATE) as firstSeen, \n",
        "  CAST(TIMESTAMP_SECONDS(MAX(visitId))  AS DATE) as LastSeen, \n",
        "  DATE_DIFF(CAST(TIMESTAMP_SECONDS(MAX(visitId))  AS DATE), CAST( TIMESTAMP_SECONDS(MIN(visitId)) AS DATE), DAY) AS day_diff,\n",
        "  DATE_DIFF('2018-01-01',CAST(TIMESTAMP_SECONDS(MAX(visitId))  AS DATE), DAY) AS days_since_last_seen,\n",
        "  count( distinct h.transaction.transactionId\t) as transactions, \n",
        "  ROUND(SUM(h.transaction.transactionRevenue)/1000000,2) as revenue\n",
        "  FROM\n",
        "  `bigquery-public-data.google_analytics_sample.ga_sessions_*` as GA,\n",
        "  UNNEST(GA.hits) AS h\n",
        "  WHERE\n",
        "  _TABLE_SUFFIX BETWEEN '20160801'\n",
        "  AND '20170801'\n",
        "  GROUP BY 1\n",
        "  Order BY transactions DESC\n",
        "\n",
        "'''\n",
        ", project_id=\"t-water-211708\", dialect='standard')\n"
      ],
      "execution_count": 0,
      "outputs": []
    },
    {
      "cell_type": "code",
      "metadata": {
        "id": "1X1ey9RXzb8L",
        "colab_type": "code",
        "outputId": "fff4aec0-2684-4278-e73a-ba227d53b752",
        "colab": {
          "base_uri": "https://localhost:8080/",
          "height": 416
        }
      },
      "source": [
        "# Check the data \n",
        "ga_data.head()\n",
        "\n",
        "ga_data = ga_data[ga_data['fullVisitorId']!='7813149961404844386']\n",
        "ga_data = ga_data[ga_data['fullVisitorId']!='1957458976293878100']\n",
        "ga_data"
      ],
      "execution_count": 16,
      "outputs": [
        {
          "output_type": "execute_result",
          "data": {
            "text/html": [
              "<div>\n",
              "<style scoped>\n",
              "    .dataframe tbody tr th:only-of-type {\n",
              "        vertical-align: middle;\n",
              "    }\n",
              "\n",
              "    .dataframe tbody tr th {\n",
              "        vertical-align: top;\n",
              "    }\n",
              "\n",
              "    .dataframe thead th {\n",
              "        text-align: right;\n",
              "    }\n",
              "</style>\n",
              "<table border=\"1\" class=\"dataframe\">\n",
              "  <thead>\n",
              "    <tr style=\"text-align: right;\">\n",
              "      <th></th>\n",
              "      <th>fullVisitorId</th>\n",
              "      <th>totalVisites</th>\n",
              "      <th>firstSeen</th>\n",
              "      <th>LastSeen</th>\n",
              "      <th>day_diff</th>\n",
              "      <th>days_since_last_seen</th>\n",
              "      <th>transactions</th>\n",
              "      <th>revenue</th>\n",
              "    </tr>\n",
              "  </thead>\n",
              "  <tbody>\n",
              "    <tr>\n",
              "      <th>2</th>\n",
              "      <td>4984366501121503466</td>\n",
              "      <td>24</td>\n",
              "      <td>2016-10-12</td>\n",
              "      <td>2017-07-27</td>\n",
              "      <td>288</td>\n",
              "      <td>158</td>\n",
              "      <td>16</td>\n",
              "      <td>9658.40</td>\n",
              "    </tr>\n",
              "    <tr>\n",
              "      <th>3</th>\n",
              "      <td>6760732402251466726</td>\n",
              "      <td>40</td>\n",
              "      <td>2016-08-02</td>\n",
              "      <td>2016-12-29</td>\n",
              "      <td>149</td>\n",
              "      <td>368</td>\n",
              "      <td>15</td>\n",
              "      <td>6530.48</td>\n",
              "    </tr>\n",
              "    <tr>\n",
              "      <th>4</th>\n",
              "      <td>2402527199731150932</td>\n",
              "      <td>31</td>\n",
              "      <td>2016-10-02</td>\n",
              "      <td>2017-05-25</td>\n",
              "      <td>235</td>\n",
              "      <td>221</td>\n",
              "      <td>15</td>\n",
              "      <td>3761.81</td>\n",
              "    </tr>\n",
              "    <tr>\n",
              "      <th>5</th>\n",
              "      <td>0608915197735218105</td>\n",
              "      <td>17</td>\n",
              "      <td>2016-11-09</td>\n",
              "      <td>2017-07-28</td>\n",
              "      <td>261</td>\n",
              "      <td>157</td>\n",
              "      <td>13</td>\n",
              "      <td>3313.23</td>\n",
              "    </tr>\n",
              "    <tr>\n",
              "      <th>6</th>\n",
              "      <td>2074164338647079047</td>\n",
              "      <td>29</td>\n",
              "      <td>2016-08-04</td>\n",
              "      <td>2016-11-09</td>\n",
              "      <td>97</td>\n",
              "      <td>418</td>\n",
              "      <td>12</td>\n",
              "      <td>224.92</td>\n",
              "    </tr>\n",
              "    <tr>\n",
              "      <th>...</th>\n",
              "      <td>...</td>\n",
              "      <td>...</td>\n",
              "      <td>...</td>\n",
              "      <td>...</td>\n",
              "      <td>...</td>\n",
              "      <td>...</td>\n",
              "      <td>...</td>\n",
              "      <td>...</td>\n",
              "    </tr>\n",
              "    <tr>\n",
              "      <th>714162</th>\n",
              "      <td>5198095240229048151</td>\n",
              "      <td>1</td>\n",
              "      <td>2017-01-10</td>\n",
              "      <td>2017-01-10</td>\n",
              "      <td>0</td>\n",
              "      <td>356</td>\n",
              "      <td>0</td>\n",
              "      <td>NaN</td>\n",
              "    </tr>\n",
              "    <tr>\n",
              "      <th>714163</th>\n",
              "      <td>9884896574376457242</td>\n",
              "      <td>1</td>\n",
              "      <td>2016-12-12</td>\n",
              "      <td>2016-12-12</td>\n",
              "      <td>0</td>\n",
              "      <td>385</td>\n",
              "      <td>0</td>\n",
              "      <td>NaN</td>\n",
              "    </tr>\n",
              "    <tr>\n",
              "      <th>714164</th>\n",
              "      <td>6465487530864856728</td>\n",
              "      <td>1</td>\n",
              "      <td>2016-11-21</td>\n",
              "      <td>2016-11-21</td>\n",
              "      <td>0</td>\n",
              "      <td>406</td>\n",
              "      <td>0</td>\n",
              "      <td>NaN</td>\n",
              "    </tr>\n",
              "    <tr>\n",
              "      <th>714165</th>\n",
              "      <td>1529165339653031407</td>\n",
              "      <td>1</td>\n",
              "      <td>2017-05-06</td>\n",
              "      <td>2017-05-06</td>\n",
              "      <td>0</td>\n",
              "      <td>240</td>\n",
              "      <td>0</td>\n",
              "      <td>NaN</td>\n",
              "    </tr>\n",
              "    <tr>\n",
              "      <th>714166</th>\n",
              "      <td>2229028078579043664</td>\n",
              "      <td>1</td>\n",
              "      <td>2017-01-23</td>\n",
              "      <td>2017-01-23</td>\n",
              "      <td>0</td>\n",
              "      <td>343</td>\n",
              "      <td>0</td>\n",
              "      <td>NaN</td>\n",
              "    </tr>\n",
              "  </tbody>\n",
              "</table>\n",
              "<p>714165 rows × 8 columns</p>\n",
              "</div>"
            ],
            "text/plain": [
              "              fullVisitorId  totalVisites  ... transactions  revenue\n",
              "2       4984366501121503466            24  ...           16  9658.40\n",
              "3       6760732402251466726            40  ...           15  6530.48\n",
              "4       2402527199731150932            31  ...           15  3761.81\n",
              "5       0608915197735218105            17  ...           13  3313.23\n",
              "6       2074164338647079047            29  ...           12   224.92\n",
              "...                     ...           ...  ...          ...      ...\n",
              "714162  5198095240229048151             1  ...            0      NaN\n",
              "714163  9884896574376457242             1  ...            0      NaN\n",
              "714164  6465487530864856728             1  ...            0      NaN\n",
              "714165  1529165339653031407             1  ...            0      NaN\n",
              "714166  2229028078579043664             1  ...            0      NaN\n",
              "\n",
              "[714165 rows x 8 columns]"
            ]
          },
          "metadata": {
            "tags": []
          },
          "execution_count": 16
        }
      ]
    },
    {
      "cell_type": "code",
      "metadata": {
        "id": "W1bDTJs10Bo6",
        "colab_type": "code",
        "outputId": "c1f9d3a0-8f05-4cfe-aa9a-7b0dfecb0306",
        "colab": {
          "base_uri": "https://localhost:8080/",
          "height": 277
        }
      },
      "source": [
        "# Copy Data to Dataset\n",
        "dataset = ga_data.copy()\n",
        "\n",
        "# Fill Null value with 0\n",
        "dataset.fillna(0, inplace=True)\n",
        "dataset.info()"
      ],
      "execution_count": 17,
      "outputs": [
        {
          "output_type": "stream",
          "text": [
            "<class 'pandas.core.frame.DataFrame'>\n",
            "Int64Index: 714165 entries, 2 to 714166\n",
            "Data columns (total 8 columns):\n",
            " #   Column                Non-Null Count   Dtype         \n",
            "---  ------                --------------   -----         \n",
            " 0   fullVisitorId         714165 non-null  object        \n",
            " 1   totalVisites          714165 non-null  int64         \n",
            " 2   firstSeen             714165 non-null  datetime64[ns]\n",
            " 3   LastSeen              714165 non-null  datetime64[ns]\n",
            " 4   day_diff              714165 non-null  int64         \n",
            " 5   days_since_last_seen  714165 non-null  int64         \n",
            " 6   transactions          714165 non-null  int64         \n",
            " 7   revenue               714165 non-null  float64       \n",
            "dtypes: datetime64[ns](2), float64(1), int64(4), object(1)\n",
            "memory usage: 49.0+ MB\n"
          ],
          "name": "stdout"
        }
      ]
    },
    {
      "cell_type": "code",
      "metadata": {
        "id": "psrpqZofDttj",
        "colab_type": "code",
        "outputId": "138f70f6-901b-4b11-9c47-d0f0b92c648f",
        "colab": {
          "base_uri": "https://localhost:8080/",
          "height": 202
        }
      },
      "source": [
        "# Get dataset for ml \n",
        "dataset_ml = dataset.drop(['firstSeen','LastSeen'], axis=1)\n",
        "dataset_ml.head()"
      ],
      "execution_count": 18,
      "outputs": [
        {
          "output_type": "execute_result",
          "data": {
            "text/html": [
              "<div>\n",
              "<style scoped>\n",
              "    .dataframe tbody tr th:only-of-type {\n",
              "        vertical-align: middle;\n",
              "    }\n",
              "\n",
              "    .dataframe tbody tr th {\n",
              "        vertical-align: top;\n",
              "    }\n",
              "\n",
              "    .dataframe thead th {\n",
              "        text-align: right;\n",
              "    }\n",
              "</style>\n",
              "<table border=\"1\" class=\"dataframe\">\n",
              "  <thead>\n",
              "    <tr style=\"text-align: right;\">\n",
              "      <th></th>\n",
              "      <th>fullVisitorId</th>\n",
              "      <th>totalVisites</th>\n",
              "      <th>day_diff</th>\n",
              "      <th>days_since_last_seen</th>\n",
              "      <th>transactions</th>\n",
              "      <th>revenue</th>\n",
              "    </tr>\n",
              "  </thead>\n",
              "  <tbody>\n",
              "    <tr>\n",
              "      <th>2</th>\n",
              "      <td>4984366501121503466</td>\n",
              "      <td>24</td>\n",
              "      <td>288</td>\n",
              "      <td>158</td>\n",
              "      <td>16</td>\n",
              "      <td>9658.40</td>\n",
              "    </tr>\n",
              "    <tr>\n",
              "      <th>3</th>\n",
              "      <td>6760732402251466726</td>\n",
              "      <td>40</td>\n",
              "      <td>149</td>\n",
              "      <td>368</td>\n",
              "      <td>15</td>\n",
              "      <td>6530.48</td>\n",
              "    </tr>\n",
              "    <tr>\n",
              "      <th>4</th>\n",
              "      <td>2402527199731150932</td>\n",
              "      <td>31</td>\n",
              "      <td>235</td>\n",
              "      <td>221</td>\n",
              "      <td>15</td>\n",
              "      <td>3761.81</td>\n",
              "    </tr>\n",
              "    <tr>\n",
              "      <th>5</th>\n",
              "      <td>0608915197735218105</td>\n",
              "      <td>17</td>\n",
              "      <td>261</td>\n",
              "      <td>157</td>\n",
              "      <td>13</td>\n",
              "      <td>3313.23</td>\n",
              "    </tr>\n",
              "    <tr>\n",
              "      <th>6</th>\n",
              "      <td>2074164338647079047</td>\n",
              "      <td>29</td>\n",
              "      <td>97</td>\n",
              "      <td>418</td>\n",
              "      <td>12</td>\n",
              "      <td>224.92</td>\n",
              "    </tr>\n",
              "  </tbody>\n",
              "</table>\n",
              "</div>"
            ],
            "text/plain": [
              "         fullVisitorId  totalVisites  ...  transactions  revenue\n",
              "2  4984366501121503466            24  ...            16  9658.40\n",
              "3  6760732402251466726            40  ...            15  6530.48\n",
              "4  2402527199731150932            31  ...            15  3761.81\n",
              "5  0608915197735218105            17  ...            13  3313.23\n",
              "6  2074164338647079047            29  ...            12   224.92\n",
              "\n",
              "[5 rows x 6 columns]"
            ]
          },
          "metadata": {
            "tags": []
          },
          "execution_count": 18
        }
      ]
    },
    {
      "cell_type": "markdown",
      "metadata": {
        "id": "LVM-ApxGFARS",
        "colab_type": "text"
      },
      "source": [
        "### EDA"
      ]
    },
    {
      "cell_type": "code",
      "metadata": {
        "id": "V9-5cYbXL8es",
        "colab_type": "code",
        "colab": {}
      },
      "source": [
        "# Put fullVisitorId as Index of the dataframe \n",
        "dataset_ml.set_index('fullVisitorId',inplace=True)"
      ],
      "execution_count": 0,
      "outputs": []
    },
    {
      "cell_type": "code",
      "metadata": {
        "id": "c6vVSDSTETAC",
        "colab_type": "code",
        "outputId": "b6c19e91-bec9-4da1-ef73-c15353689970",
        "colab": {
          "base_uri": "https://localhost:8080/",
          "height": 294
        }
      },
      "source": [
        "# Data Summary\n",
        "dataset_ml.describe()"
      ],
      "execution_count": 20,
      "outputs": [
        {
          "output_type": "execute_result",
          "data": {
            "text/html": [
              "<div>\n",
              "<style scoped>\n",
              "    .dataframe tbody tr th:only-of-type {\n",
              "        vertical-align: middle;\n",
              "    }\n",
              "\n",
              "    .dataframe tbody tr th {\n",
              "        vertical-align: top;\n",
              "    }\n",
              "\n",
              "    .dataframe thead th {\n",
              "        text-align: right;\n",
              "    }\n",
              "</style>\n",
              "<table border=\"1\" class=\"dataframe\">\n",
              "  <thead>\n",
              "    <tr style=\"text-align: right;\">\n",
              "      <th></th>\n",
              "      <th>totalVisites</th>\n",
              "      <th>day_diff</th>\n",
              "      <th>days_since_last_seen</th>\n",
              "      <th>transactions</th>\n",
              "      <th>revenue</th>\n",
              "    </tr>\n",
              "  </thead>\n",
              "  <tbody>\n",
              "    <tr>\n",
              "      <th>count</th>\n",
              "      <td>714165.000000</td>\n",
              "      <td>714165.000000</td>\n",
              "      <td>714165.000000</td>\n",
              "      <td>714165.000000</td>\n",
              "      <td>714165.00000</td>\n",
              "    </tr>\n",
              "    <tr>\n",
              "      <th>mean</th>\n",
              "      <td>1.263561</td>\n",
              "      <td>2.522067</td>\n",
              "      <td>345.440288</td>\n",
              "      <td>0.016107</td>\n",
              "      <td>2.31260</td>\n",
              "    </tr>\n",
              "    <tr>\n",
              "      <th>std</th>\n",
              "      <td>1.386814</td>\n",
              "      <td>15.937111</td>\n",
              "      <td>104.493407</td>\n",
              "      <td>0.153966</td>\n",
              "      <td>79.09841</td>\n",
              "    </tr>\n",
              "    <tr>\n",
              "      <th>min</th>\n",
              "      <td>1.000000</td>\n",
              "      <td>0.000000</td>\n",
              "      <td>152.000000</td>\n",
              "      <td>0.000000</td>\n",
              "      <td>0.00000</td>\n",
              "    </tr>\n",
              "    <tr>\n",
              "      <th>25%</th>\n",
              "      <td>1.000000</td>\n",
              "      <td>0.000000</td>\n",
              "      <td>256.000000</td>\n",
              "      <td>0.000000</td>\n",
              "      <td>0.00000</td>\n",
              "    </tr>\n",
              "    <tr>\n",
              "      <th>50%</th>\n",
              "      <td>1.000000</td>\n",
              "      <td>0.000000</td>\n",
              "      <td>360.000000</td>\n",
              "      <td>0.000000</td>\n",
              "      <td>0.00000</td>\n",
              "    </tr>\n",
              "    <tr>\n",
              "      <th>75%</th>\n",
              "      <td>1.000000</td>\n",
              "      <td>0.000000</td>\n",
              "      <td>431.000000</td>\n",
              "      <td>0.000000</td>\n",
              "      <td>0.00000</td>\n",
              "    </tr>\n",
              "    <tr>\n",
              "      <th>max</th>\n",
              "      <td>255.000000</td>\n",
              "      <td>364.000000</td>\n",
              "      <td>518.000000</td>\n",
              "      <td>16.000000</td>\n",
              "      <td>41833.85000</td>\n",
              "    </tr>\n",
              "  </tbody>\n",
              "</table>\n",
              "</div>"
            ],
            "text/plain": [
              "        totalVisites       day_diff  ...   transactions       revenue\n",
              "count  714165.000000  714165.000000  ...  714165.000000  714165.00000\n",
              "mean        1.263561       2.522067  ...       0.016107       2.31260\n",
              "std         1.386814      15.937111  ...       0.153966      79.09841\n",
              "min         1.000000       0.000000  ...       0.000000       0.00000\n",
              "25%         1.000000       0.000000  ...       0.000000       0.00000\n",
              "50%         1.000000       0.000000  ...       0.000000       0.00000\n",
              "75%         1.000000       0.000000  ...       0.000000       0.00000\n",
              "max       255.000000     364.000000  ...      16.000000   41833.85000\n",
              "\n",
              "[8 rows x 5 columns]"
            ]
          },
          "metadata": {
            "tags": []
          },
          "execution_count": 20
        }
      ]
    },
    {
      "cell_type": "code",
      "metadata": {
        "id": "pKsjWd0MFWto",
        "colab_type": "code",
        "colab": {}
      },
      "source": [
        "# Pairplot with seaborn \n",
        "#sns.pairplot(dataset_ml)"
      ],
      "execution_count": 0,
      "outputs": []
    },
    {
      "cell_type": "code",
      "metadata": {
        "id": "x6ulKfuIGNDc",
        "colab_type": "code",
        "outputId": "be43fc17-9d1e-493d-9a82-9b0172126f88",
        "colab": {
          "base_uri": "https://localhost:8080/",
          "height": 601
        }
      },
      "source": [
        "# Correlation \n",
        "plt.figure(figsize=(8,8))\n",
        "sns.heatmap(data=dataset_ml.corr(), annot=True)"
      ],
      "execution_count": 21,
      "outputs": [
        {
          "output_type": "execute_result",
          "data": {
            "text/plain": [
              "<matplotlib.axes._subplots.AxesSubplot at 0x7fbfc3e4aa20>"
            ]
          },
          "metadata": {
            "tags": []
          },
          "execution_count": 21
        },
        {
          "output_type": "display_data",
          "data": {
            "image/png": "[encoded data removed]",
            "text/plain": [
              "<Figure size 576x576 with 2 Axes>"
            ]
          },
          "metadata": {
            "tags": [],
            "needs_background": "light"
          }
        }
      ]
    },
    {
      "cell_type": "code",
      "metadata": {
        "id": "c9DWHA1UJtFJ",
        "colab_type": "code",
        "colab": {}
      },
      "source": [
        "#Import Kmeans\n",
        "from sklearn.preprocessing import StandardScaler\n",
        "from sklearn.cluster import KMeans "
      ],
      "execution_count": 0,
      "outputs": []
    },
    {
      "cell_type": "code",
      "metadata": {
        "id": "jhayDQf4Lej5",
        "colab_type": "code",
        "outputId": "f8c9b5bd-84eb-438c-9a56-d59f80808135",
        "colab": {
          "base_uri": "https://localhost:8080/",
          "height": 233
        }
      },
      "source": [
        "# Initiate StandarScaler\n",
        "scaler = StandardScaler()\n",
        "\n",
        "# Scaler fit transform\n",
        "dataset_scaler = pd.DataFrame(scaler.fit_transform(dataset_ml) , index=dataset_ml.index, columns=dataset_ml.columns)\n",
        "dataset_scaler.head()"
      ],
      "execution_count": 23,
      "outputs": [
        {
          "output_type": "execute_result",
          "data": {
            "text/html": [
              "<div>\n",
              "<style scoped>\n",
              "    .dataframe tbody tr th:only-of-type {\n",
              "        vertical-align: middle;\n",
              "    }\n",
              "\n",
              "    .dataframe tbody tr th {\n",
              "        vertical-align: top;\n",
              "    }\n",
              "\n",
              "    .dataframe thead th {\n",
              "        text-align: right;\n",
              "    }\n",
              "</style>\n",
              "<table border=\"1\" class=\"dataframe\">\n",
              "  <thead>\n",
              "    <tr style=\"text-align: right;\">\n",
              "      <th></th>\n",
              "      <th>totalVisites</th>\n",
              "      <th>day_diff</th>\n",
              "      <th>days_since_last_seen</th>\n",
              "      <th>transactions</th>\n",
              "      <th>revenue</th>\n",
              "    </tr>\n",
              "    <tr>\n",
              "      <th>fullVisitorId</th>\n",
              "      <th></th>\n",
              "      <th></th>\n",
              "      <th></th>\n",
              "      <th></th>\n",
              "      <th></th>\n",
              "    </tr>\n",
              "  </thead>\n",
              "  <tbody>\n",
              "    <tr>\n",
              "      <th>4984366501121503466</th>\n",
              "      <td>16.394735</td>\n",
              "      <td>17.912791</td>\n",
              "      <td>-1.793801</td>\n",
              "      <td>103.814241</td>\n",
              "      <td>122.076969</td>\n",
              "    </tr>\n",
              "    <tr>\n",
              "      <th>6760732402251466726</th>\n",
              "      <td>27.931975</td>\n",
              "      <td>9.191003</td>\n",
              "      <td>0.215896</td>\n",
              "      <td>97.319312</td>\n",
              "      <td>82.532278</td>\n",
              "    </tr>\n",
              "    <tr>\n",
              "      <th>2402527199731150932</th>\n",
              "      <td>21.442277</td>\n",
              "      <td>14.587217</td>\n",
              "      <td>-1.190892</td>\n",
              "      <td>97.319312</td>\n",
              "      <td>47.529401</td>\n",
              "    </tr>\n",
              "    <tr>\n",
              "      <th>0608915197735218105</th>\n",
              "      <td>11.347192</td>\n",
              "      <td>16.218631</td>\n",
              "      <td>-1.803371</td>\n",
              "      <td>84.329456</td>\n",
              "      <td>41.858233</td>\n",
              "    </tr>\n",
              "    <tr>\n",
              "      <th>2074164338647079047</th>\n",
              "      <td>20.000122</td>\n",
              "      <td>5.928176</td>\n",
              "      <td>0.694396</td>\n",
              "      <td>77.834527</td>\n",
              "      <td>2.814311</td>\n",
              "    </tr>\n",
              "  </tbody>\n",
              "</table>\n",
              "</div>"
            ],
            "text/plain": [
              "                     totalVisites   day_diff  ...  transactions     revenue\n",
              "fullVisitorId                                 ...                          \n",
              "4984366501121503466     16.394735  17.912791  ...    103.814241  122.076969\n",
              "6760732402251466726     27.931975   9.191003  ...     97.319312   82.532278\n",
              "2402527199731150932     21.442277  14.587217  ...     97.319312   47.529401\n",
              "0608915197735218105     11.347192  16.218631  ...     84.329456   41.858233\n",
              "2074164338647079047     20.000122   5.928176  ...     77.834527    2.814311\n",
              "\n",
              "[5 rows x 5 columns]"
            ]
          },
          "metadata": {
            "tags": []
          },
          "execution_count": 23
        }
      ]
    },
    {
      "cell_type": "code",
      "metadata": {
        "id": "TqaqkVexLsmd",
        "colab_type": "code",
        "outputId": "d235c174-58d7-40fa-8e1e-1293a83248fd",
        "colab": {
          "base_uri": "https://localhost:8080/",
          "height": 621
        }
      },
      "source": [
        "# Elbow Method to find the number of cluster \n",
        "sse = {}\n",
        "# Fit KMeans and calculate SSE for each k\n",
        "for k in range(1, 11):\n",
        "  \n",
        "    # Initialize KMeans with k clusters and fit it \n",
        "    kmeans = KMeans(n_clusters=k, random_state=1).fit(dataset_scaler)\n",
        "    \n",
        "    # Assign sum of squared distances to k element of the sse dictionary\n",
        "    sse[k] = kmeans.inertia_ \n",
        "#Size\n",
        "plt.figure(figsize=(20,10))\n",
        "# Add the plot title, x and y axis labels\n",
        "plt.title('The Elbow Method'); plt.xlabel('k'); plt.ylabel('SSE')\n",
        "\n",
        "# Plot SSE values for each k stored as keys in the dictionary\n",
        "sns.pointplot(x=list(sse.keys()), y=list(sse.values()))\n",
        "plt.show()"
      ],
      "execution_count": 24,
      "outputs": [
        {
          "output_type": "display_data",
          "data": {
            "image/png": "[encoded data removed]",
            "text/plain": [
              "<Figure size 1440x720 with 1 Axes>"
            ]
          },
          "metadata": {
            "tags": [],
            "needs_background": "light"
          }
        }
      ]
    },
    {
      "cell_type": "markdown",
      "metadata": {
        "id": "7wxoaB6xRLnq",
        "colab_type": "text"
      },
      "source": [
        "## Kmeans Clustering\n"
      ]
    },
    {
      "cell_type": "code",
      "metadata": {
        "id": "layeO5klRMwQ",
        "colab_type": "code",
        "colab": {}
      },
      "source": [
        "# Kmeans clustering \n",
        "kmeans_ = KMeans(n_clusters=4, random_state=1).fit(dataset_scaler)"
      ],
      "execution_count": 0,
      "outputs": []
    },
    {
      "cell_type": "code",
      "metadata": {
        "id": "uN7jok-VRyiA",
        "colab_type": "code",
        "outputId": "7a5d5181-c791-4c68-bc87-9ffe38fd3eb6",
        "colab": {
          "base_uri": "https://localhost:8080/",
          "height": 202
        }
      },
      "source": [
        "# Adding cluster label to dataset \n",
        "cluster = dataset_ml.merge(pd.DataFrame(kmeans_.labels_, \n",
        "                                        index=dataset_scaler.index).rename(columns=({0:'cluster_label'})) \n",
        "                                        , right_index=True, left_index=True)\n",
        "# Summary data with cluster label\n",
        "cluster.groupby('cluster_label').mean().T"
      ],
      "execution_count": 26,
      "outputs": [
        {
          "output_type": "execute_result",
          "data": {
            "text/html": [
              "<div>\n",
              "<style scoped>\n",
              "    .dataframe tbody tr th:only-of-type {\n",
              "        vertical-align: middle;\n",
              "    }\n",
              "\n",
              "    .dataframe tbody tr th {\n",
              "        vertical-align: top;\n",
              "    }\n",
              "\n",
              "    .dataframe thead th {\n",
              "        text-align: right;\n",
              "    }\n",
              "</style>\n",
              "<table border=\"1\" class=\"dataframe\">\n",
              "  <thead>\n",
              "    <tr style=\"text-align: right;\">\n",
              "      <th>cluster_label</th>\n",
              "      <th>0</th>\n",
              "      <th>1</th>\n",
              "      <th>2</th>\n",
              "      <th>3</th>\n",
              "    </tr>\n",
              "  </thead>\n",
              "  <tbody>\n",
              "    <tr>\n",
              "      <th>totalVisites</th>\n",
              "      <td>1.208621</td>\n",
              "      <td>1.156533</td>\n",
              "      <td>6.725952</td>\n",
              "      <td>3.215324</td>\n",
              "    </tr>\n",
              "    <tr>\n",
              "      <th>day_diff</th>\n",
              "      <td>1.184241</td>\n",
              "      <td>0.928180</td>\n",
              "      <td>127.056317</td>\n",
              "      <td>15.396491</td>\n",
              "    </tr>\n",
              "    <tr>\n",
              "      <th>days_since_last_seen</th>\n",
              "      <td>243.283234</td>\n",
              "      <td>427.268922</td>\n",
              "      <td>275.580981</td>\n",
              "      <td>327.656665</td>\n",
              "    </tr>\n",
              "    <tr>\n",
              "      <th>transactions</th>\n",
              "      <td>0.000000</td>\n",
              "      <td>0.000000</td>\n",
              "      <td>0.058235</td>\n",
              "      <td>1.150125</td>\n",
              "    </tr>\n",
              "    <tr>\n",
              "      <th>revenue</th>\n",
              "      <td>0.000000</td>\n",
              "      <td>0.000000</td>\n",
              "      <td>5.469030</td>\n",
              "      <td>167.324047</td>\n",
              "    </tr>\n",
              "  </tbody>\n",
              "</table>\n",
              "</div>"
            ],
            "text/plain": [
              "cluster_label                  0           1           2           3\n",
              "totalVisites            1.208621    1.156533    6.725952    3.215324\n",
              "day_diff                1.184241    0.928180  127.056317   15.396491\n",
              "days_since_last_seen  243.283234  427.268922  275.580981  327.656665\n",
              "transactions            0.000000    0.000000    0.058235    1.150125\n",
              "revenue                 0.000000    0.000000    5.469030  167.324047"
            ]
          },
          "metadata": {
            "tags": []
          },
          "execution_count": 26
        }
      ]
    },
    {
      "cell_type": "markdown",
      "metadata": {
        "id": "f4Wk4--VssOz",
        "colab_type": "text"
      },
      "source": [
        "####Cluster Definition\n",
        "\n",
        "---\n",
        " \n",
        "\n",
        "*   0 : New Prospect => Visit website recently by didn't buy anything\n",
        "*   1 : Lost Prospect => Visit website long time ago but didn't buy anything\n",
        "*   2 : Potential Loyalists => making several visits recently and buy \n",
        "*   3 : Champions => Almost buy something everytime they visit the website\n",
        "\n",
        "\n",
        "\n",
        "2 : Potential Loyalists\n",
        "3 : Champions"
      ]
    },
    {
      "cell_type": "code",
      "metadata": {
        "id": "sCsuJxslsRou",
        "colab_type": "code",
        "colab": {}
      },
      "source": [
        "df_cluster=cluster.groupby('cluster_label')['totalVisites'].count().reset_index()\n",
        "df_cluster['cluster_label'].replace({0:'New Prospect ' ,1:'Lost Prospect',2: 'Potential Loyalist' , 3:'Champions'}, inplace=True)\n"
      ],
      "execution_count": 0,
      "outputs": []
    },
    {
      "cell_type": "code",
      "metadata": {
        "id": "wWm1K3zlReCJ",
        "colab_type": "code",
        "outputId": "a85ef30a-66b5-44f1-ccd8-b6d8b90aad0e",
        "colab": {
          "base_uri": "https://localhost:8080/",
          "height": 460
        }
      },
      "source": [
        "\n",
        "plt.figure(figsize=(10,7))\n",
        "sns.barplot(data=df_cluster, y='totalVisites', x='cluster_label')"
      ],
      "execution_count": 37,
      "outputs": [
        {
          "output_type": "execute_result",
          "data": {
            "text/plain": [
              "<matplotlib.axes._subplots.AxesSubplot at 0x7fbfda6c87f0>"
            ]
          },
          "metadata": {
            "tags": []
          },
          "execution_count": 37
        },
        {
          "output_type": "display_data",
          "data": {
            "image/png": "[encoded data removed]",
            "text/plain": [
              "<Figure size 720x504 with 1 Axes>"
            ]
          },
          "metadata": {
            "tags": [],
            "needs_background": "light"
          }
        }
      ]
    },
    {
      "cell_type": "markdown",
      "metadata": {
        "id": "f3vU3-ByUT2K",
        "colab_type": "text"
      },
      "source": [
        "## Dimensional reduction with PCA"
      ]
    },
    {
      "cell_type": "code",
      "metadata": {
        "id": "Cpkq8kPXTGiF",
        "colab_type": "code",
        "outputId": "4476a575-68ef-4b77-ac2d-bd6c979357b2",
        "colab": {
          "base_uri": "https://localhost:8080/",
          "height": 156
        }
      },
      "source": [
        "# Import PCA from sklearn\n",
        "from sklearn.decomposition import PCA\n",
        "\n",
        "# Fit the data with 2 compenent's PCA\n",
        "pca = PCA(n_components=2)\n",
        "print(pca.fit_transform(dataset_ml))\n",
        "print(pca.explained_variance_ratio_)"
      ],
      "execution_count": 0,
      "outputs": [
        {
          "output_type": "stream",
          "text": [
            "[[ 3.59891621e+02  9.65494365e+03]\n",
            " [ 1.93226788e+02  3.76047052e+03]\n",
            " [ 9.34536721e+01  6.52922179e+03]\n",
            " ...\n",
            " [-5.86201017e+01 -1.32228381e+00]\n",
            " [-5.26215671e+01 -1.42858159e+00]\n",
            " [-9.36115530e+01 -7.02213432e-01]]\n",
            "[0.62658298 0.35897002]\n"
          ],
          "name": "stdout"
        }
      ]
    },
    {
      "cell_type": "code",
      "metadata": {
        "id": "oYLG5VUEUn-Z",
        "colab_type": "code",
        "outputId": "c9621384-8032-425b-c988-7a68691d5cc5",
        "colab": {
          "base_uri": "https://localhost:8080/",
          "height": 378
        }
      },
      "source": [
        "pca_data = cluster[['cluster_label']].merge(pd.DataFrame(pca.fit_transform(dataset_ml) , index=dataset_ml.index , columns=['PC1','PC2']), right_index=True, left_index=True )\n",
        "pca_data.head(10)"
      ],
      "execution_count": 0,
      "outputs": [
        {
          "output_type": "execute_result",
          "data": {
            "text/html": [
              "<div>\n",
              "<style scoped>\n",
              "    .dataframe tbody tr th:only-of-type {\n",
              "        vertical-align: middle;\n",
              "    }\n",
              "\n",
              "    .dataframe tbody tr th {\n",
              "        vertical-align: top;\n",
              "    }\n",
              "\n",
              "    .dataframe thead th {\n",
              "        text-align: right;\n",
              "    }\n",
              "</style>\n",
              "<table border=\"1\" class=\"dataframe\">\n",
              "  <thead>\n",
              "    <tr style=\"text-align: right;\">\n",
              "      <th></th>\n",
              "      <th>cluster_label</th>\n",
              "      <th>PC1</th>\n",
              "      <th>PC2</th>\n",
              "    </tr>\n",
              "    <tr>\n",
              "      <th>fullVisitorId</th>\n",
              "      <th></th>\n",
              "      <th></th>\n",
              "      <th></th>\n",
              "    </tr>\n",
              "  </thead>\n",
              "  <tbody>\n",
              "    <tr>\n",
              "      <th>4984366501121503466</th>\n",
              "      <td>0</td>\n",
              "      <td>359.891621</td>\n",
              "      <td>9654.943645</td>\n",
              "    </tr>\n",
              "    <tr>\n",
              "      <th>2402527199731150932</th>\n",
              "      <td>0</td>\n",
              "      <td>193.226788</td>\n",
              "      <td>3760.470521</td>\n",
              "    </tr>\n",
              "    <tr>\n",
              "      <th>6760732402251466726</th>\n",
              "      <td>0</td>\n",
              "      <td>93.453672</td>\n",
              "      <td>6529.221788</td>\n",
              "    </tr>\n",
              "    <tr>\n",
              "      <th>0608915197735218105</th>\n",
              "      <td>0</td>\n",
              "      <td>249.719120</td>\n",
              "      <td>3311.362093</td>\n",
              "    </tr>\n",
              "    <tr>\n",
              "      <th>2074164338647079047</th>\n",
              "      <td>0</td>\n",
              "      <td>-67.355791</td>\n",
              "      <td>225.662458</td>\n",
              "    </tr>\n",
              "    <tr>\n",
              "      <th>7311242886083854158</th>\n",
              "      <td>0</td>\n",
              "      <td>321.970491</td>\n",
              "      <td>7198.512756</td>\n",
              "    </tr>\n",
              "    <tr>\n",
              "      <th>8197879643797712877</th>\n",
              "      <td>0</td>\n",
              "      <td>236.836144</td>\n",
              "      <td>4075.010017</td>\n",
              "    </tr>\n",
              "    <tr>\n",
              "      <th>9089132392240687728</th>\n",
              "      <td>0</td>\n",
              "      <td>315.015417</td>\n",
              "      <td>10045.081237</td>\n",
              "    </tr>\n",
              "    <tr>\n",
              "      <th>9029794295932939024</th>\n",
              "      <td>0</td>\n",
              "      <td>285.574467</td>\n",
              "      <td>7896.391843</td>\n",
              "    </tr>\n",
              "    <tr>\n",
              "      <th>7463172420271311409</th>\n",
              "      <td>0</td>\n",
              "      <td>322.044973</td>\n",
              "      <td>7257.410918</td>\n",
              "    </tr>\n",
              "  </tbody>\n",
              "</table>\n",
              "</div>"
            ],
            "text/plain": [
              "                     cluster_label         PC1           PC2\n",
              "fullVisitorId                                               \n",
              "4984366501121503466              0  359.891621   9654.943645\n",
              "2402527199731150932              0  193.226788   3760.470521\n",
              "6760732402251466726              0   93.453672   6529.221788\n",
              "0608915197735218105              0  249.719120   3311.362093\n",
              "2074164338647079047              0  -67.355791    225.662458\n",
              "7311242886083854158              0  321.970491   7198.512756\n",
              "8197879643797712877              0  236.836144   4075.010017\n",
              "9089132392240687728              0  315.015417  10045.081237\n",
              "9029794295932939024              0  285.574467   7896.391843\n",
              "7463172420271311409              0  322.044973   7257.410918"
            ]
          },
          "metadata": {
            "tags": []
          },
          "execution_count": 63
        }
      ]
    },
    {
      "cell_type": "code",
      "metadata": {
        "id": "zksmsKj6VBXM",
        "colab_type": "code",
        "outputId": "bdf1ac85-f0de-4c22-dac9-807d1667f1db",
        "colab": {
          "base_uri": "https://localhost:8080/",
          "height": 732
        }
      },
      "source": [
        "# Scatterplot PCA componets and Cluster\n",
        "plt.figure(figsize=(12,12)) \n",
        "sns.scatterplot(data=pca_data, x='PC1', y='PC2', hue='cluster_label')"
      ],
      "execution_count": 0,
      "outputs": [
        {
          "output_type": "execute_result",
          "data": {
            "text/plain": [
              "<matplotlib.axes._subplots.AxesSubplot at 0x7f42f61b19b0>"
            ]
          },
          "metadata": {
            "tags": []
          },
          "execution_count": 64
        },
        {
          "output_type": "display_data",
          "data": {
            "image/png": "[encoded data removed]",
            "text/plain": [
              "<Figure size 864x864 with 1 Axes>"
            ]
          },
          "metadata": {
            "tags": [],
            "needs_background": "light"
          }
        }
      ]
    }
  ]
}