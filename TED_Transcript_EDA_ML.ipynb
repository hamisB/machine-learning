{
  "nbformat": 4,
  "nbformat_minor": 0,
  "metadata": {
    "colab": {
      "name": "TED_Transcript_EDA_ML.ipynb",
      "provenance": [],
      "authorship_tag": "ABX9TyNKQe1hlpRhgEa3RPLM6v3J",
      "include_colab_link": true
    },
    "kernelspec": {
      "name": "python3",
      "display_name": "Python 3"
    }
  },
  "cells": [
    {
      "cell_type": "markdown",
      "metadata": {
        "id": "view-in-github",
        "colab_type": "text"
      },
      "source": [
        "<a href=\"https://colab.research.google.com/github/hamisB/machine-learning/blob/master/TED_Transcript_EDA_ML.ipynb\" target=\"_parent\"><img src=\"https://colab.research.google.com/assets/colab-badge.svg\" alt=\"Open In Colab\"/></a>"
      ]
    },
    {
      "cell_type": "markdown",
      "metadata": {
        "id": "850PYwS635Bw",
        "colab_type": "text"
      },
      "source": [
        "## IMPORT LIBRAIRIES & DATASET\n",
        "\n",
        "---\n",
        "\n"
      ]
    },
    {
      "cell_type": "code",
      "metadata": {
        "id": "ceUkEq1_323k",
        "colab_type": "code",
        "colab": {}
      },
      "source": [
        "# import librairies \n",
        "import pandas as pd\n",
        "import numpy as np\n",
        "import matplotlib.pyplot as plt\n",
        "import seaborn as sns\n",
        "sns.set_style(\"whitegrid\")\n",
        "plt.style.use(\"fivethirtyeight\") \n",
        "from datetime import datetime\n",
        "import warnings\n",
        "warnings.filterwarnings(\"ignore\")\n",
        "import ast\n",
        "%matplotlib inline\n",
        "import pandas_profiling as pp\n",
        "import matplotlib.pyplot as plt"
      ],
      "execution_count": 0,
      "outputs": []
    },
    {
      "cell_type": "code",
      "metadata": {
        "id": "pvYfzZCL4P4W",
        "colab_type": "code",
        "colab": {}
      },
      "source": [
        "# Get data\n",
        "data = pd.read_csv('https://storage.googleapis.com/source_market_fr/data_for_ml/ted_main.csv')\n",
        "transcript = pd.read_csv('https://storage.googleapis.com/source_market_fr/data_for_ml/transcripts.csv')"
      ],
      "execution_count": 0,
      "outputs": []
    },
    {
      "cell_type": "code",
      "metadata": {
        "id": "tLS0H3oh4UVV",
        "colab_type": "code",
        "outputId": "215f2cad-e35d-4266-a23d-fef02fc39dbf",
        "colab": {
          "base_uri": "https://localhost:8080/",
          "height": 206
        }
      },
      "source": [
        "# Fixing url as index and merge the two sub dataset\n",
        "data.set_index('url', inplace=True)\n",
        "transcript.set_index('url', inplace=True)\n",
        "dataset = data.merge(transcript , left_index=True, right_index=True)\n",
        "dataset.head(1)"
      ],
      "execution_count": 122,
      "outputs": [
        {
          "output_type": "execute_result",
          "data": {
            "text/html": [
              "<div>\n",
              "<style scoped>\n",
              "    .dataframe tbody tr th:only-of-type {\n",
              "        vertical-align: middle;\n",
              "    }\n",
              "\n",
              "    .dataframe tbody tr th {\n",
              "        vertical-align: top;\n",
              "    }\n",
              "\n",
              "    .dataframe thead th {\n",
              "        text-align: right;\n",
              "    }\n",
              "</style>\n",
              "<table border=\"1\" class=\"dataframe\">\n",
              "  <thead>\n",
              "    <tr style=\"text-align: right;\">\n",
              "      <th></th>\n",
              "      <th>comments</th>\n",
              "      <th>description</th>\n",
              "      <th>duration</th>\n",
              "      <th>event</th>\n",
              "      <th>film_date</th>\n",
              "      <th>languages</th>\n",
              "      <th>main_speaker</th>\n",
              "      <th>name</th>\n",
              "      <th>num_speaker</th>\n",
              "      <th>published_date</th>\n",
              "      <th>ratings</th>\n",
              "      <th>related_talks</th>\n",
              "      <th>speaker_occupation</th>\n",
              "      <th>tags</th>\n",
              "      <th>title</th>\n",
              "      <th>views</th>\n",
              "      <th>transcript</th>\n",
              "    </tr>\n",
              "    <tr>\n",
              "      <th>url</th>\n",
              "      <th></th>\n",
              "      <th></th>\n",
              "      <th></th>\n",
              "      <th></th>\n",
              "      <th></th>\n",
              "      <th></th>\n",
              "      <th></th>\n",
              "      <th></th>\n",
              "      <th></th>\n",
              "      <th></th>\n",
              "      <th></th>\n",
              "      <th></th>\n",
              "      <th></th>\n",
              "      <th></th>\n",
              "      <th></th>\n",
              "      <th></th>\n",
              "      <th></th>\n",
              "    </tr>\n",
              "  </thead>\n",
              "  <tbody>\n",
              "    <tr>\n",
              "      <th>https://www.ted.com/talks/9_11_healing_the_mothers_who_found_forgiveness_friendship\\n</th>\n",
              "      <td>149</td>\n",
              "      <td>Phyllis Rodriguez and Aicha el-Wafi have a pow...</td>\n",
              "      <td>594</td>\n",
              "      <td>TEDWomen 2010</td>\n",
              "      <td>1292112000</td>\n",
              "      <td>32</td>\n",
              "      <td>Aicha el-Wafi + Phyllis Rodriguez</td>\n",
              "      <td>Aicha el-Wafi + Phyllis Rodriguez: The mothers...</td>\n",
              "      <td>1</td>\n",
              "      <td>1304362260</td>\n",
              "      <td>[{'id': 10, 'name': 'Inspiring', 'count': 385}...</td>\n",
              "      <td>[{'id': 968, 'hero': 'https://pe.tedcdn.com/im...</td>\n",
              "      <td>9/11 mothers</td>\n",
              "      <td>['culture', 'friendship', 'global issues', 'pa...</td>\n",
              "      <td>The mothers who found forgiveness, friendship</td>\n",
              "      <td>820976</td>\n",
              "      <td>Phyllis Rodriguez: We are here today because o...</td>\n",
              "    </tr>\n",
              "  </tbody>\n",
              "</table>\n",
              "</div>"
            ],
            "text/plain": [
              "                                                    comments  ...                                         transcript\n",
              "url                                                           ...                                                   \n",
              "https://www.ted.com/talks/9_11_healing_the_moth...       149  ...  Phyllis Rodriguez: We are here today because o...\n",
              "\n",
              "[1 rows x 17 columns]"
            ]
          },
          "metadata": {
            "tags": []
          },
          "execution_count": 122
        }
      ]
    },
    {
      "cell_type": "code",
      "metadata": {
        "id": "wcWNZNaWKx2_",
        "colab_type": "code",
        "outputId": "7565c14e-60ad-4c3c-f9d7-302bc23bf90f",
        "colab": {
          "base_uri": "https://localhost:8080/",
          "height": 440
        }
      },
      "source": [
        "# EDA\n",
        "dataset.info()"
      ],
      "execution_count": 123,
      "outputs": [
        {
          "output_type": "stream",
          "text": [
            "<class 'pandas.core.frame.DataFrame'>\n",
            "Index: 2467 entries, https://www.ted.com/talks/9_11_healing_the_mothers_who_found_forgiveness_friendship\n",
            " to https://www.ted.com/talks/zubaida_bai_a_simple_birth_kit_for_mothers_in_the_developing_world\n",
            "\n",
            "Data columns (total 17 columns):\n",
            " #   Column              Non-Null Count  Dtype \n",
            "---  ------              --------------  ----- \n",
            " 0   comments            2467 non-null   int64 \n",
            " 1   description         2467 non-null   object\n",
            " 2   duration            2467 non-null   int64 \n",
            " 3   event               2467 non-null   object\n",
            " 4   film_date           2467 non-null   int64 \n",
            " 5   languages           2467 non-null   int64 \n",
            " 6   main_speaker        2467 non-null   object\n",
            " 7   name                2467 non-null   object\n",
            " 8   num_speaker         2467 non-null   int64 \n",
            " 9   published_date      2467 non-null   int64 \n",
            " 10  ratings             2467 non-null   object\n",
            " 11  related_talks       2467 non-null   object\n",
            " 12  speaker_occupation  2461 non-null   object\n",
            " 13  tags                2467 non-null   object\n",
            " 14  title               2467 non-null   object\n",
            " 15  views               2467 non-null   int64 \n",
            " 16  transcript          2467 non-null   object\n",
            "dtypes: int64(7), object(10)\n",
            "memory usage: 346.9+ KB\n"
          ],
          "name": "stdout"
        }
      ]
    },
    {
      "cell_type": "markdown",
      "metadata": {
        "id": "NAnARHzdLtgn",
        "colab_type": "text"
      },
      "source": [
        "## TED TALKS TRENDING\n",
        "\n",
        "---\n",
        "\n",
        "\n",
        "\n",
        "---\n",
        "\n"
      ]
    },
    {
      "cell_type": "code",
      "metadata": {
        "id": "TnfLVRLmK97P",
        "colab_type": "code",
        "colab": {}
      },
      "source": [
        "# Convert the columns 'published_date' & 'film_date' to datetime \n",
        "datetime.fromtimestamp(1292112000).strftime(\"%Y-%m-%d \")\n",
        "dataset['published_date_'] = dataset['published_date'].apply( lambda x: datetime.fromtimestamp(x).strftime(\"%Y-%m-%d\"))\n",
        "dataset['film_date_'] = dataset['film_date'].apply( lambda x: datetime.fromtimestamp(x).strftime(\"%Y-%m-%d\"))\n",
        "dataset['published_ym'] = dataset['published_date'].apply( lambda x: datetime.fromtimestamp(x).strftime(\"%Y-%m\"))\n",
        "dataset['film_ym'] = dataset['film_date'].apply( lambda x: datetime.fromtimestamp(x).strftime(\"%Y-%m\"))\n",
        "dataset['published_y'] = dataset['published_date'].apply( lambda x: datetime.fromtimestamp(x).strftime(\"%Y\"))\n",
        "dataset['film_y'] = dataset['film_date'].apply( lambda x: datetime.fromtimestamp(x).strftime(\"%Y\"))"
      ],
      "execution_count": 0,
      "outputs": []
    },
    {
      "cell_type": "code",
      "metadata": {
        "id": "WFMMf5WmL80v",
        "colab_type": "code",
        "outputId": "acf3c227-37b7-499e-9f7d-692b891855a8",
        "colab": {
          "base_uri": "https://localhost:8080/",
          "height": 512
        }
      },
      "source": [
        "# Trend of Ted Talks Film each year\n",
        "plt.figure(figsize=(15,8))\n",
        "sns.countplot(x='film_y', data=dataset.sort_values('film_y', ascending=False))"
      ],
      "execution_count": 125,
      "outputs": [
        {
          "output_type": "execute_result",
          "data": {
            "text/plain": [
              "<matplotlib.axes._subplots.AxesSubplot at 0x7ff27d91b1d0>"
            ]
          },
          "metadata": {
            "tags": []
          },
          "execution_count": 125
        },
        {
          "output_type": "display_data",
          "data": {
            "image/png": "[encoded data removed]",
            "text/plain": [
              "<Figure size 1080x576 with 1 Axes>"
            ]
          },
          "metadata": {
            "tags": [],
            "needs_background": "light"
          }
        }
      ]
    },
    {
      "cell_type": "code",
      "metadata": {
        "id": "unLDH25WNwo8",
        "colab_type": "code",
        "outputId": "7c2ce515-355b-4a27-9aa3-c3f3a8358f94",
        "colab": {
          "base_uri": "https://localhost:8080/",
          "height": 512
        }
      },
      "source": [
        "# Trend of Ted Talks Published each year\n",
        "plt.figure(figsize=(15,8))\n",
        "sns.countplot(x='published_y', data=dataset.sort_values('published_y', ascending=False)) "
      ],
      "execution_count": 126,
      "outputs": [
        {
          "output_type": "execute_result",
          "data": {
            "text/plain": [
              "<matplotlib.axes._subplots.AxesSubplot at 0x7ff27d9812e8>"
            ]
          },
          "metadata": {
            "tags": []
          },
          "execution_count": 126
        },
        {
          "output_type": "display_data",
          "data": {
            "image/png": "[encoded data removed]",
            "text/plain": [
              "<Figure size 1080x576 with 1 Axes>"
            ]
          },
          "metadata": {
            "tags": [],
            "needs_background": "light"
          }
        }
      ]
    },
    {
      "cell_type": "code",
      "metadata": {
        "id": "IAiQ39_MOPnr",
        "colab_type": "code",
        "outputId": "82793941-709e-4a5d-8a04-e881169b3819",
        "colab": {
          "base_uri": "https://localhost:8080/",
          "height": 513
        }
      },
      "source": [
        "# Average duration of Ted Talks over the year \n",
        "plt.figure(figsize=(15,8))\n",
        "sns.barplot(x=\"published_y\", y=\"duration\", data=dataset.groupby('published_y').duration.mean().reset_index().sort_values('published_y') , orient='v')"
      ],
      "execution_count": 127,
      "outputs": [
        {
          "output_type": "execute_result",
          "data": {
            "text/plain": [
              "<matplotlib.axes._subplots.AxesSubplot at 0x7ff2810fb048>"
            ]
          },
          "metadata": {
            "tags": []
          },
          "execution_count": 127
        },
        {
          "output_type": "display_data",
          "data": {
            "image/png": "[encoded data removed]",
            "text/plain": [
              "<Figure size 1080x576 with 1 Axes>"
            ]
          },
          "metadata": {
            "tags": [],
            "needs_background": "light"
          }
        }
      ]
    },
    {
      "cell_type": "code",
      "metadata": {
        "id": "k1pMleFeIeUd",
        "colab_type": "code",
        "outputId": "f3bcfce3-180c-4518-b146-1d530279759e",
        "colab": {
          "base_uri": "https://localhost:8080/",
          "height": 523
        }
      },
      "source": [
        "# Number of view over the year \n",
        "plt.figure(figsize=(15,8))\n",
        "sns.barplot(x=\"published_y\", y=\"views\", data=dataset.groupby('published_y').views.sum().reset_index().sort_values('published_y') , orient='v')"
      ],
      "execution_count": 128,
      "outputs": [
        {
          "output_type": "execute_result",
          "data": {
            "text/plain": [
              "<matplotlib.axes._subplots.AxesSubplot at 0x7ff27d4e45c0>"
            ]
          },
          "metadata": {
            "tags": []
          },
          "execution_count": 128
        },
        {
          "output_type": "display_data",
          "data": {
            "image/png": "[encoded data removed]",
            "text/plain": [
              "<Figure size 1080x576 with 1 Axes>"
            ]
          },
          "metadata": {
            "tags": [],
            "needs_background": "light"
          }
        }
      ]
    },
    {
      "cell_type": "code",
      "metadata": {
        "id": "v-9wzoElGnw-",
        "colab_type": "code",
        "outputId": "1166355b-d662-4af3-e306-c2960a959d1b",
        "colab": {
          "base_uri": "https://localhost:8080/",
          "height": 401
        }
      },
      "source": [
        "# Scatter Plot Duration and Views\n",
        "plt.figure(figsize=(10,10))\n",
        "sns.lmplot(x='duration', y='views', data=dataset)"
      ],
      "execution_count": 129,
      "outputs": [
        {
          "output_type": "execute_result",
          "data": {
            "text/plain": [
              "<seaborn.axisgrid.FacetGrid at 0x7ff27d480c88>"
            ]
          },
          "metadata": {
            "tags": []
          },
          "execution_count": 129
        },
        {
          "output_type": "display_data",
          "data": {
            "text/plain": [
              "<Figure size 720x720 with 0 Axes>"
            ]
          },
          "metadata": {
            "tags": []
          }
        },
        {
          "output_type": "display_data",
          "data": {
            "image/png": "[encoded data removed]",
            "text/plain": [
              "<Figure size 360x360 with 1 Axes>"
            ]
          },
          "metadata": {
            "tags": [],
            "needs_background": "light"
          }
        }
      ]
    },
    {
      "cell_type": "code",
      "metadata": {
        "id": "tv_M-nfBLSwY",
        "colab_type": "code",
        "outputId": "8cb70e08-67c0-4ee5-eeb8-d3cf8869f8aa",
        "colab": {
          "base_uri": "https://localhost:8080/",
          "height": 385
        }
      },
      "source": [
        "# Scatter Plot Comments and Views\n",
        "sns.lmplot(x='comments', y='views', data=dataset)"
      ],
      "execution_count": 130,
      "outputs": [
        {
          "output_type": "execute_result",
          "data": {
            "text/plain": [
              "<seaborn.axisgrid.FacetGrid at 0x7ff27d557c50>"
            ]
          },
          "metadata": {
            "tags": []
          },
          "execution_count": 130
        },
        {
          "output_type": "display_data",
          "data": {
            "image/png": "[encoded data removed]",
            "text/plain": [
              "<Figure size 360x360 with 1 Axes>"
            ]
          },
          "metadata": {
            "tags": [],
            "needs_background": "light"
          }
        }
      ]
    },
    {
      "cell_type": "markdown",
      "metadata": {
        "id": "zBUNRHuzLlPu",
        "colab_type": "text"
      },
      "source": [
        "## TED TALKS RATINGS\n",
        "\n",
        "---\n",
        "\n"
      ]
    },
    {
      "cell_type": "code",
      "metadata": {
        "id": "fywh34rTK_w0",
        "colab_type": "code",
        "outputId": "da7dda4c-5685-4d87-9355-4a5c9d4f180b",
        "colab": {
          "base_uri": "https://localhost:8080/",
          "height": 228
        }
      },
      "source": [
        "# Getting every ratings in columns \n",
        "dataset['ratings'] = dataset['ratings'].apply(lambda x: ast.literal_eval(x))\n",
        "dataset['ratings']"
      ],
      "execution_count": 131,
      "outputs": [
        {
          "output_type": "execute_result",
          "data": {
            "text/plain": [
              "url\n",
              "https://www.ted.com/talks/9_11_healing_the_mothers_who_found_forgiveness_friendship\\n                [{'id': 10, 'name': 'Inspiring', 'count': 385}...\n",
              "https://www.ted.com/talks/a_j_jacobs_year_of_living_biblically\\n                                     [{'id': 22, 'name': 'Fascinating', 'count': 53...\n",
              "https://www.ted.com/talks/a_robot_that_flies_like_a_bird\\n                                           [{'id': 23, 'name': 'Jaw-dropping', 'count': 1...\n",
              "https://www.ted.com/talks/a_ted_speaker_s_worst_nightmare\\n                                          [{'id': 2, 'name': 'Confusing', 'count': 186},...\n",
              "https://www.ted.com/talks/a_whistleblower_you_haven_t_heard\\n                                        [{'id': 23, 'name': 'Jaw-dropping', 'count': 2...\n",
              "                                                                                                                           ...                        \n",
              "https://www.ted.com/talks/zeynep_tufekci_machine_intelligence_makes_human_morals_more_important\\n    [{'id': 21, 'name': 'Unconvincing', 'count': 2...\n",
              "https://www.ted.com/talks/ziauddin_yousafzai_my_daughter_malala\\n                                    [{'id': 1, 'name': 'Beautiful', 'count': 900},...\n",
              "https://www.ted.com/talks/zimchallenge\\n                                                             [{'id': 7, 'name': 'Funny', 'count': 708}, {'i...\n",
              "https://www.ted.com/talks/ziyah_gafic_everyday_objects_tragic_histories\\n                            [{'id': 25, 'name': 'OK', 'count': 94}, {'id':...\n",
              "https://www.ted.com/talks/zubaida_bai_a_simple_birth_kit_for_mothers_in_the_developing_world\\n       [{'id': 8, 'name': 'Informative', 'count': 126...\n",
              "Name: ratings, Length: 2467, dtype: object"
            ]
          },
          "metadata": {
            "tags": []
          },
          "execution_count": 131
        }
      ]
    },
    {
      "cell_type": "code",
      "metadata": {
        "id": "-ICByitGN9dK",
        "colab_type": "code",
        "colab": {}
      },
      "source": [
        "# Get all the ratings in a list \n",
        "rating = []\n",
        "for info in dataset['ratings'].values: \n",
        "    rating.append(info)"
      ],
      "execution_count": 0,
      "outputs": []
    },
    {
      "cell_type": "code",
      "metadata": {
        "id": "m6juVI_IPSNx",
        "colab_type": "code",
        "colab": {}
      },
      "source": [
        "# Get ratings\n",
        "funny = []\n",
        "beautiful = []\n",
        "ingenious = []\n",
        "courageous = []\n",
        "longwinded = []\n",
        "confusing = []\n",
        "informative = []\n",
        "fascinating = []\n",
        "unconvincing = []\n",
        "persuavice = []\n",
        "jaw_droping = []\n",
        "ok = []\n",
        "obnoxious = []\n",
        "inspiring = []\n",
        "\n",
        "for info in rating: \n",
        "    \n",
        "    for x in range(0,14):\n",
        "        \n",
        "        if info[x]['name']=='Funny':\n",
        "            funny.append(info[x]['count'])\n",
        "        \n",
        "        if info[x]['name']=='Beautiful':\n",
        "            beautiful.append(info[x]['count'])        \n",
        "        \n",
        "        if info[x]['name']=='Ingenious':\n",
        "            ingenious.append(info[x]['count'])\n",
        "        \n",
        "        if info[x]['name']=='Courageous':\n",
        "            courageous.append(info[x]['count'])\n",
        "        \n",
        "        if info[x]['name']=='Longwinded':\n",
        "            longwinded.append(info[x]['count'])\n",
        "        \n",
        "        if info[x]['name']=='Confusing':\n",
        "            confusing.append(info[x]['count'])\n",
        "        \n",
        "        if info[x]['name']=='Informative':\n",
        "            informative.append(info[x]['count'])\n",
        "\n",
        "        if info[x]['name']=='Fascinating':\n",
        "            fascinating.append(info[x]['count'])\n",
        "    \n",
        "        if info[x]['name']=='Unconvincing':\n",
        "            unconvincing.append(info[x]['count'])\n",
        "        \n",
        "        if info[x]['name']=='Persuasive':\n",
        "            persuavice.append(info[x]['count'])\n",
        "        \n",
        "        if info[x]['name']=='Jaw-dropping':\n",
        "            jaw_droping.append(info[x]['count'])\n",
        "        \n",
        "        if info[x]['name']=='OK':\n",
        "            ok.append(info[x]['count'])\n",
        "        \n",
        "        if info[x]['name']=='Obnoxious':\n",
        "            obnoxious.append(info[x]['count'])\n",
        "        \n",
        "        if info[x]['name']=='Inspiring':\n",
        "            inspiring.append(info[x]['count'])       \n",
        "        "
      ],
      "execution_count": 0,
      "outputs": []
    },
    {
      "cell_type": "code",
      "metadata": {
        "id": "qyl6K3KPQeER",
        "colab_type": "code",
        "colab": {}
      },
      "source": [
        "# Add more column to the dataFrame\n",
        "dataset['funny'] = funny\n",
        "dataset['beautiful'] = beautiful\n",
        "dataset['ingenious'] = ingenious \n",
        "dataset['courageous'] = courageous\n",
        "dataset['longwinded'] = longwinded\n",
        "dataset['confusing'] = confusing\n",
        "dataset['informative'] = informative\n",
        "dataset['fascinating'] = fascinating\n",
        "dataset['unconvincing'] = unconvincing\n",
        "dataset['persuavice'] = persuavice\n",
        "dataset['jaw_droping'] = jaw_droping\n",
        "dataset['ok'] = ok\n",
        "dataset['obnoxious'] = obnoxious\n",
        "dataset['inspiring'] = inspiring"
      ],
      "execution_count": 0,
      "outputs": []
    },
    {
      "cell_type": "code",
      "metadata": {
        "id": "Eo4fyxXYPp01",
        "colab_type": "code",
        "outputId": "75c09c00-cde2-4ee8-8e69-e62f30788017",
        "colab": {
          "base_uri": "https://localhost:8080/",
          "height": 363
        }
      },
      "source": [
        "# Top most fascinating Ted Talks \n",
        "dataset[['title','fascinating','published_y']].head(10).sort_values('fascinating',ascending=False)"
      ],
      "execution_count": 135,
      "outputs": [
        {
          "output_type": "execute_result",
          "data": {
            "text/html": [
              "<div>\n",
              "<style scoped>\n",
              "    .dataframe tbody tr th:only-of-type {\n",
              "        vertical-align: middle;\n",
              "    }\n",
              "\n",
              "    .dataframe tbody tr th {\n",
              "        vertical-align: top;\n",
              "    }\n",
              "\n",
              "    .dataframe thead th {\n",
              "        text-align: right;\n",
              "    }\n",
              "</style>\n",
              "<table border=\"1\" class=\"dataframe\">\n",
              "  <thead>\n",
              "    <tr style=\"text-align: right;\">\n",
              "      <th></th>\n",
              "      <th>title</th>\n",
              "      <th>fascinating</th>\n",
              "      <th>published_y</th>\n",
              "    </tr>\n",
              "    <tr>\n",
              "      <th>url</th>\n",
              "      <th></th>\n",
              "      <th></th>\n",
              "      <th></th>\n",
              "    </tr>\n",
              "  </thead>\n",
              "  <tbody>\n",
              "    <tr>\n",
              "      <th>https://www.ted.com/talks/aaron_o_connell_making_sense_of_a_visible_quantum_object\\n</th>\n",
              "      <td>Making sense of a visible quantum object</td>\n",
              "      <td>1347</td>\n",
              "      <td>2011</td>\n",
              "    </tr>\n",
              "    <tr>\n",
              "      <th>https://www.ted.com/talks/a_robot_that_flies_like_a_bird\\n</th>\n",
              "      <td>A robot that flies like a bird</td>\n",
              "      <td>1197</td>\n",
              "      <td>2011</td>\n",
              "    </tr>\n",
              "    <tr>\n",
              "      <th>https://www.ted.com/talks/aaron_koblin\\n</th>\n",
              "      <td>Visualizing ourselves ... with crowd-sourced data</td>\n",
              "      <td>618</td>\n",
              "      <td>2011</td>\n",
              "    </tr>\n",
              "    <tr>\n",
              "      <th>https://www.ted.com/talks/a_j_jacobs_year_of_living_biblically\\n</th>\n",
              "      <td>My year of living biblically</td>\n",
              "      <td>531</td>\n",
              "      <td>2008</td>\n",
              "    </tr>\n",
              "    <tr>\n",
              "      <th>https://www.ted.com/talks/a_whistleblower_you_haven_t_heard\\n</th>\n",
              "      <td>A whistleblower you haven't heard</td>\n",
              "      <td>207</td>\n",
              "      <td>2011</td>\n",
              "    </tr>\n",
              "    <tr>\n",
              "      <th>https://www.ted.com/talks/aaron_huey\\n</th>\n",
              "      <td>America's native prisoners of war</td>\n",
              "      <td>129</td>\n",
              "      <td>2010</td>\n",
              "    </tr>\n",
              "    <tr>\n",
              "      <th>https://www.ted.com/talks/aakash_odedra_a_dance_in_a_hurricane_of_paper_wind_and_light\\n</th>\n",
              "      <td>A dance in a hurricane of paper, wind and light</td>\n",
              "      <td>105</td>\n",
              "      <td>2014</td>\n",
              "    </tr>\n",
              "    <tr>\n",
              "      <th>https://www.ted.com/talks/a_ted_speaker_s_worst_nightmare\\n</th>\n",
              "      <td>A TED speaker's worst nightmare</td>\n",
              "      <td>82</td>\n",
              "      <td>2012</td>\n",
              "    </tr>\n",
              "    <tr>\n",
              "      <th>https://www.ted.com/talks/aala_el_khani_what_it_s_like_to_be_a_parent_in_a_war_zone\\n</th>\n",
              "      <td>What it's like to be a parent in a war zone</td>\n",
              "      <td>38</td>\n",
              "      <td>2017</td>\n",
              "    </tr>\n",
              "    <tr>\n",
              "      <th>https://www.ted.com/talks/9_11_healing_the_mothers_who_found_forgiveness_friendship\\n</th>\n",
              "      <td>The mothers who found forgiveness, friendship</td>\n",
              "      <td>26</td>\n",
              "      <td>2011</td>\n",
              "    </tr>\n",
              "  </tbody>\n",
              "</table>\n",
              "</div>"
            ],
            "text/plain": [
              "                                                                                                title  ...  published_y\n",
              "url                                                                                                    ...             \n",
              "https://www.ted.com/talks/aaron_o_connell_makin...           Making sense of a visible quantum object  ...         2011\n",
              "https://www.ted.com/talks/a_robot_that_flies_li...                     A robot that flies like a bird  ...         2011\n",
              "https://www.ted.com/talks/aaron_koblin\\n            Visualizing ourselves ... with crowd-sourced data  ...         2011\n",
              "https://www.ted.com/talks/a_j_jacobs_year_of_li...                       My year of living biblically  ...         2008\n",
              "https://www.ted.com/talks/a_whistleblower_you_h...                  A whistleblower you haven't heard  ...         2011\n",
              "https://www.ted.com/talks/aaron_huey\\n                              America's native prisoners of war  ...         2010\n",
              "https://www.ted.com/talks/aakash_odedra_a_dance...    A dance in a hurricane of paper, wind and light  ...         2014\n",
              "https://www.ted.com/talks/a_ted_speaker_s_worst...                    A TED speaker's worst nightmare  ...         2012\n",
              "https://www.ted.com/talks/aala_el_khani_what_it...        What it's like to be a parent in a war zone  ...         2017\n",
              "https://www.ted.com/talks/9_11_healing_the_moth...      The mothers who found forgiveness, friendship  ...         2011\n",
              "\n",
              "[10 rows x 3 columns]"
            ]
          },
          "metadata": {
            "tags": []
          },
          "execution_count": 135
        }
      ]
    },
    {
      "cell_type": "code",
      "metadata": {
        "id": "Ewp5QOu9RiLk",
        "colab_type": "code",
        "outputId": "451b4935-0e9a-4112-b62f-b3de6f70727c",
        "colab": {
          "base_uri": "https://localhost:8080/",
          "height": 363
        }
      },
      "source": [
        "# Top most beautiful Ted Talks \n",
        "dataset[['title','beautiful','published_y']].head(10).sort_values('beautiful',ascending=False)"
      ],
      "execution_count": 136,
      "outputs": [
        {
          "output_type": "execute_result",
          "data": {
            "text/html": [
              "<div>\n",
              "<style scoped>\n",
              "    .dataframe tbody tr th:only-of-type {\n",
              "        vertical-align: middle;\n",
              "    }\n",
              "\n",
              "    .dataframe tbody tr th {\n",
              "        vertical-align: top;\n",
              "    }\n",
              "\n",
              "    .dataframe thead th {\n",
              "        text-align: right;\n",
              "    }\n",
              "</style>\n",
              "<table border=\"1\" class=\"dataframe\">\n",
              "  <thead>\n",
              "    <tr style=\"text-align: right;\">\n",
              "      <th></th>\n",
              "      <th>title</th>\n",
              "      <th>beautiful</th>\n",
              "      <th>published_y</th>\n",
              "    </tr>\n",
              "    <tr>\n",
              "      <th>url</th>\n",
              "      <th></th>\n",
              "      <th></th>\n",
              "      <th></th>\n",
              "    </tr>\n",
              "  </thead>\n",
              "  <tbody>\n",
              "    <tr>\n",
              "      <th>https://www.ted.com/talks/a_robot_that_flies_like_a_bird\\n</th>\n",
              "      <td>A robot that flies like a bird</td>\n",
              "      <td>630</td>\n",
              "      <td>2011</td>\n",
              "    </tr>\n",
              "    <tr>\n",
              "      <th>https://www.ted.com/talks/aaron_koblin\\n</th>\n",
              "      <td>Visualizing ourselves ... with crowd-sourced data</td>\n",
              "      <td>448</td>\n",
              "      <td>2011</td>\n",
              "    </tr>\n",
              "    <tr>\n",
              "      <th>https://www.ted.com/talks/aakash_odedra_a_dance_in_a_hurricane_of_paper_wind_and_light\\n</th>\n",
              "      <td>A dance in a hurricane of paper, wind and light</td>\n",
              "      <td>423</td>\n",
              "      <td>2014</td>\n",
              "    </tr>\n",
              "    <tr>\n",
              "      <th>https://www.ted.com/talks/a_whistleblower_you_haven_t_heard\\n</th>\n",
              "      <td>A whistleblower you haven't heard</td>\n",
              "      <td>244</td>\n",
              "      <td>2011</td>\n",
              "    </tr>\n",
              "    <tr>\n",
              "      <th>https://www.ted.com/talks/9_11_healing_the_mothers_who_found_forgiveness_friendship\\n</th>\n",
              "      <td>The mothers who found forgiveness, friendship</td>\n",
              "      <td>229</td>\n",
              "      <td>2011</td>\n",
              "    </tr>\n",
              "    <tr>\n",
              "      <th>https://www.ted.com/talks/aaron_huey\\n</th>\n",
              "      <td>America's native prisoners of war</td>\n",
              "      <td>174</td>\n",
              "      <td>2010</td>\n",
              "    </tr>\n",
              "    <tr>\n",
              "      <th>https://www.ted.com/talks/a_ted_speaker_s_worst_nightmare\\n</th>\n",
              "      <td>A TED speaker's worst nightmare</td>\n",
              "      <td>168</td>\n",
              "      <td>2012</td>\n",
              "    </tr>\n",
              "    <tr>\n",
              "      <th>https://www.ted.com/talks/aaron_o_connell_making_sense_of_a_visible_quantum_object\\n</th>\n",
              "      <td>Making sense of a visible quantum object</td>\n",
              "      <td>91</td>\n",
              "      <td>2011</td>\n",
              "    </tr>\n",
              "    <tr>\n",
              "      <th>https://www.ted.com/talks/aala_el_khani_what_it_s_like_to_be_a_parent_in_a_war_zone\\n</th>\n",
              "      <td>What it's like to be a parent in a war zone</td>\n",
              "      <td>70</td>\n",
              "      <td>2017</td>\n",
              "    </tr>\n",
              "    <tr>\n",
              "      <th>https://www.ted.com/talks/a_j_jacobs_year_of_living_biblically\\n</th>\n",
              "      <td>My year of living biblically</td>\n",
              "      <td>50</td>\n",
              "      <td>2008</td>\n",
              "    </tr>\n",
              "  </tbody>\n",
              "</table>\n",
              "</div>"
            ],
            "text/plain": [
              "                                                                                                title  ...  published_y\n",
              "url                                                                                                    ...             \n",
              "https://www.ted.com/talks/a_robot_that_flies_li...                     A robot that flies like a bird  ...         2011\n",
              "https://www.ted.com/talks/aaron_koblin\\n            Visualizing ourselves ... with crowd-sourced data  ...         2011\n",
              "https://www.ted.com/talks/aakash_odedra_a_dance...    A dance in a hurricane of paper, wind and light  ...         2014\n",
              "https://www.ted.com/talks/a_whistleblower_you_h...                  A whistleblower you haven't heard  ...         2011\n",
              "https://www.ted.com/talks/9_11_healing_the_moth...      The mothers who found forgiveness, friendship  ...         2011\n",
              "https://www.ted.com/talks/aaron_huey\\n                              America's native prisoners of war  ...         2010\n",
              "https://www.ted.com/talks/a_ted_speaker_s_worst...                    A TED speaker's worst nightmare  ...         2012\n",
              "https://www.ted.com/talks/aaron_o_connell_makin...           Making sense of a visible quantum object  ...         2011\n",
              "https://www.ted.com/talks/aala_el_khani_what_it...        What it's like to be a parent in a war zone  ...         2017\n",
              "https://www.ted.com/talks/a_j_jacobs_year_of_li...                       My year of living biblically  ...         2008\n",
              "\n",
              "[10 rows x 3 columns]"
            ]
          },
          "metadata": {
            "tags": []
          },
          "execution_count": 136
        }
      ]
    },
    {
      "cell_type": "code",
      "metadata": {
        "id": "_FfQgshcMDmI",
        "colab_type": "code",
        "outputId": "f8d438fd-e154-417f-d0e6-a945cd5b47fd",
        "colab": {
          "base_uri": "https://localhost:8080/",
          "height": 363
        }
      },
      "source": [
        "\n",
        "# Top most beautiful Ted Talks \n",
        "dataset[['title','inspiring','published_y']].head(10).sort_values('inspiring',ascending=False)\n"
      ],
      "execution_count": 137,
      "outputs": [
        {
          "output_type": "execute_result",
          "data": {
            "text/html": [
              "<div>\n",
              "<style scoped>\n",
              "    .dataframe tbody tr th:only-of-type {\n",
              "        vertical-align: middle;\n",
              "    }\n",
              "\n",
              "    .dataframe tbody tr th {\n",
              "        vertical-align: top;\n",
              "    }\n",
              "\n",
              "    .dataframe thead th {\n",
              "        text-align: right;\n",
              "    }\n",
              "</style>\n",
              "<table border=\"1\" class=\"dataframe\">\n",
              "  <thead>\n",
              "    <tr style=\"text-align: right;\">\n",
              "      <th></th>\n",
              "      <th>title</th>\n",
              "      <th>inspiring</th>\n",
              "      <th>published_y</th>\n",
              "    </tr>\n",
              "    <tr>\n",
              "      <th>url</th>\n",
              "      <th></th>\n",
              "      <th></th>\n",
              "      <th></th>\n",
              "    </tr>\n",
              "  </thead>\n",
              "  <tbody>\n",
              "    <tr>\n",
              "      <th>https://www.ted.com/talks/a_robot_that_flies_like_a_bird\\n</th>\n",
              "      <td>A robot that flies like a bird</td>\n",
              "      <td>721</td>\n",
              "      <td>2011</td>\n",
              "    </tr>\n",
              "    <tr>\n",
              "      <th>https://www.ted.com/talks/aaron_huey\\n</th>\n",
              "      <td>America's native prisoners of war</td>\n",
              "      <td>618</td>\n",
              "      <td>2010</td>\n",
              "    </tr>\n",
              "    <tr>\n",
              "      <th>https://www.ted.com/talks/aaron_koblin\\n</th>\n",
              "      <td>Visualizing ourselves ... with crowd-sourced data</td>\n",
              "      <td>570</td>\n",
              "      <td>2011</td>\n",
              "    </tr>\n",
              "    <tr>\n",
              "      <th>https://www.ted.com/talks/a_j_jacobs_year_of_living_biblically\\n</th>\n",
              "      <td>My year of living biblically</td>\n",
              "      <td>422</td>\n",
              "      <td>2008</td>\n",
              "    </tr>\n",
              "    <tr>\n",
              "      <th>https://www.ted.com/talks/9_11_healing_the_mothers_who_found_forgiveness_friendship\\n</th>\n",
              "      <td>The mothers who found forgiveness, friendship</td>\n",
              "      <td>385</td>\n",
              "      <td>2011</td>\n",
              "    </tr>\n",
              "    <tr>\n",
              "      <th>https://www.ted.com/talks/aaron_o_connell_making_sense_of_a_visible_quantum_object\\n</th>\n",
              "      <td>Making sense of a visible quantum object</td>\n",
              "      <td>261</td>\n",
              "      <td>2011</td>\n",
              "    </tr>\n",
              "    <tr>\n",
              "      <th>https://www.ted.com/talks/aala_el_khani_what_it_s_like_to_be_a_parent_in_a_war_zone\\n</th>\n",
              "      <td>What it's like to be a parent in a war zone</td>\n",
              "      <td>160</td>\n",
              "      <td>2017</td>\n",
              "    </tr>\n",
              "    <tr>\n",
              "      <th>https://www.ted.com/talks/aakash_odedra_a_dance_in_a_hurricane_of_paper_wind_and_light\\n</th>\n",
              "      <td>A dance in a hurricane of paper, wind and light</td>\n",
              "      <td>89</td>\n",
              "      <td>2014</td>\n",
              "    </tr>\n",
              "    <tr>\n",
              "      <th>https://www.ted.com/talks/a_whistleblower_you_haven_t_heard\\n</th>\n",
              "      <td>A whistleblower you haven't heard</td>\n",
              "      <td>83</td>\n",
              "      <td>2011</td>\n",
              "    </tr>\n",
              "    <tr>\n",
              "      <th>https://www.ted.com/talks/a_ted_speaker_s_worst_nightmare\\n</th>\n",
              "      <td>A TED speaker's worst nightmare</td>\n",
              "      <td>65</td>\n",
              "      <td>2012</td>\n",
              "    </tr>\n",
              "  </tbody>\n",
              "</table>\n",
              "</div>"
            ],
            "text/plain": [
              "                                                                                                title  ...  published_y\n",
              "url                                                                                                    ...             \n",
              "https://www.ted.com/talks/a_robot_that_flies_li...                     A robot that flies like a bird  ...         2011\n",
              "https://www.ted.com/talks/aaron_huey\\n                              America's native prisoners of war  ...         2010\n",
              "https://www.ted.com/talks/aaron_koblin\\n            Visualizing ourselves ... with crowd-sourced data  ...         2011\n",
              "https://www.ted.com/talks/a_j_jacobs_year_of_li...                       My year of living biblically  ...         2008\n",
              "https://www.ted.com/talks/9_11_healing_the_moth...      The mothers who found forgiveness, friendship  ...         2011\n",
              "https://www.ted.com/talks/aaron_o_connell_makin...           Making sense of a visible quantum object  ...         2011\n",
              "https://www.ted.com/talks/aala_el_khani_what_it...        What it's like to be a parent in a war zone  ...         2017\n",
              "https://www.ted.com/talks/aakash_odedra_a_dance...    A dance in a hurricane of paper, wind and light  ...         2014\n",
              "https://www.ted.com/talks/a_whistleblower_you_h...                  A whistleblower you haven't heard  ...         2011\n",
              "https://www.ted.com/talks/a_ted_speaker_s_worst...                    A TED speaker's worst nightmare  ...         2012\n",
              "\n",
              "[10 rows x 3 columns]"
            ]
          },
          "metadata": {
            "tags": []
          },
          "execution_count": 137
        }
      ]
    },
    {
      "cell_type": "code",
      "metadata": {
        "id": "xB3uV_coVW6R",
        "colab_type": "code",
        "outputId": "1fa7f0ba-aae6-471c-f087-46106a29a313",
        "colab": {
          "base_uri": "https://localhost:8080/",
          "height": 240
        }
      },
      "source": [
        "# Prepare dataset for PCA Analysis\n",
        "pca_df = dataset[['funny','beautiful','ingenious','courageous','longwinded','confusing','informative','fascinating','unconvincing','persuavice','jaw_droping','ok','obnoxious','inspiring']]\n",
        "pca_df.head()"
      ],
      "execution_count": 138,
      "outputs": [
        {
          "output_type": "execute_result",
          "data": {
            "text/html": [
              "<div>\n",
              "<style scoped>\n",
              "    .dataframe tbody tr th:only-of-type {\n",
              "        vertical-align: middle;\n",
              "    }\n",
              "\n",
              "    .dataframe tbody tr th {\n",
              "        vertical-align: top;\n",
              "    }\n",
              "\n",
              "    .dataframe thead th {\n",
              "        text-align: right;\n",
              "    }\n",
              "</style>\n",
              "<table border=\"1\" class=\"dataframe\">\n",
              "  <thead>\n",
              "    <tr style=\"text-align: right;\">\n",
              "      <th></th>\n",
              "      <th>funny</th>\n",
              "      <th>beautiful</th>\n",
              "      <th>ingenious</th>\n",
              "      <th>courageous</th>\n",
              "      <th>longwinded</th>\n",
              "      <th>confusing</th>\n",
              "      <th>informative</th>\n",
              "      <th>fascinating</th>\n",
              "      <th>unconvincing</th>\n",
              "      <th>persuavice</th>\n",
              "      <th>jaw_droping</th>\n",
              "      <th>ok</th>\n",
              "      <th>obnoxious</th>\n",
              "      <th>inspiring</th>\n",
              "    </tr>\n",
              "    <tr>\n",
              "      <th>url</th>\n",
              "      <th></th>\n",
              "      <th></th>\n",
              "      <th></th>\n",
              "      <th></th>\n",
              "      <th></th>\n",
              "      <th></th>\n",
              "      <th></th>\n",
              "      <th></th>\n",
              "      <th></th>\n",
              "      <th></th>\n",
              "      <th></th>\n",
              "      <th></th>\n",
              "      <th></th>\n",
              "      <th></th>\n",
              "    </tr>\n",
              "  </thead>\n",
              "  <tbody>\n",
              "    <tr>\n",
              "      <th>https://www.ted.com/talks/9_11_healing_the_mothers_who_found_forgiveness_friendship\\n</th>\n",
              "      <td>2</td>\n",
              "      <td>229</td>\n",
              "      <td>10</td>\n",
              "      <td>338</td>\n",
              "      <td>7</td>\n",
              "      <td>8</td>\n",
              "      <td>24</td>\n",
              "      <td>26</td>\n",
              "      <td>25</td>\n",
              "      <td>30</td>\n",
              "      <td>37</td>\n",
              "      <td>20</td>\n",
              "      <td>13</td>\n",
              "      <td>385</td>\n",
              "    </tr>\n",
              "    <tr>\n",
              "      <th>https://www.ted.com/talks/a_j_jacobs_year_of_living_biblically\\n</th>\n",
              "      <td>936</td>\n",
              "      <td>50</td>\n",
              "      <td>250</td>\n",
              "      <td>345</td>\n",
              "      <td>105</td>\n",
              "      <td>52</td>\n",
              "      <td>376</td>\n",
              "      <td>531</td>\n",
              "      <td>150</td>\n",
              "      <td>130</td>\n",
              "      <td>45</td>\n",
              "      <td>219</td>\n",
              "      <td>116</td>\n",
              "      <td>422</td>\n",
              "    </tr>\n",
              "    <tr>\n",
              "      <th>https://www.ted.com/talks/a_robot_that_flies_like_a_bird\\n</th>\n",
              "      <td>110</td>\n",
              "      <td>630</td>\n",
              "      <td>1333</td>\n",
              "      <td>59</td>\n",
              "      <td>24</td>\n",
              "      <td>16</td>\n",
              "      <td>260</td>\n",
              "      <td>1197</td>\n",
              "      <td>20</td>\n",
              "      <td>73</td>\n",
              "      <td>1487</td>\n",
              "      <td>119</td>\n",
              "      <td>13</td>\n",
              "      <td>721</td>\n",
              "    </tr>\n",
              "    <tr>\n",
              "      <th>https://www.ted.com/talks/a_ted_speaker_s_worst_nightmare\\n</th>\n",
              "      <td>1423</td>\n",
              "      <td>168</td>\n",
              "      <td>211</td>\n",
              "      <td>69</td>\n",
              "      <td>34</td>\n",
              "      <td>186</td>\n",
              "      <td>12</td>\n",
              "      <td>82</td>\n",
              "      <td>103</td>\n",
              "      <td>9</td>\n",
              "      <td>81</td>\n",
              "      <td>170</td>\n",
              "      <td>221</td>\n",
              "      <td>65</td>\n",
              "    </tr>\n",
              "    <tr>\n",
              "      <th>https://www.ted.com/talks/a_whistleblower_you_haven_t_heard\\n</th>\n",
              "      <td>175</td>\n",
              "      <td>244</td>\n",
              "      <td>49</td>\n",
              "      <td>14</td>\n",
              "      <td>38</td>\n",
              "      <td>4</td>\n",
              "      <td>4</td>\n",
              "      <td>207</td>\n",
              "      <td>11</td>\n",
              "      <td>5</td>\n",
              "      <td>216</td>\n",
              "      <td>44</td>\n",
              "      <td>30</td>\n",
              "      <td>83</td>\n",
              "    </tr>\n",
              "  </tbody>\n",
              "</table>\n",
              "</div>"
            ],
            "text/plain": [
              "                                                    funny  ...  inspiring\n",
              "url                                                        ...           \n",
              "https://www.ted.com/talks/9_11_healing_the_moth...      2  ...        385\n",
              "https://www.ted.com/talks/a_j_jacobs_year_of_li...    936  ...        422\n",
              "https://www.ted.com/talks/a_robot_that_flies_li...    110  ...        721\n",
              "https://www.ted.com/talks/a_ted_speaker_s_worst...   1423  ...         65\n",
              "https://www.ted.com/talks/a_whistleblower_you_h...    175  ...         83\n",
              "\n",
              "[5 rows x 14 columns]"
            ]
          },
          "metadata": {
            "tags": []
          },
          "execution_count": 138
        }
      ]
    },
    {
      "cell_type": "code",
      "metadata": {
        "id": "g2-NslKrYGG2",
        "colab_type": "code",
        "colab": {}
      },
      "source": [
        "from sklearn.decomposition import PCA\n",
        "from sklearn.preprocessing import StandardScaler\n",
        "scaler = StandardScaler()\n",
        "pca_scaler = scaler.fit_transform(pca_df)"
      ],
      "execution_count": 0,
      "outputs": []
    },
    {
      "cell_type": "code",
      "metadata": {
        "id": "wOnSC1q7X9Mw",
        "colab_type": "code",
        "outputId": "fb39b05e-0fe0-4855-e278-a775121c7017",
        "colab": {
          "base_uri": "https://localhost:8080/",
          "height": 147
        }
      },
      "source": [
        "pca = PCA(n_components=2)\n",
        "print(pca.fit_transform(pca_scaler))\n",
        "print(pca.explained_variance_ratio_)"
      ],
      "execution_count": 140,
      "outputs": [
        {
          "output_type": "stream",
          "text": [
            "[[-1.19800055 -0.37866619]\n",
            " [ 2.09452702  2.23693174]\n",
            " [ 1.99392064 -1.98781869]\n",
            " ...\n",
            " [ 1.06147089  1.33562299]\n",
            " [-1.24170786 -0.16214179]\n",
            " [-1.61223497 -0.58437902]]\n",
            "[0.46510307 0.14948046]\n"
          ],
          "name": "stdout"
        }
      ]
    },
    {
      "cell_type": "code",
      "metadata": {
        "id": "5xPJx--eYzzV",
        "colab_type": "code",
        "outputId": "30cc3326-3424-40d9-e96e-6ab45a115053",
        "colab": {
          "base_uri": "https://localhost:8080/",
          "height": 105
        }
      },
      "source": [
        "# Components explaination\n",
        "pd.DataFrame(pca.components_, columns=pca_df.columns)"
      ],
      "execution_count": 141,
      "outputs": [
        {
          "output_type": "execute_result",
          "data": {
            "text/html": [
              "<div>\n",
              "<style scoped>\n",
              "    .dataframe tbody tr th:only-of-type {\n",
              "        vertical-align: middle;\n",
              "    }\n",
              "\n",
              "    .dataframe tbody tr th {\n",
              "        vertical-align: top;\n",
              "    }\n",
              "\n",
              "    .dataframe thead th {\n",
              "        text-align: right;\n",
              "    }\n",
              "</style>\n",
              "<table border=\"1\" class=\"dataframe\">\n",
              "  <thead>\n",
              "    <tr style=\"text-align: right;\">\n",
              "      <th></th>\n",
              "      <th>funny</th>\n",
              "      <th>beautiful</th>\n",
              "      <th>ingenious</th>\n",
              "      <th>courageous</th>\n",
              "      <th>longwinded</th>\n",
              "      <th>confusing</th>\n",
              "      <th>informative</th>\n",
              "      <th>fascinating</th>\n",
              "      <th>unconvincing</th>\n",
              "      <th>persuavice</th>\n",
              "      <th>jaw_droping</th>\n",
              "      <th>ok</th>\n",
              "      <th>obnoxious</th>\n",
              "      <th>inspiring</th>\n",
              "    </tr>\n",
              "  </thead>\n",
              "  <tbody>\n",
              "    <tr>\n",
              "      <th>0</th>\n",
              "      <td>0.228043</td>\n",
              "      <td>0.246648</td>\n",
              "      <td>0.257559</td>\n",
              "      <td>0.244613</td>\n",
              "      <td>0.262888</td>\n",
              "      <td>0.239477</td>\n",
              "      <td>0.312262</td>\n",
              "      <td>0.334283</td>\n",
              "      <td>0.202594</td>\n",
              "      <td>0.317825</td>\n",
              "      <td>0.212144</td>\n",
              "      <td>0.301954</td>\n",
              "      <td>0.192583</td>\n",
              "      <td>0.331588</td>\n",
              "    </tr>\n",
              "    <tr>\n",
              "      <th>1</th>\n",
              "      <td>-0.110653</td>\n",
              "      <td>-0.212242</td>\n",
              "      <td>-0.189091</td>\n",
              "      <td>-0.135294</td>\n",
              "      <td>0.301948</td>\n",
              "      <td>0.391623</td>\n",
              "      <td>-0.145605</td>\n",
              "      <td>-0.196237</td>\n",
              "      <td>0.500162</td>\n",
              "      <td>-0.091526</td>\n",
              "      <td>-0.183595</td>\n",
              "      <td>0.135243</td>\n",
              "      <td>0.479833</td>\n",
              "      <td>-0.208860</td>\n",
              "    </tr>\n",
              "  </tbody>\n",
              "</table>\n",
              "</div>"
            ],
            "text/plain": [
              "      funny  beautiful  ingenious  ...        ok  obnoxious  inspiring\n",
              "0  0.228043   0.246648   0.257559  ...  0.301954   0.192583   0.331588\n",
              "1 -0.110653  -0.212242  -0.189091  ...  0.135243   0.479833  -0.208860\n",
              "\n",
              "[2 rows x 14 columns]"
            ]
          },
          "metadata": {
            "tags": []
          },
          "execution_count": 141
        }
      ]
    },
    {
      "cell_type": "code",
      "metadata": {
        "id": "rGgRY3npZnG6",
        "colab_type": "code",
        "outputId": "52c9a0cd-27d8-4aac-94bb-dad811a60e13",
        "colab": {
          "base_uri": "https://localhost:8080/",
          "height": 363
        }
      },
      "source": [
        "# Fit a PCA with 2 components\n",
        "pca_data = dataset[['title']].merge(pd.DataFrame(pca.fit_transform(pca_scaler) , index=dataset.index , columns=['PC1','PC2']), right_index=True, left_index=True )\n",
        "pca_data.head(10)"
      ],
      "execution_count": 142,
      "outputs": [
        {
          "output_type": "execute_result",
          "data": {
            "text/html": [
              "<div>\n",
              "<style scoped>\n",
              "    .dataframe tbody tr th:only-of-type {\n",
              "        vertical-align: middle;\n",
              "    }\n",
              "\n",
              "    .dataframe tbody tr th {\n",
              "        vertical-align: top;\n",
              "    }\n",
              "\n",
              "    .dataframe thead th {\n",
              "        text-align: right;\n",
              "    }\n",
              "</style>\n",
              "<table border=\"1\" class=\"dataframe\">\n",
              "  <thead>\n",
              "    <tr style=\"text-align: right;\">\n",
              "      <th></th>\n",
              "      <th>title</th>\n",
              "      <th>PC1</th>\n",
              "      <th>PC2</th>\n",
              "    </tr>\n",
              "    <tr>\n",
              "      <th>url</th>\n",
              "      <th></th>\n",
              "      <th></th>\n",
              "      <th></th>\n",
              "    </tr>\n",
              "  </thead>\n",
              "  <tbody>\n",
              "    <tr>\n",
              "      <th>https://www.ted.com/talks/9_11_healing_the_mothers_who_found_forgiveness_friendship\\n</th>\n",
              "      <td>The mothers who found forgiveness, friendship</td>\n",
              "      <td>-1.198001</td>\n",
              "      <td>-0.378666</td>\n",
              "    </tr>\n",
              "    <tr>\n",
              "      <th>https://www.ted.com/talks/a_j_jacobs_year_of_living_biblically\\n</th>\n",
              "      <td>My year of living biblically</td>\n",
              "      <td>2.094527</td>\n",
              "      <td>2.236934</td>\n",
              "    </tr>\n",
              "    <tr>\n",
              "      <th>https://www.ted.com/talks/a_robot_that_flies_like_a_bird\\n</th>\n",
              "      <td>A robot that flies like a bird</td>\n",
              "      <td>1.993921</td>\n",
              "      <td>-1.987822</td>\n",
              "    </tr>\n",
              "    <tr>\n",
              "      <th>https://www.ted.com/talks/a_ted_speaker_s_worst_nightmare\\n</th>\n",
              "      <td>A TED speaker's worst nightmare</td>\n",
              "      <td>2.221444</td>\n",
              "      <td>4.268753</td>\n",
              "    </tr>\n",
              "    <tr>\n",
              "      <th>https://www.ted.com/talks/a_whistleblower_you_haven_t_heard\\n</th>\n",
              "      <td>A whistleblower you haven't heard</td>\n",
              "      <td>-0.936729</td>\n",
              "      <td>-0.110927</td>\n",
              "    </tr>\n",
              "    <tr>\n",
              "      <th>https://www.ted.com/talks/aakash_odedra_a_dance_in_a_hurricane_of_paper_wind_and_light\\n</th>\n",
              "      <td>A dance in a hurricane of paper, wind and light</td>\n",
              "      <td>-0.489795</td>\n",
              "      <td>0.572196</td>\n",
              "    </tr>\n",
              "    <tr>\n",
              "      <th>https://www.ted.com/talks/aala_el_khani_what_it_s_like_to_be_a_parent_in_a_war_zone\\n</th>\n",
              "      <td>What it's like to be a parent in a war zone</td>\n",
              "      <td>-1.430026</td>\n",
              "      <td>-0.499679</td>\n",
              "    </tr>\n",
              "    <tr>\n",
              "      <th>https://www.ted.com/talks/aaron_huey\\n</th>\n",
              "      <td>America's native prisoners of war</td>\n",
              "      <td>1.255492</td>\n",
              "      <td>-0.519828</td>\n",
              "    </tr>\n",
              "    <tr>\n",
              "      <th>https://www.ted.com/talks/aaron_koblin\\n</th>\n",
              "      <td>Visualizing ourselves ... with crowd-sourced data</td>\n",
              "      <td>0.393316</td>\n",
              "      <td>-0.246796</td>\n",
              "    </tr>\n",
              "    <tr>\n",
              "      <th>https://www.ted.com/talks/aaron_o_connell_making_sense_of_a_visible_quantum_object\\n</th>\n",
              "      <td>Making sense of a visible quantum object</td>\n",
              "      <td>2.282397</td>\n",
              "      <td>2.024539</td>\n",
              "    </tr>\n",
              "  </tbody>\n",
              "</table>\n",
              "</div>"
            ],
            "text/plain": [
              "                                                                                                title  ...       PC2\n",
              "url                                                                                                    ...          \n",
              "https://www.ted.com/talks/9_11_healing_the_moth...      The mothers who found forgiveness, friendship  ... -0.378666\n",
              "https://www.ted.com/talks/a_j_jacobs_year_of_li...                       My year of living biblically  ...  2.236934\n",
              "https://www.ted.com/talks/a_robot_that_flies_li...                     A robot that flies like a bird  ... -1.987822\n",
              "https://www.ted.com/talks/a_ted_speaker_s_worst...                    A TED speaker's worst nightmare  ...  4.268753\n",
              "https://www.ted.com/talks/a_whistleblower_you_h...                  A whistleblower you haven't heard  ... -0.110927\n",
              "https://www.ted.com/talks/aakash_odedra_a_dance...    A dance in a hurricane of paper, wind and light  ...  0.572196\n",
              "https://www.ted.com/talks/aala_el_khani_what_it...        What it's like to be a parent in a war zone  ... -0.499679\n",
              "https://www.ted.com/talks/aaron_huey\\n                              America's native prisoners of war  ... -0.519828\n",
              "https://www.ted.com/talks/aaron_koblin\\n            Visualizing ourselves ... with crowd-sourced data  ... -0.246796\n",
              "https://www.ted.com/talks/aaron_o_connell_makin...           Making sense of a visible quantum object  ...  2.024539\n",
              "\n",
              "[10 rows x 3 columns]"
            ]
          },
          "metadata": {
            "tags": []
          },
          "execution_count": 142
        }
      ]
    },
    {
      "cell_type": "code",
      "metadata": {
        "id": "5ZGGgy9fqnUI",
        "colab_type": "code",
        "outputId": "331f3b8b-2c99-45c1-aa25-643e658eb808",
        "colab": {
          "base_uri": "https://localhost:8080/",
          "height": 730
        }
      },
      "source": [
        "# Scatterplot PCA componets and Cluster\n",
        "plt.figure(figsize=(12,12)) \n",
        "sns.scatterplot(data=pca_data, x='PC1', y='PC2')"
      ],
      "execution_count": 143,
      "outputs": [
        {
          "output_type": "execute_result",
          "data": {
            "text/plain": [
              "<matplotlib.axes._subplots.AxesSubplot at 0x7ff27c356470>"
            ]
          },
          "metadata": {
            "tags": []
          },
          "execution_count": 143
        },
        {
          "output_type": "display_data",
          "data": {
            "image/png": "[encoded data removed]",
            "text/plain": [
              "<Figure size 864x864 with 1 Axes>"
            ]
          },
          "metadata": {
            "tags": [],
            "needs_background": "light"
          }
        }
      ]
    },
    {
      "cell_type": "code",
      "metadata": {
        "id": "fG-4mHdormPt",
        "colab_type": "code",
        "colab": {}
      },
      "source": [
        ""
      ],
      "execution_count": 0,
      "outputs": []
    }
  ]
}