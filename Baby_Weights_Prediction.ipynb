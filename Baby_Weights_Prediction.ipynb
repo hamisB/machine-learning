{
  "nbformat": 4,
  "nbformat_minor": 0,
  "metadata": {
    "colab": {
      "name": "Baby_Weights_Prediction.ipynb",
      "provenance": [],
      "authorship_tag": "ABX9TyPI7WiTI1XSq707HO3uxsnE",
      "include_colab_link": true
    },
    "kernelspec": {
      "name": "python3",
      "display_name": "Python 3"
    }
  },
  "cells": [
    {
      "cell_type": "markdown",
      "metadata": {
        "id": "view-in-github",
        "colab_type": "text"
      },
      "source": [
        "<a href=\"https://colab.research.google.com/github/hamisB/machine-learning/blob/master/Baby_Weights_Prediction.ipynb\" target=\"_parent\"><img src=\"https://colab.research.google.com/assets/colab-badge.svg\" alt=\"Open In Colab\"/></a>"
      ]
    },
    {
      "cell_type": "markdown",
      "metadata": {
        "id": "5bjCWdEieWXF",
        "colab_type": "text"
      },
      "source": [
        "### Import Packages & Data \n",
        "\n"
      ]
    },
    {
      "cell_type": "code",
      "metadata": {
        "id": "6QLUuzjfeL5M",
        "colab_type": "code",
        "outputId": "445fc15e-c38a-418b-c4a3-ac2247a8a5e1",
        "colab": {
          "base_uri": "https://localhost:8080/",
          "height": 52
        }
      },
      "source": [
        "# Import Packages\n",
        "import pandas as pd\n",
        "import numpy as np\n",
        "import matplotlib.pyplot as plt\n",
        "import seaborn as sns\n",
        "%matplotlib inline\n",
        "import pandas_profiling as pp\n",
        "import matplotlib.pyplot as plt"
      ],
      "execution_count": 0,
      "outputs": [
        {
          "output_type": "stream",
          "text": [
            "/usr/local/lib/python3.6/dist-packages/statsmodels/tools/_testing.py:19: FutureWarning: pandas.util.testing is deprecated. Use the functions in the public API at pandas.testing instead.\n",
            "  import pandas.util.testing as tm\n"
          ],
          "name": "stderr"
        }
      ]
    },
    {
      "cell_type": "code",
      "metadata": {
        "id": "xh4LSM77eTYB",
        "colab_type": "code",
        "colab": {}
      },
      "source": [
        "# Import Data from BigQuery \n",
        "data = pd.io.gbq.read_gbq(\n",
        "'''\n",
        "SELECT\n",
        "  source_year,\n",
        "  is_male,\n",
        "  ROUND(weight_pounds * 0.453592,2) as weightbabykg,\n",
        "  plurality,\n",
        "  CASE \n",
        "     WHEN mother_race=1 THEN \"White\" \n",
        "     WHEN mother_race=2 THEN \"Black\" \n",
        "     WHEN mother_race=3 THEN \"American Indian\" \n",
        "     WHEN mother_race=4 THEN \"Chinese\" \n",
        "     WHEN mother_race=5 THEN \"Japanese\" \n",
        "     WHEN mother_race=6 THEN \"Hawaiian\"\n",
        "     WHEN mother_race=7 THEN \"Filipino\"\n",
        "     WHEN mother_race=18 THEN \"Asian Indian\"\n",
        "     WHEN mother_race=28 THEN \"Korean\"\n",
        "     WHEN mother_race=39 THEN \"Samoan\"\n",
        "     WHEN mother_race=48 THEN \"Vietnamese\"     \n",
        "    ELSE \"Unknown/Other\" END AS mother_race,\n",
        "  mother_age,\n",
        "  gestation_weeks,\n",
        "  mother_married,\n",
        "  cigarette_use,\n",
        "  alcohol_use,\n",
        "  ROUND(weight_gain_pounds * 0.453592,2) as mother_weight,\n",
        "  ever_born,\n",
        "    CASE \n",
        "     WHEN father_race=1 THEN \"White\" \n",
        "     WHEN father_race=2 THEN \"Black\" \n",
        "     WHEN father_race=3 THEN \"American Indian\" \n",
        "     WHEN father_race=4 THEN \"Chinese\" \n",
        "     WHEN father_race=5 THEN \"Japanese\" \n",
        "     WHEN father_race=6 THEN \"Hawaiian\"\n",
        "     WHEN father_race=7 THEN \"Filipino\"\n",
        "     WHEN father_race=18 THEN \"Asian Indian\"\n",
        "     WHEN father_race=28 THEN \"Korean\"\n",
        "     WHEN father_race=39 THEN \"Samoan\"\n",
        "     WHEN father_race=48 THEN \"Vietnamese\"     \n",
        "    ELSE \"Unknown/Other\" END AS father_race,\n",
        "  father_age\n",
        "FROM\n",
        "  `bigquery-public-data.samples.natality`\n",
        "WHERE\n",
        "  source_year = 2008 AND mother_race is not null AND weight_pounds is not null\n",
        "  LIMIT 150000\n",
        "\n",
        "'''\n",
        ", project_id=\"t-water-211708\", dialect='standard')"
      ],
      "execution_count": 0,
      "outputs": []
    },
    {
      "cell_type": "markdown",
      "metadata": {
        "id": "CNHZJMaxfYk3",
        "colab_type": "text"
      },
      "source": [
        "### Data Cleaning"
      ]
    },
    {
      "cell_type": "code",
      "metadata": {
        "id": "w3c8_snKfhwy",
        "colab_type": "code",
        "outputId": "fc23fb27-cce8-4966-cdd3-338100604a20",
        "colab": {
          "base_uri": "https://localhost:8080/",
          "height": 202
        }
      },
      "source": [
        "#Checking the data\n",
        "data.head ()"
      ],
      "execution_count": 0,
      "outputs": [
        {
          "output_type": "execute_result",
          "data": {
            "text/html": [
              "<div>\n",
              "<style scoped>\n",
              "    .dataframe tbody tr th:only-of-type {\n",
              "        vertical-align: middle;\n",
              "    }\n",
              "\n",
              "    .dataframe tbody tr th {\n",
              "        vertical-align: top;\n",
              "    }\n",
              "\n",
              "    .dataframe thead th {\n",
              "        text-align: right;\n",
              "    }\n",
              "</style>\n",
              "<table border=\"1\" class=\"dataframe\">\n",
              "  <thead>\n",
              "    <tr style=\"text-align: right;\">\n",
              "      <th></th>\n",
              "      <th>source_year</th>\n",
              "      <th>is_male</th>\n",
              "      <th>weightbabykg</th>\n",
              "      <th>plurality</th>\n",
              "      <th>mother_race</th>\n",
              "      <th>mother_age</th>\n",
              "      <th>gestation_weeks</th>\n",
              "      <th>mother_married</th>\n",
              "      <th>cigarette_use</th>\n",
              "      <th>alcohol_use</th>\n",
              "      <th>mother_weight</th>\n",
              "      <th>ever_born</th>\n",
              "      <th>father_race</th>\n",
              "      <th>father_age</th>\n",
              "    </tr>\n",
              "  </thead>\n",
              "  <tbody>\n",
              "    <tr>\n",
              "      <th>0</th>\n",
              "      <td>2008</td>\n",
              "      <td>False</td>\n",
              "      <td>2.69</td>\n",
              "      <td>1</td>\n",
              "      <td>White</td>\n",
              "      <td>44</td>\n",
              "      <td>36.0</td>\n",
              "      <td>True</td>\n",
              "      <td>False</td>\n",
              "      <td>False</td>\n",
              "      <td>16.33</td>\n",
              "      <td>8.0</td>\n",
              "      <td>White</td>\n",
              "      <td>43</td>\n",
              "    </tr>\n",
              "    <tr>\n",
              "      <th>1</th>\n",
              "      <td>2008</td>\n",
              "      <td>False</td>\n",
              "      <td>2.48</td>\n",
              "      <td>1</td>\n",
              "      <td>White</td>\n",
              "      <td>32</td>\n",
              "      <td>33.0</td>\n",
              "      <td>False</td>\n",
              "      <td>False</td>\n",
              "      <td>False</td>\n",
              "      <td>9.07</td>\n",
              "      <td>8.0</td>\n",
              "      <td>White</td>\n",
              "      <td>30</td>\n",
              "    </tr>\n",
              "    <tr>\n",
              "      <th>2</th>\n",
              "      <td>2008</td>\n",
              "      <td>False</td>\n",
              "      <td>3.74</td>\n",
              "      <td>1</td>\n",
              "      <td>White</td>\n",
              "      <td>27</td>\n",
              "      <td>37.0</td>\n",
              "      <td>True</td>\n",
              "      <td>False</td>\n",
              "      <td>False</td>\n",
              "      <td>18.14</td>\n",
              "      <td>8.0</td>\n",
              "      <td>White</td>\n",
              "      <td>34</td>\n",
              "    </tr>\n",
              "    <tr>\n",
              "      <th>3</th>\n",
              "      <td>2008</td>\n",
              "      <td>False</td>\n",
              "      <td>3.20</td>\n",
              "      <td>1</td>\n",
              "      <td>White</td>\n",
              "      <td>42</td>\n",
              "      <td>39.0</td>\n",
              "      <td>True</td>\n",
              "      <td>False</td>\n",
              "      <td>False</td>\n",
              "      <td>NaN</td>\n",
              "      <td>8.0</td>\n",
              "      <td>White</td>\n",
              "      <td>41</td>\n",
              "    </tr>\n",
              "    <tr>\n",
              "      <th>4</th>\n",
              "      <td>2008</td>\n",
              "      <td>False</td>\n",
              "      <td>3.60</td>\n",
              "      <td>1</td>\n",
              "      <td>White</td>\n",
              "      <td>41</td>\n",
              "      <td>38.0</td>\n",
              "      <td>True</td>\n",
              "      <td>False</td>\n",
              "      <td>False</td>\n",
              "      <td>9.07</td>\n",
              "      <td>8.0</td>\n",
              "      <td>White</td>\n",
              "      <td>31</td>\n",
              "    </tr>\n",
              "  </tbody>\n",
              "</table>\n",
              "</div>"
            ],
            "text/plain": [
              "   source_year  is_male  weightbabykg  ...  ever_born father_race  father_age\n",
              "0         2008    False          2.69  ...        8.0       White          43\n",
              "1         2008    False          2.48  ...        8.0       White          30\n",
              "2         2008    False          3.74  ...        8.0       White          34\n",
              "3         2008    False          3.20  ...        8.0       White          41\n",
              "4         2008    False          3.60  ...        8.0       White          31\n",
              "\n",
              "[5 rows x 14 columns]"
            ]
          },
          "metadata": {
            "tags": []
          },
          "execution_count": 4
        }
      ]
    },
    {
      "cell_type": "code",
      "metadata": {
        "id": "jnDKq-pAkFll",
        "colab_type": "code",
        "outputId": "1a05f922-d02c-4984-a713-a58301ccd87f",
        "colab": {
          "base_uri": "https://localhost:8080/",
          "height": 381
        }
      },
      "source": [
        "#Get data information & type of variables\n",
        "data.info()"
      ],
      "execution_count": 0,
      "outputs": [
        {
          "output_type": "stream",
          "text": [
            "<class 'pandas.core.frame.DataFrame'>\n",
            "RangeIndex: 150000 entries, 0 to 149999\n",
            "Data columns (total 14 columns):\n",
            " #   Column           Non-Null Count   Dtype  \n",
            "---  ------           --------------   -----  \n",
            " 0   source_year      150000 non-null  int64  \n",
            " 1   is_male          150000 non-null  bool   \n",
            " 2   weightbabykg     150000 non-null  float64\n",
            " 3   plurality        150000 non-null  int64  \n",
            " 4   mother_race      150000 non-null  object \n",
            " 5   mother_age       150000 non-null  int64  \n",
            " 6   gestation_weeks  149884 non-null  float64\n",
            " 7   mother_married   150000 non-null  bool   \n",
            " 8   cigarette_use    149639 non-null  object \n",
            " 9   alcohol_use      149639 non-null  object \n",
            " 10  mother_weight    147565 non-null  float64\n",
            " 11  ever_born        149661 non-null  float64\n",
            " 12  father_race      150000 non-null  object \n",
            " 13  father_age       150000 non-null  int64  \n",
            "dtypes: bool(2), float64(4), int64(4), object(4)\n",
            "memory usage: 14.0+ MB\n"
          ],
          "name": "stdout"
        }
      ]
    },
    {
      "cell_type": "code",
      "metadata": {
        "id": "kGG1ZjLvqeSv",
        "colab_type": "code",
        "outputId": "1fa2dcd9-ce5a-444a-e3a6-9b99d1442112",
        "colab": {
          "base_uri": "https://localhost:8080/",
          "height": 260
        }
      },
      "source": [
        "#Check the unique value of each column\n",
        "for i , col in enumerate(data):\n",
        "  print (f\"Unique value of {col} : {data[col].nunique()}\")"
      ],
      "execution_count": 0,
      "outputs": [
        {
          "output_type": "stream",
          "text": [
            "Unique value of source_year : 1\n",
            "Unique value of is_male : 2\n",
            "Unique value of weightbabykg : 518\n",
            "Unique value of plurality : 5\n",
            "Unique value of mother_race : 11\n",
            "Unique value of mother_age : 39\n",
            "Unique value of gestation_weeks : 31\n",
            "Unique value of mother_married : 2\n",
            "Unique value of cigarette_use : 2\n",
            "Unique value of alcohol_use : 2\n",
            "Unique value of mother_weight : 99\n",
            "Unique value of ever_born : 8\n",
            "Unique value of father_race : 11\n",
            "Unique value of father_age : 63\n"
          ],
          "name": "stdout"
        }
      ]
    },
    {
      "cell_type": "code",
      "metadata": {
        "id": "da-O_rEprpmI",
        "colab_type": "code",
        "colab": {}
      },
      "source": [
        "#Then drop source_year \n",
        "data.drop('source_year', axis=1, inplace=True)"
      ],
      "execution_count": 0,
      "outputs": []
    },
    {
      "cell_type": "code",
      "metadata": {
        "id": "0OxltrvufkZ9",
        "colab_type": "code",
        "colab": {}
      },
      "source": [
        "#Copy data to dataset\n",
        "dataset = data.copy()"
      ],
      "execution_count": 0,
      "outputs": []
    },
    {
      "cell_type": "code",
      "metadata": {
        "id": "Sr5_lCkpf7vx",
        "colab_type": "code",
        "outputId": "0abdf9b4-9074-4b2c-8c3f-c72dbb3d0ca4",
        "colab": {
          "base_uri": "https://localhost:8080/",
          "height": 110
        }
      },
      "source": [
        "#Checking null values \n",
        "((dataset.isna().sum()/len(dataset))*100).reset_index().rename(columns={'index':'variable', 0:'%N/A'}).T"
      ],
      "execution_count": 0,
      "outputs": [
        {
          "output_type": "execute_result",
          "data": {
            "text/html": [
              "<div>\n",
              "<style scoped>\n",
              "    .dataframe tbody tr th:only-of-type {\n",
              "        vertical-align: middle;\n",
              "    }\n",
              "\n",
              "    .dataframe tbody tr th {\n",
              "        vertical-align: top;\n",
              "    }\n",
              "\n",
              "    .dataframe thead th {\n",
              "        text-align: right;\n",
              "    }\n",
              "</style>\n",
              "<table border=\"1\" class=\"dataframe\">\n",
              "  <thead>\n",
              "    <tr style=\"text-align: right;\">\n",
              "      <th></th>\n",
              "      <th>0</th>\n",
              "      <th>1</th>\n",
              "      <th>2</th>\n",
              "      <th>3</th>\n",
              "      <th>4</th>\n",
              "      <th>5</th>\n",
              "      <th>6</th>\n",
              "      <th>7</th>\n",
              "      <th>8</th>\n",
              "      <th>9</th>\n",
              "      <th>10</th>\n",
              "      <th>11</th>\n",
              "      <th>12</th>\n",
              "    </tr>\n",
              "  </thead>\n",
              "  <tbody>\n",
              "    <tr>\n",
              "      <th>variable</th>\n",
              "      <td>is_male</td>\n",
              "      <td>weightbabykg</td>\n",
              "      <td>plurality</td>\n",
              "      <td>mother_race</td>\n",
              "      <td>mother_age</td>\n",
              "      <td>gestation_weeks</td>\n",
              "      <td>mother_married</td>\n",
              "      <td>cigarette_use</td>\n",
              "      <td>alcohol_use</td>\n",
              "      <td>mother_weight</td>\n",
              "      <td>ever_born</td>\n",
              "      <td>father_race</td>\n",
              "      <td>father_age</td>\n",
              "    </tr>\n",
              "    <tr>\n",
              "      <th>%N/A</th>\n",
              "      <td>0</td>\n",
              "      <td>0</td>\n",
              "      <td>0</td>\n",
              "      <td>0</td>\n",
              "      <td>0</td>\n",
              "      <td>0.0773333</td>\n",
              "      <td>0</td>\n",
              "      <td>0.240667</td>\n",
              "      <td>0.240667</td>\n",
              "      <td>1.62333</td>\n",
              "      <td>0.226</td>\n",
              "      <td>0</td>\n",
              "      <td>0</td>\n",
              "    </tr>\n",
              "  </tbody>\n",
              "</table>\n",
              "</div>"
            ],
            "text/plain": [
              "               0             1          2   ...         10           11          12\n",
              "variable  is_male  weightbabykg  plurality  ...  ever_born  father_race  father_age\n",
              "%N/A            0             0          0  ...      0.226            0           0\n",
              "\n",
              "[2 rows x 13 columns]"
            ]
          },
          "metadata": {
            "tags": []
          },
          "execution_count": 9
        }
      ]
    },
    {
      "cell_type": "code",
      "metadata": {
        "id": "8zVlssyZmWLI",
        "colab_type": "code",
        "outputId": "7cbf2ee0-d45b-4bd7-e17e-97bf5a14c74f",
        "colab": {
          "base_uri": "https://localhost:8080/",
          "height": 110
        }
      },
      "source": [
        "#Clean the mother weight & ever born \n",
        "dataset['mother_weight'].fillna(dataset['mother_weight'].mean())\n",
        "dataset['ever_born'].fillna(dataset['ever_born'].mean())\n",
        "\n",
        "#Then clean all the null row with null categorical varibale \n",
        "dataset.dropna(axis=0, inplace=True)\n",
        "\n",
        "#Then check the % missing value \n",
        "((dataset.isna().sum()/len(dataset))*100).reset_index().rename(columns={'index':'variable', 0:'%N/A'}).T"
      ],
      "execution_count": 0,
      "outputs": [
        {
          "output_type": "execute_result",
          "data": {
            "text/html": [
              "<div>\n",
              "<style scoped>\n",
              "    .dataframe tbody tr th:only-of-type {\n",
              "        vertical-align: middle;\n",
              "    }\n",
              "\n",
              "    .dataframe tbody tr th {\n",
              "        vertical-align: top;\n",
              "    }\n",
              "\n",
              "    .dataframe thead th {\n",
              "        text-align: right;\n",
              "    }\n",
              "</style>\n",
              "<table border=\"1\" class=\"dataframe\">\n",
              "  <thead>\n",
              "    <tr style=\"text-align: right;\">\n",
              "      <th></th>\n",
              "      <th>0</th>\n",
              "      <th>1</th>\n",
              "      <th>2</th>\n",
              "      <th>3</th>\n",
              "      <th>4</th>\n",
              "      <th>5</th>\n",
              "      <th>6</th>\n",
              "      <th>7</th>\n",
              "      <th>8</th>\n",
              "      <th>9</th>\n",
              "      <th>10</th>\n",
              "      <th>11</th>\n",
              "      <th>12</th>\n",
              "    </tr>\n",
              "  </thead>\n",
              "  <tbody>\n",
              "    <tr>\n",
              "      <th>variable</th>\n",
              "      <td>is_male</td>\n",
              "      <td>weightbabykg</td>\n",
              "      <td>plurality</td>\n",
              "      <td>mother_race</td>\n",
              "      <td>mother_age</td>\n",
              "      <td>gestation_weeks</td>\n",
              "      <td>mother_married</td>\n",
              "      <td>cigarette_use</td>\n",
              "      <td>alcohol_use</td>\n",
              "      <td>mother_weight</td>\n",
              "      <td>ever_born</td>\n",
              "      <td>father_race</td>\n",
              "      <td>father_age</td>\n",
              "    </tr>\n",
              "    <tr>\n",
              "      <th>%N/A</th>\n",
              "      <td>0</td>\n",
              "      <td>0</td>\n",
              "      <td>0</td>\n",
              "      <td>0</td>\n",
              "      <td>0</td>\n",
              "      <td>0</td>\n",
              "      <td>0</td>\n",
              "      <td>0</td>\n",
              "      <td>0</td>\n",
              "      <td>0</td>\n",
              "      <td>0</td>\n",
              "      <td>0</td>\n",
              "      <td>0</td>\n",
              "    </tr>\n",
              "  </tbody>\n",
              "</table>\n",
              "</div>"
            ],
            "text/plain": [
              "               0             1          2   ...         10           11          12\n",
              "variable  is_male  weightbabykg  plurality  ...  ever_born  father_race  father_age\n",
              "%N/A            0             0          0  ...          0            0           0\n",
              "\n",
              "[2 rows x 13 columns]"
            ]
          },
          "metadata": {
            "tags": []
          },
          "execution_count": 10
        }
      ]
    },
    {
      "cell_type": "markdown",
      "metadata": {
        "id": "WSzSRmFxphq_",
        "colab_type": "text"
      },
      "source": [
        "### Data Analysis"
      ]
    },
    {
      "cell_type": "code",
      "metadata": {
        "id": "nozWVMKKhzsN",
        "colab_type": "code",
        "outputId": "4ec494e6-5e17-48e1-9f92-a7b72235b8e2",
        "colab": {
          "base_uri": "https://localhost:8080/",
          "height": 294
        }
      },
      "source": [
        "# Summary of the dataset\n",
        "dataset.describe()"
      ],
      "execution_count": 0,
      "outputs": [
        {
          "output_type": "execute_result",
          "data": {
            "text/html": [
              "<div>\n",
              "<style scoped>\n",
              "    .dataframe tbody tr th:only-of-type {\n",
              "        vertical-align: middle;\n",
              "    }\n",
              "\n",
              "    .dataframe tbody tr th {\n",
              "        vertical-align: top;\n",
              "    }\n",
              "\n",
              "    .dataframe thead th {\n",
              "        text-align: right;\n",
              "    }\n",
              "</style>\n",
              "<table border=\"1\" class=\"dataframe\">\n",
              "  <thead>\n",
              "    <tr style=\"text-align: right;\">\n",
              "      <th></th>\n",
              "      <th>weightbabykg</th>\n",
              "      <th>plurality</th>\n",
              "      <th>mother_age</th>\n",
              "      <th>gestation_weeks</th>\n",
              "      <th>mother_weight</th>\n",
              "      <th>ever_born</th>\n",
              "      <th>father_age</th>\n",
              "    </tr>\n",
              "  </thead>\n",
              "  <tbody>\n",
              "    <tr>\n",
              "      <th>count</th>\n",
              "      <td>146834.000000</td>\n",
              "      <td>146834.000000</td>\n",
              "      <td>146834.000000</td>\n",
              "      <td>146834.000000</td>\n",
              "      <td>146834.000000</td>\n",
              "      <td>146834.000000</td>\n",
              "      <td>146834.000000</td>\n",
              "    </tr>\n",
              "    <tr>\n",
              "      <th>mean</th>\n",
              "      <td>3.255568</td>\n",
              "      <td>1.037655</td>\n",
              "      <td>27.337395</td>\n",
              "      <td>38.572572</td>\n",
              "      <td>14.891228</td>\n",
              "      <td>1.986182</td>\n",
              "      <td>41.078483</td>\n",
              "    </tr>\n",
              "    <tr>\n",
              "      <th>std</th>\n",
              "      <td>0.595243</td>\n",
              "      <td>0.200807</td>\n",
              "      <td>6.149334</td>\n",
              "      <td>2.569944</td>\n",
              "      <td>7.996221</td>\n",
              "      <td>1.177466</td>\n",
              "      <td>25.514047</td>\n",
              "    </tr>\n",
              "    <tr>\n",
              "      <th>min</th>\n",
              "      <td>0.230000</td>\n",
              "      <td>1.000000</td>\n",
              "      <td>12.000000</td>\n",
              "      <td>17.000000</td>\n",
              "      <td>0.450000</td>\n",
              "      <td>1.000000</td>\n",
              "      <td>10.000000</td>\n",
              "    </tr>\n",
              "    <tr>\n",
              "      <th>25%</th>\n",
              "      <td>2.950000</td>\n",
              "      <td>1.000000</td>\n",
              "      <td>22.000000</td>\n",
              "      <td>38.000000</td>\n",
              "      <td>9.980000</td>\n",
              "      <td>1.000000</td>\n",
              "      <td>26.000000</td>\n",
              "    </tr>\n",
              "    <tr>\n",
              "      <th>50%</th>\n",
              "      <td>3.290000</td>\n",
              "      <td>1.000000</td>\n",
              "      <td>27.000000</td>\n",
              "      <td>39.000000</td>\n",
              "      <td>13.610000</td>\n",
              "      <td>2.000000</td>\n",
              "      <td>32.000000</td>\n",
              "    </tr>\n",
              "    <tr>\n",
              "      <th>75%</th>\n",
              "      <td>3.630000</td>\n",
              "      <td>1.000000</td>\n",
              "      <td>32.000000</td>\n",
              "      <td>40.000000</td>\n",
              "      <td>18.140000</td>\n",
              "      <td>2.000000</td>\n",
              "      <td>39.000000</td>\n",
              "    </tr>\n",
              "    <tr>\n",
              "      <th>max</th>\n",
              "      <td>5.980000</td>\n",
              "      <td>5.000000</td>\n",
              "      <td>50.000000</td>\n",
              "      <td>47.000000</td>\n",
              "      <td>44.910000</td>\n",
              "      <td>8.000000</td>\n",
              "      <td>99.000000</td>\n",
              "    </tr>\n",
              "  </tbody>\n",
              "</table>\n",
              "</div>"
            ],
            "text/plain": [
              "        weightbabykg      plurality  ...      ever_born     father_age\n",
              "count  146834.000000  146834.000000  ...  146834.000000  146834.000000\n",
              "mean        3.255568       1.037655  ...       1.986182      41.078483\n",
              "std         0.595243       0.200807  ...       1.177466      25.514047\n",
              "min         0.230000       1.000000  ...       1.000000      10.000000\n",
              "25%         2.950000       1.000000  ...       1.000000      26.000000\n",
              "50%         3.290000       1.000000  ...       2.000000      32.000000\n",
              "75%         3.630000       1.000000  ...       2.000000      39.000000\n",
              "max         5.980000       5.000000  ...       8.000000      99.000000\n",
              "\n",
              "[8 rows x 7 columns]"
            ]
          },
          "metadata": {
            "tags": []
          },
          "execution_count": 11
        }
      ]
    },
    {
      "cell_type": "code",
      "metadata": {
        "id": "sc6kq6y6sl4t",
        "colab_type": "code",
        "outputId": "5c553579-2b26-4dde-8274-0bf5f39346bb",
        "colab": {
          "base_uri": "https://localhost:8080/",
          "height": 86
        }
      },
      "source": [
        "dataset.columns"
      ],
      "execution_count": 0,
      "outputs": [
        {
          "output_type": "execute_result",
          "data": {
            "text/plain": [
              "Index(['is_male', 'weightbabykg', 'plurality', 'mother_race', 'mother_age',\n",
              "       'gestation_weeks', 'mother_married', 'cigarette_use', 'alcohol_use',\n",
              "       'mother_weight', 'ever_born', 'father_race', 'father_age'],\n",
              "      dtype='object')"
            ]
          },
          "metadata": {
            "tags": []
          },
          "execution_count": 12
        }
      ]
    },
    {
      "cell_type": "code",
      "metadata": {
        "id": "7NttzFYZscZp",
        "colab_type": "code",
        "outputId": "34e5db7b-9c47-4a2e-84e1-252824796a0a",
        "colab": {
          "base_uri": "https://localhost:8080/",
          "height": 1000
        }
      },
      "source": [
        "# Aggrage data by Mother Race \n",
        "plt.figure(figsize=(10,10))\n",
        "sns.barplot(x='mother_race', y='weightbabykg', data=dataset )\n",
        "dataset.groupby('mother_race').mean()"
      ],
      "execution_count": 0,
      "outputs": [
        {
          "output_type": "execute_result",
          "data": {
            "text/html": [
              "<div>\n",
              "<style scoped>\n",
              "    .dataframe tbody tr th:only-of-type {\n",
              "        vertical-align: middle;\n",
              "    }\n",
              "\n",
              "    .dataframe tbody tr th {\n",
              "        vertical-align: top;\n",
              "    }\n",
              "\n",
              "    .dataframe thead th {\n",
              "        text-align: right;\n",
              "    }\n",
              "</style>\n",
              "<table border=\"1\" class=\"dataframe\">\n",
              "  <thead>\n",
              "    <tr style=\"text-align: right;\">\n",
              "      <th></th>\n",
              "      <th>is_male</th>\n",
              "      <th>weightbabykg</th>\n",
              "      <th>plurality</th>\n",
              "      <th>mother_age</th>\n",
              "      <th>gestation_weeks</th>\n",
              "      <th>mother_married</th>\n",
              "      <th>mother_weight</th>\n",
              "      <th>ever_born</th>\n",
              "      <th>father_age</th>\n",
              "    </tr>\n",
              "    <tr>\n",
              "      <th>mother_race</th>\n",
              "      <th></th>\n",
              "      <th></th>\n",
              "      <th></th>\n",
              "      <th></th>\n",
              "      <th></th>\n",
              "      <th></th>\n",
              "      <th></th>\n",
              "      <th></th>\n",
              "      <th></th>\n",
              "    </tr>\n",
              "  </thead>\n",
              "  <tbody>\n",
              "    <tr>\n",
              "      <th>American Indian</th>\n",
              "      <td>0.509263</td>\n",
              "      <td>3.313100</td>\n",
              "      <td>1.028818</td>\n",
              "      <td>25.020996</td>\n",
              "      <td>38.548786</td>\n",
              "      <td>0.354879</td>\n",
              "      <td>15.045438</td>\n",
              "      <td>2.291478</td>\n",
              "      <td>43.792507</td>\n",
              "    </tr>\n",
              "    <tr>\n",
              "      <th>Asian Indian</th>\n",
              "      <td>0.525412</td>\n",
              "      <td>3.119396</td>\n",
              "      <td>1.038462</td>\n",
              "      <td>29.969093</td>\n",
              "      <td>38.596841</td>\n",
              "      <td>0.979396</td>\n",
              "      <td>13.842885</td>\n",
              "      <td>1.609890</td>\n",
              "      <td>34.210165</td>\n",
              "    </tr>\n",
              "    <tr>\n",
              "      <th>Black</th>\n",
              "      <td>0.500412</td>\n",
              "      <td>3.069787</td>\n",
              "      <td>1.038130</td>\n",
              "      <td>25.323332</td>\n",
              "      <td>38.168880</td>\n",
              "      <td>0.268232</td>\n",
              "      <td>14.609191</td>\n",
              "      <td>2.106083</td>\n",
              "      <td>53.917511</td>\n",
              "    </tr>\n",
              "    <tr>\n",
              "      <th>Chinese</th>\n",
              "      <td>0.523752</td>\n",
              "      <td>3.271778</td>\n",
              "      <td>1.025579</td>\n",
              "      <td>32.222899</td>\n",
              "      <td>38.784409</td>\n",
              "      <td>0.912302</td>\n",
              "      <td>13.982497</td>\n",
              "      <td>1.609013</td>\n",
              "      <td>36.556638</td>\n",
              "    </tr>\n",
              "    <tr>\n",
              "      <th>Filipino</th>\n",
              "      <td>0.510107</td>\n",
              "      <td>3.175149</td>\n",
              "      <td>1.026159</td>\n",
              "      <td>31.008323</td>\n",
              "      <td>38.409037</td>\n",
              "      <td>0.822830</td>\n",
              "      <td>15.264935</td>\n",
              "      <td>1.882283</td>\n",
              "      <td>37.613555</td>\n",
              "    </tr>\n",
              "    <tr>\n",
              "      <th>Hawaiian</th>\n",
              "      <td>0.485294</td>\n",
              "      <td>3.103088</td>\n",
              "      <td>1.000000</td>\n",
              "      <td>24.705882</td>\n",
              "      <td>37.941176</td>\n",
              "      <td>0.441176</td>\n",
              "      <td>16.803529</td>\n",
              "      <td>2.014706</td>\n",
              "      <td>38.838235</td>\n",
              "    </tr>\n",
              "    <tr>\n",
              "      <th>Japanese</th>\n",
              "      <td>0.423077</td>\n",
              "      <td>3.142756</td>\n",
              "      <td>1.057692</td>\n",
              "      <td>33.474359</td>\n",
              "      <td>38.756410</td>\n",
              "      <td>0.961538</td>\n",
              "      <td>12.709551</td>\n",
              "      <td>1.634615</td>\n",
              "      <td>34.698718</td>\n",
              "    </tr>\n",
              "    <tr>\n",
              "      <th>Korean</th>\n",
              "      <td>0.507645</td>\n",
              "      <td>3.274893</td>\n",
              "      <td>1.024465</td>\n",
              "      <td>32.272171</td>\n",
              "      <td>39.018349</td>\n",
              "      <td>0.951070</td>\n",
              "      <td>15.761009</td>\n",
              "      <td>1.712538</td>\n",
              "      <td>35.003058</td>\n",
              "    </tr>\n",
              "    <tr>\n",
              "      <th>Unknown/Other</th>\n",
              "      <td>0.529305</td>\n",
              "      <td>3.167420</td>\n",
              "      <td>1.035650</td>\n",
              "      <td>29.379758</td>\n",
              "      <td>38.595468</td>\n",
              "      <td>0.845317</td>\n",
              "      <td>14.321864</td>\n",
              "      <td>1.836254</td>\n",
              "      <td>36.321752</td>\n",
              "    </tr>\n",
              "    <tr>\n",
              "      <th>Vietnamese</th>\n",
              "      <td>0.491597</td>\n",
              "      <td>3.202059</td>\n",
              "      <td>1.016807</td>\n",
              "      <td>31.777311</td>\n",
              "      <td>38.773109</td>\n",
              "      <td>0.848739</td>\n",
              "      <td>15.931008</td>\n",
              "      <td>1.869748</td>\n",
              "      <td>41.500000</td>\n",
              "    </tr>\n",
              "    <tr>\n",
              "      <th>White</th>\n",
              "      <td>0.511674</td>\n",
              "      <td>3.307080</td>\n",
              "      <td>1.038039</td>\n",
              "      <td>27.710298</td>\n",
              "      <td>38.673312</td>\n",
              "      <td>0.663015</td>\n",
              "      <td>14.992129</td>\n",
              "      <td>1.963490</td>\n",
              "      <td>38.059969</td>\n",
              "    </tr>\n",
              "  </tbody>\n",
              "</table>\n",
              "</div>"
            ],
            "text/plain": [
              "                  is_male  weightbabykg  ...  ever_born  father_age\n",
              "mother_race                              ...                       \n",
              "American Indian  0.509263      3.313100  ...   2.291478   43.792507\n",
              "Asian Indian     0.525412      3.119396  ...   1.609890   34.210165\n",
              "Black            0.500412      3.069787  ...   2.106083   53.917511\n",
              "Chinese          0.523752      3.271778  ...   1.609013   36.556638\n",
              "Filipino         0.510107      3.175149  ...   1.882283   37.613555\n",
              "Hawaiian         0.485294      3.103088  ...   2.014706   38.838235\n",
              "Japanese         0.423077      3.142756  ...   1.634615   34.698718\n",
              "Korean           0.507645      3.274893  ...   1.712538   35.003058\n",
              "Unknown/Other    0.529305      3.167420  ...   1.836254   36.321752\n",
              "Vietnamese       0.491597      3.202059  ...   1.869748   41.500000\n",
              "White            0.511674      3.307080  ...   1.963490   38.059969\n",
              "\n",
              "[11 rows x 9 columns]"
            ]
          },
          "metadata": {
            "tags": []
          },
          "execution_count": 13
        },
        {
          "output_type": "display_data",
          "data": {
            "image/png": "[encoded data removed]",
            "text/plain": [
              "<Figure size 720x720 with 1 Axes>"
            ]
          },
          "metadata": {
            "tags": [],
            "needs_background": "light"
          }
        }
      ]
    },
    {
      "cell_type": "code",
      "metadata": {
        "id": "TAIThAbsxOml",
        "colab_type": "code",
        "outputId": "5d494709-30a9-4cfc-997b-2c495d119fe5",
        "colab": {
          "base_uri": "https://localhost:8080/",
          "height": 498
        }
      },
      "source": [
        "plt.figure(figsize=(8,8))\n",
        "sns.barplot(x='mother_married', y='gestation_weeks', data=dataset )\n",
        "plt.show()"
      ],
      "execution_count": 0,
      "outputs": [
        {
          "output_type": "display_data",
          "data": {
            "image/png": "[encoded data removed]",
            "text/plain": [
              "<Figure size 576x576 with 1 Axes>"
            ]
          },
          "metadata": {
            "tags": [],
            "needs_background": "light"
          }
        }
      ]
    },
    {
      "cell_type": "code",
      "metadata": {
        "id": "Smphspg8vUe_",
        "colab_type": "code",
        "outputId": "9d7954a1-8170-4223-ed0c-75ac401db7f2",
        "colab": {
          "base_uri": "https://localhost:8080/",
          "height": 141
        }
      },
      "source": [
        "#Aggrage data by Mother marital status\n",
        "dataset.groupby('mother_married').mean()"
      ],
      "execution_count": 0,
      "outputs": [
        {
          "output_type": "execute_result",
          "data": {
            "text/html": [
              "<div>\n",
              "<style scoped>\n",
              "    .dataframe tbody tr th:only-of-type {\n",
              "        vertical-align: middle;\n",
              "    }\n",
              "\n",
              "    .dataframe tbody tr th {\n",
              "        vertical-align: top;\n",
              "    }\n",
              "\n",
              "    .dataframe thead th {\n",
              "        text-align: right;\n",
              "    }\n",
              "</style>\n",
              "<table border=\"1\" class=\"dataframe\">\n",
              "  <thead>\n",
              "    <tr style=\"text-align: right;\">\n",
              "      <th></th>\n",
              "      <th>is_male</th>\n",
              "      <th>weightbabykg</th>\n",
              "      <th>plurality</th>\n",
              "      <th>mother_age</th>\n",
              "      <th>gestation_weeks</th>\n",
              "      <th>mother_weight</th>\n",
              "      <th>ever_born</th>\n",
              "      <th>father_age</th>\n",
              "    </tr>\n",
              "    <tr>\n",
              "      <th>mother_married</th>\n",
              "      <th></th>\n",
              "      <th></th>\n",
              "      <th></th>\n",
              "      <th></th>\n",
              "      <th></th>\n",
              "      <th></th>\n",
              "      <th></th>\n",
              "      <th></th>\n",
              "    </tr>\n",
              "  </thead>\n",
              "  <tbody>\n",
              "    <tr>\n",
              "      <th>False</th>\n",
              "      <td>0.507598</td>\n",
              "      <td>3.169748</td>\n",
              "      <td>1.026909</td>\n",
              "      <td>23.972723</td>\n",
              "      <td>38.484275</td>\n",
              "      <td>15.104117</td>\n",
              "      <td>1.907612</td>\n",
              "      <td>53.183017</td>\n",
              "    </tr>\n",
              "    <tr>\n",
              "      <th>True</th>\n",
              "      <td>0.511537</td>\n",
              "      <td>3.314339</td>\n",
              "      <td>1.045014</td>\n",
              "      <td>29.641599</td>\n",
              "      <td>38.633039</td>\n",
              "      <td>14.745436</td>\n",
              "      <td>2.039988</td>\n",
              "      <td>32.789021</td>\n",
              "    </tr>\n",
              "  </tbody>\n",
              "</table>\n",
              "</div>"
            ],
            "text/plain": [
              "                 is_male  weightbabykg  ...  ever_born  father_age\n",
              "mother_married                          ...                       \n",
              "False           0.507598      3.169748  ...   1.907612   53.183017\n",
              "True            0.511537      3.314339  ...   2.039988   32.789021\n",
              "\n",
              "[2 rows x 8 columns]"
            ]
          },
          "metadata": {
            "tags": []
          },
          "execution_count": 15
        }
      ]
    },
    {
      "cell_type": "code",
      "metadata": {
        "id": "EWJxKWX8vjc6",
        "colab_type": "code",
        "outputId": "0d5241bc-fa55-49ae-ef3d-b99d2221a7e1",
        "colab": {
          "base_uri": "https://localhost:8080/",
          "height": 141
        }
      },
      "source": [
        "#Aggrage data by baby is male\n",
        "dataset.groupby('is_male').mean()"
      ],
      "execution_count": 0,
      "outputs": [
        {
          "output_type": "execute_result",
          "data": {
            "text/html": [
              "<div>\n",
              "<style scoped>\n",
              "    .dataframe tbody tr th:only-of-type {\n",
              "        vertical-align: middle;\n",
              "    }\n",
              "\n",
              "    .dataframe tbody tr th {\n",
              "        vertical-align: top;\n",
              "    }\n",
              "\n",
              "    .dataframe thead th {\n",
              "        text-align: right;\n",
              "    }\n",
              "</style>\n",
              "<table border=\"1\" class=\"dataframe\">\n",
              "  <thead>\n",
              "    <tr style=\"text-align: right;\">\n",
              "      <th></th>\n",
              "      <th>weightbabykg</th>\n",
              "      <th>plurality</th>\n",
              "      <th>mother_age</th>\n",
              "      <th>gestation_weeks</th>\n",
              "      <th>mother_married</th>\n",
              "      <th>mother_weight</th>\n",
              "      <th>ever_born</th>\n",
              "      <th>father_age</th>\n",
              "    </tr>\n",
              "    <tr>\n",
              "      <th>is_male</th>\n",
              "      <th></th>\n",
              "      <th></th>\n",
              "      <th></th>\n",
              "      <th></th>\n",
              "      <th></th>\n",
              "      <th></th>\n",
              "      <th></th>\n",
              "      <th></th>\n",
              "    </tr>\n",
              "  </thead>\n",
              "  <tbody>\n",
              "    <tr>\n",
              "      <th>False</th>\n",
              "      <td>3.199034</td>\n",
              "      <td>1.037411</td>\n",
              "      <td>27.320868</td>\n",
              "      <td>38.628089</td>\n",
              "      <td>0.591595</td>\n",
              "      <td>14.732851</td>\n",
              "      <td>1.982837</td>\n",
              "      <td>41.251369</td>\n",
              "    </tr>\n",
              "    <tr>\n",
              "      <th>True</th>\n",
              "      <td>3.309899</td>\n",
              "      <td>1.037889</td>\n",
              "      <td>27.353277</td>\n",
              "      <td>38.519218</td>\n",
              "      <td>0.595398</td>\n",
              "      <td>15.043432</td>\n",
              "      <td>1.989396</td>\n",
              "      <td>40.912335</td>\n",
              "    </tr>\n",
              "  </tbody>\n",
              "</table>\n",
              "</div>"
            ],
            "text/plain": [
              "         weightbabykg  plurality  ...  ever_born  father_age\n",
              "is_male                           ...                       \n",
              "False        3.199034   1.037411  ...   1.982837   41.251369\n",
              "True         3.309899   1.037889  ...   1.989396   40.912335\n",
              "\n",
              "[2 rows x 8 columns]"
            ]
          },
          "metadata": {
            "tags": []
          },
          "execution_count": 16
        }
      ]
    },
    {
      "cell_type": "code",
      "metadata": {
        "id": "GWj1fSn2psEM",
        "colab_type": "code",
        "colab": {}
      },
      "source": [
        "#Creating a sub dataset only with numerical columns\n",
        "dataset_num = dataset.select_dtypes(include=['int', 'float'])"
      ],
      "execution_count": 0,
      "outputs": []
    },
    {
      "cell_type": "code",
      "metadata": {
        "id": "u5LBxPMaiIRN",
        "colab_type": "code",
        "outputId": "d5067fc7-cb5f-4044-eb8c-7d96f40b4f57",
        "colab": {
          "base_uri": "https://localhost:8080/",
          "height": 736
        }
      },
      "source": [
        "#Checking correlation of the data\n",
        "plt.figure(figsize=(12,12))\n",
        "sns.heatmap(dataset_num.corr(),annot=True , square=True)\n",
        "\n",
        "#plt.show()"
      ],
      "execution_count": 0,
      "outputs": [
        {
          "output_type": "execute_result",
          "data": {
            "text/plain": [
              "<matplotlib.axes._subplots.AxesSubplot at 0x7fb88be35cc0>"
            ]
          },
          "metadata": {
            "tags": []
          },
          "execution_count": 21
        },
        {
          "output_type": "display_data",
          "data": {
            "image/png": "[encoded data removed]",
            "text/plain": [
              "<Figure size 864x864 with 2 Axes>"
            ]
          },
          "metadata": {
            "tags": [],
            "needs_background": "light"
          }
        }
      ]
    },
    {
      "cell_type": "markdown",
      "metadata": {
        "id": "SnER5jkyyozF",
        "colab_type": "text"
      },
      "source": [
        "### Data Preprocessing"
      ]
    },
    {
      "cell_type": "code",
      "metadata": {
        "id": "OrH_a3yZzB6t",
        "colab_type": "code",
        "outputId": "b2a0e917-744a-49df-d533-806fc28967d0",
        "colab": {
          "base_uri": "https://localhost:8080/",
          "height": 294
        }
      },
      "source": [
        "# Bool to Object for variables : is_male & mother_married\n",
        "dataset_ml = dataset.drop(['father_race','father_age','mother_race','ever_born'], axis=1)\n",
        "dataset_ml['is_male']=dataset_ml['is_male'].astype('str')\n",
        "dataset_ml['mother_married']=dataset_ml['mother_married'].astype('str')\n",
        "dataset_ml.info()"
      ],
      "execution_count": 0,
      "outputs": [
        {
          "output_type": "stream",
          "text": [
            "<class 'pandas.core.frame.DataFrame'>\n",
            "Int64Index: 146834 entries, 0 to 149999\n",
            "Data columns (total 9 columns):\n",
            " #   Column           Non-Null Count   Dtype  \n",
            "---  ------           --------------   -----  \n",
            " 0   is_male          146834 non-null  object \n",
            " 1   weightbabykg     146834 non-null  float64\n",
            " 2   plurality        146834 non-null  int64  \n",
            " 3   mother_age       146834 non-null  int64  \n",
            " 4   gestation_weeks  146834 non-null  float64\n",
            " 5   mother_married   146834 non-null  object \n",
            " 6   cigarette_use    146834 non-null  object \n",
            " 7   alcohol_use      146834 non-null  object \n",
            " 8   mother_weight    146834 non-null  float64\n",
            "dtypes: float64(3), int64(2), object(4)\n",
            "memory usage: 16.2+ MB\n"
          ],
          "name": "stdout"
        }
      ]
    },
    {
      "cell_type": "code",
      "metadata": {
        "id": "L3q8t4Bq0R1W",
        "colab_type": "code",
        "colab": {}
      },
      "source": [
        "# Import all the packages \n",
        "from sklearn.preprocessing import OneHotEncoder , LabelBinarizer , StandardScaler , Normalizer\n",
        "from sklearn.model_selection import train_test_split\n",
        "from sklearn.pipeline import Pipeline\n",
        "from sklearn.linear_model import LinearRegression , SGDRegressor , Lasso\n",
        "from sklearn.svm import SVR\n",
        "from sklearn.tree import DecisionTreeRegressor\n",
        "from sklearn.ensemble import RandomForestRegressor\n",
        "from xgboost import XGBRegressor\n",
        "from sklearn.metrics import mean_absolute_error as mae, mean_squared_error as mse ,r2_score \n",
        "from sklearn.model_selection import cross_val_score , GridSearchCV\n",
        "from sklearn.compose import ColumnTransformer\n",
        "from sklearn.impute import SimpleImputer\n"
      ],
      "execution_count": 0,
      "outputs": []
    },
    {
      "cell_type": "code",
      "metadata": {
        "id": "PcKg_TRZ-NMD",
        "colab_type": "code",
        "outputId": "8070e46b-2d69-495d-b99c-51faeeaa356d",
        "colab": {
          "base_uri": "https://localhost:8080/",
          "height": 86
        }
      },
      "source": [
        "# Gathering variables by typolog\n",
        "numeric_features = dataset_ml.select_dtypes(include=['int64', 'float64']).drop(['weightbabykg'], axis=1).columns\n",
        "categorical_features = dataset_ml.select_dtypes(include=['object']).columns\n",
        "print(f\"numeric_features :  {numeric_features} \\n ============================================================================================  \")\n",
        "print(f\"categorical_features :  {categorical_features} \\n ============================================================================================  \")"
      ],
      "execution_count": 0,
      "outputs": [
        {
          "output_type": "stream",
          "text": [
            "numeric_features :  Index(['plurality', 'mother_age', 'gestation_weeks', 'mother_weight'], dtype='object') \n",
            " ============================================================================================  \n",
            "categorical_features :  Index(['is_male', 'mother_married', 'cigarette_use', 'alcohol_use'], dtype='object') \n",
            " ============================================================================================  \n"
          ],
          "name": "stdout"
        }
      ]
    },
    {
      "cell_type": "code",
      "metadata": {
        "id": "pJAzOhLt-_27",
        "colab_type": "code",
        "outputId": "7ed50129-c492-48c3-b843-c18a8f74a505",
        "colab": {
          "base_uri": "https://localhost:8080/",
          "height": 86
        }
      },
      "source": [
        "# Create training and testing dataset \n",
        "X = dataset_ml.drop('weightbabykg', axis=1)\n",
        "Y = dataset_ml['weightbabykg']\n",
        "x_train, x_test, y_train, y_test = train_test_split( X, Y , test_size=0.20 , random_state=42 )\n",
        "print (f\" Shape of train dataset : {x_train.shape} \\n ======================== \")\n",
        "print (f\" Shape of test dataset : {x_test.shape} \\n\")"
      ],
      "execution_count": 0,
      "outputs": [
        {
          "output_type": "stream",
          "text": [
            " Shape of train dataset : (117467, 8) \n",
            " ======================== \n",
            " Shape of test dataset : (29367, 8) \n",
            "\n"
          ],
          "name": "stdout"
        }
      ]
    },
    {
      "cell_type": "code",
      "metadata": {
        "id": "GUVL6PmI4xRe",
        "colab_type": "code",
        "colab": {}
      },
      "source": [
        "# Numeric transformation\n",
        "numeric_transformer = Pipeline(steps=[('normalizer', Normalizer() ), ('scaler', StandardScaler() )])\n",
        "\n",
        "# Categorical transformation\n",
        "categorical_transformer = Pipeline(steps=[('onehot', OneHotEncoder())])\n",
        "\n",
        "\n",
        "# Preprocessor for linear model\n",
        "Linear_preprocessor = ColumnTransformer(\n",
        "    transformers=[\n",
        "        ('num', numeric_transformer, numeric_features),\n",
        "        ('cat', categorical_transformer, categorical_features) ])\n",
        "\n",
        "# Preprocessor for other type of model\n",
        "preprocessor = ColumnTransformer(\n",
        "    transformers=[\n",
        "        ('cat', categorical_transformer, categorical_features)])"
      ],
      "execution_count": 0,
      "outputs": []
    },
    {
      "cell_type": "markdown",
      "metadata": {
        "id": "UFG7VJjgYxA4",
        "colab_type": "text"
      },
      "source": [
        "### Modelisation"
      ]
    },
    {
      "cell_type": "code",
      "metadata": {
        "id": "RypZR3cPHHVV",
        "colab_type": "code",
        "colab": {}
      },
      "source": [
        "# Linear Model Pipeline\n",
        "lr_model = Pipeline(steps=[('preprocessor', preprocessor),\n",
        "                      ('regressor', LinearRegression() ) ] )\n",
        "lr_model.fit(x_train, y_train)"
      ],
      "execution_count": 0,
      "outputs": []
    },
    {
      "cell_type": "code",
      "metadata": {
        "id": "0v0p-J06MrI6",
        "colab_type": "code",
        "colab": {}
      },
      "source": [
        "# Modeling function \n",
        "def print_linear_score(model):\n",
        "  modeling = Pipeline(steps=[('preprocessor', Linear_preprocessor),\n",
        "                      ('regressor', model) ] )\n",
        "  modeling.fit(x_train, y_train)\n",
        "  y_pred=modeling.predict(x_test)\n",
        "  model_name=type(model).__name__\n",
        "  print(f\"The score of {model_name} is : { round(r2_score(y_test, y_pred),2) } \\n==================================\")\n",
        "  print(f\"The MSE of {model_name} is : { round( mse(y_test, y_pred),2) } \\n================================== \")\n",
        "  print (f\"The MAE of {model_name} is : { round(mae(y_test, y_pred), 2) } \\n==================================\")\n"
      ],
      "execution_count": 0,
      "outputs": []
    },
    {
      "cell_type": "code",
      "metadata": {
        "id": "HeLmG0p9S-v8",
        "colab_type": "code",
        "outputId": "ae44b284-5f31-4b2b-ea77-6d8c3bba1a67",
        "colab": {
          "base_uri": "https://localhost:8080/",
          "height": 121
        }
      },
      "source": [
        "print_linear_score(LinearRegression())"
      ],
      "execution_count": 0,
      "outputs": [
        {
          "output_type": "stream",
          "text": [
            "The score of LinearRegression is : 0.27 \n",
            "==================================\n",
            "The MSE of LinearRegression is : 0.26 \n",
            "================================== \n",
            "The MAE of LinearRegression is : 0.39 \n",
            "==================================\n"
          ],
          "name": "stdout"
        }
      ]
    },
    {
      "cell_type": "code",
      "metadata": {
        "id": "EKWVnUedTFIx",
        "colab_type": "code",
        "outputId": "28a4a770-bdfc-4fba-8a36-560a292cbae1",
        "colab": {
          "base_uri": "https://localhost:8080/",
          "height": 121
        }
      },
      "source": [
        "print_linear_score(SGDRegressor())"
      ],
      "execution_count": 0,
      "outputs": [
        {
          "output_type": "stream",
          "text": [
            "The score of SGDRegressor is : 0.27 \n",
            "==================================\n",
            "The MSE of SGDRegressor is : 0.26 \n",
            "================================== \n",
            "The MAE of SGDRegressor is : 0.39 \n",
            "==================================\n"
          ],
          "name": "stdout"
        }
      ]
    },
    {
      "cell_type": "code",
      "metadata": {
        "id": "3mDkOecJVrki",
        "colab_type": "code",
        "colab": {}
      },
      "source": [
        "# Modeling function \n",
        "def print_score(model):\n",
        "  modeling = Pipeline(steps=[('preprocessor', preprocessor),\n",
        "                      ('regressor', model) ] )\n",
        "  modeling.fit(x_train, y_train)\n",
        "  y_pred=modeling.predict(x_test)\n",
        "  model_name=type(model).__name__\n",
        "  print(f\"The score of {model_name} is : { round ( r2_score(y_test, y_pred), 2) } \\n==================================\")\n",
        "  print(f\"The MSE of {model_name} is : { round ( mse(y_test, y_pred), 2) } \\n================================== \")\n",
        "  print (f\"The MAE of {model_name} is : { round ( mae(y_test, y_pred), 2) } \\n==================================\")"
      ],
      "execution_count": 0,
      "outputs": []
    },
    {
      "cell_type": "code",
      "metadata": {
        "id": "hgb5bixiV4Sk",
        "colab_type": "code",
        "outputId": "8932cdc1-cdf7-4baa-be6b-15f0d8925669",
        "colab": {
          "base_uri": "https://localhost:8080/",
          "height": 121
        }
      },
      "source": [
        "print_score(RandomForestRegressor())"
      ],
      "execution_count": 0,
      "outputs": [
        {
          "output_type": "stream",
          "text": [
            "The score of RandomForestRegressor is : 0.03 \n",
            "==================================\n",
            "The MSE of RandomForestRegressor is : 0.35 \n",
            "================================== \n",
            "The MAE of RandomForestRegressor is : 0.43 \n",
            "==================================\n"
          ],
          "name": "stdout"
        }
      ]
    },
    {
      "cell_type": "code",
      "metadata": {
        "id": "E7V-uO7iButP",
        "colab_type": "code",
        "outputId": "8eebc372-0629-481c-b353-0bd88bd5f52d",
        "colab": {
          "base_uri": "https://localhost:8080/",
          "height": 121
        }
      },
      "source": [
        "print_score(DecisionTreeRegressor(criterion='mse', max_depth=100 , random_state= 123))"
      ],
      "execution_count": 0,
      "outputs": [
        {
          "output_type": "stream",
          "text": [
            "The score of DecisionTreeRegressor is : 0.03 \n",
            "==================================\n",
            "The MSE of DecisionTreeRegressor is : 0.35 \n",
            "================================== \n",
            "The MAE of DecisionTreeRegressor is : 0.43 \n",
            "==================================\n"
          ],
          "name": "stdout"
        }
      ]
    },
    {
      "cell_type": "markdown",
      "metadata": {
        "id": "tYNbLhZJY2sW",
        "colab_type": "text"
      },
      "source": [
        "### XGBoost Modelisation"
      ]
    },
    {
      "cell_type": "code",
      "metadata": {
        "id": "TyvrOskrY6Cb",
        "colab_type": "code",
        "outputId": "7cee062e-c70b-4d09-cd7f-399723a969e5",
        "colab": {
          "base_uri": "https://localhost:8080/",
          "height": 138
        }
      },
      "source": [
        "import xgboost as xgb\n",
        "\n",
        "print_score( xgb.XGBRegressor(objective ='reg:linear', colsample_bytree = 0.3, learning_rate = 0.1,\n",
        "                max_depth = 5, alpha = 10, n_estimators = 10) )"
      ],
      "execution_count": 0,
      "outputs": [
        {
          "output_type": "stream",
          "text": [
            "[13:18:16] WARNING: /workspace/src/objective/regression_obj.cu:152: reg:linear is now deprecated in favor of reg:squarederror.\n",
            "The score of XGBRegressor is : -2.55 \n",
            "==================================\n",
            "The MSE of XGBRegressor is : 1.27 \n",
            "================================== \n",
            "The MAE of XGBRegressor is : 1.02 \n",
            "==================================\n"
          ],
          "name": "stdout"
        }
      ]
    },
    {
      "cell_type": "markdown",
      "metadata": {
        "id": "c64sRsMK_94p",
        "colab_type": "text"
      },
      "source": [
        "All the models are are quit good , lower score and greater MSE , MAE & RMSE\n",
        "\n",
        "We'll try dive in feature engineering to select only the features that matter for the model. "
      ]
    },
    {
      "cell_type": "code",
      "metadata": {
        "id": "zvmYaoQSFBVO",
        "colab_type": "code",
        "colab": {}
      },
      "source": [
        "# Dataset \n",
        "dataset.head()\n",
        "dataset_lasso = pd.get_dummies(dataset_ml)\n",
        "x_lasso = dataset_lasso.drop('weightbabykg', axis=1)\n",
        "y_lasso = dataset_lasso['weightbabykg']"
      ],
      "execution_count": 0,
      "outputs": []
    },
    {
      "cell_type": "code",
      "metadata": {
        "id": "7JPiMrh1AYXu",
        "colab_type": "code",
        "outputId": "e2222e68-b4b6-4aa6-c695-d29cf38792ae",
        "colab": {
          "base_uri": "https://localhost:8080/",
          "height": 374
        }
      },
      "source": [
        "# Fit the regressor to the data\n",
        "lasso = Lasso(alpha=0.1, normalize=True)\n",
        "lasso.fit(x_lasso, y_lasso)\n",
        "\n",
        "# Compute and print the coefficients\n",
        "lasso_coef = lasso.coef_\n",
        "print(lasso_coef)\n",
        "\n",
        "# Plot the coefficients\n",
        "plt.plot(range(len(x_lasso.columns)), lasso_coef)\n",
        "plt.xticks(range(len(x_lasso.columns)), x_lasso.columns.values, rotation=60)\n",
        "plt.margins(0.02)\n",
        "plt.show()"
      ],
      "execution_count": 0,
      "outputs": [
        {
          "output_type": "stream",
          "text": [
            "[-0.  0.  0.  0. -0.  0. -0.  0.  0. -0.  0. -0.]\n"
          ],
          "name": "stdout"
        },
        {
          "output_type": "display_data",
          "data": {
            "image/png": "[encoded data removed]",
            "text/plain": [
              "<Figure size 432x288 with 1 Axes>"
            ]
          },
          "metadata": {
            "tags": [],
            "needs_background": "light"
          }
        }
      ]
    },
    {
      "cell_type": "code",
      "metadata": {
        "id": "1MCqfFXFK-RJ",
        "colab_type": "code",
        "outputId": "95852cfe-2922-4124-8488-3e6cacb6211c",
        "colab": {
          "base_uri": "https://localhost:8080/",
          "height": 417
        }
      },
      "source": [
        "pd.DataFrame(lasso_coef, index=x_lasso.columns)"
      ],
      "execution_count": 0,
      "outputs": [
        {
          "output_type": "execute_result",
          "data": {
            "text/html": [
              "<div>\n",
              "<style scoped>\n",
              "    .dataframe tbody tr th:only-of-type {\n",
              "        vertical-align: middle;\n",
              "    }\n",
              "\n",
              "    .dataframe tbody tr th {\n",
              "        vertical-align: top;\n",
              "    }\n",
              "\n",
              "    .dataframe thead th {\n",
              "        text-align: right;\n",
              "    }\n",
              "</style>\n",
              "<table border=\"1\" class=\"dataframe\">\n",
              "  <thead>\n",
              "    <tr style=\"text-align: right;\">\n",
              "      <th></th>\n",
              "      <th>0</th>\n",
              "    </tr>\n",
              "  </thead>\n",
              "  <tbody>\n",
              "    <tr>\n",
              "      <th>plurality</th>\n",
              "      <td>-0.0</td>\n",
              "    </tr>\n",
              "    <tr>\n",
              "      <th>mother_age</th>\n",
              "      <td>0.0</td>\n",
              "    </tr>\n",
              "    <tr>\n",
              "      <th>gestation_weeks</th>\n",
              "      <td>0.0</td>\n",
              "    </tr>\n",
              "    <tr>\n",
              "      <th>mother_weight</th>\n",
              "      <td>0.0</td>\n",
              "    </tr>\n",
              "    <tr>\n",
              "      <th>is_male_False</th>\n",
              "      <td>-0.0</td>\n",
              "    </tr>\n",
              "    <tr>\n",
              "      <th>is_male_True</th>\n",
              "      <td>0.0</td>\n",
              "    </tr>\n",
              "    <tr>\n",
              "      <th>mother_married_False</th>\n",
              "      <td>-0.0</td>\n",
              "    </tr>\n",
              "    <tr>\n",
              "      <th>mother_married_True</th>\n",
              "      <td>0.0</td>\n",
              "    </tr>\n",
              "    <tr>\n",
              "      <th>cigarette_use_False</th>\n",
              "      <td>0.0</td>\n",
              "    </tr>\n",
              "    <tr>\n",
              "      <th>cigarette_use_True</th>\n",
              "      <td>-0.0</td>\n",
              "    </tr>\n",
              "    <tr>\n",
              "      <th>alcohol_use_False</th>\n",
              "      <td>0.0</td>\n",
              "    </tr>\n",
              "    <tr>\n",
              "      <th>alcohol_use_True</th>\n",
              "      <td>-0.0</td>\n",
              "    </tr>\n",
              "  </tbody>\n",
              "</table>\n",
              "</div>"
            ],
            "text/plain": [
              "                        0\n",
              "plurality            -0.0\n",
              "mother_age            0.0\n",
              "gestation_weeks       0.0\n",
              "mother_weight         0.0\n",
              "is_male_False        -0.0\n",
              "is_male_True          0.0\n",
              "mother_married_False -0.0\n",
              "mother_married_True   0.0\n",
              "cigarette_use_False   0.0\n",
              "cigarette_use_True   -0.0\n",
              "alcohol_use_False     0.0\n",
              "alcohol_use_True     -0.0"
            ]
          },
          "metadata": {
            "tags": []
          },
          "execution_count": 38
        }
      ]
    },
    {
      "cell_type": "code",
      "metadata": {
        "id": "5R1RymeFK-u7",
        "colab_type": "code",
        "colab": {}
      },
      "source": [
        ""
      ],
      "execution_count": 0,
      "outputs": []
    }
  ]
}