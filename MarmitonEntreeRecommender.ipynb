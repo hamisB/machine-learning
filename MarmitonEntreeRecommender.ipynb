{
  "nbformat": 4,
  "nbformat_minor": 0,
  "metadata": {
    "colab": {
      "name": "MarmitonEntreeRecommender.ipynb",
      "provenance": [],
      "authorship_tag": "ABX9TyOgPa46wElJL7yWwtAtZZKO",
      "include_colab_link": true
    },
    "kernelspec": {
      "name": "python3",
      "display_name": "Python 3"
    }
  },
  "cells": [
    {
      "cell_type": "markdown",
      "metadata": {
        "id": "view-in-github",
        "colab_type": "text"
      },
      "source": [
        "<a href=\"https://colab.research.google.com/github/hamisB/machine-learning/blob/master/MarmitonEntreeRecommender.ipynb\" target=\"_parent\"><img src=\"https://colab.research.google.com/assets/colab-badge.svg\" alt=\"Open In Colab\"/></a>"
      ]
    },
    {
      "cell_type": "markdown",
      "metadata": {
        "id": "dP597R4aafQR",
        "colab_type": "text"
      },
      "source": [
        "## Import DATA"
      ]
    },
    {
      "cell_type": "code",
      "metadata": {
        "id": "awqGCzlxsm0y",
        "colab_type": "code",
        "colab": {}
      },
      "source": [
        "# import librairies \n",
        "import pandas as pd\n",
        "import numpy as np\n",
        "import re\n",
        "import matplotlib.pyplot as plt\n",
        "import seaborn as sns\n",
        "sns.set_style(\"whitegrid\")\n",
        "plt.style.use(\"fivethirtyeight\") \n",
        "from datetime import datetime\n",
        "import warnings\n",
        "warnings.filterwarnings(\"ignore\")\n",
        "import ast\n",
        "%matplotlib inline\n",
        "import pandas_profiling as pp\n",
        "import matplotlib.pyplot as plt"
      ],
      "execution_count": 0,
      "outputs": []
    },
    {
      "cell_type": "code",
      "metadata": {
        "id": "OsJO3QrRRckI",
        "colab_type": "code",
        "colab": {
          "base_uri": "https://localhost:8080/",
          "height": 66
        },
        "outputId": "88549855-6025-4a05-e4a5-a87a42b17276"
      },
      "source": [
        "# Import sklearn and nltk for NLP processing \n",
        "from sklearn.feature_extraction.text import CountVectorizer\n",
        "from sklearn.feature_extraction.text import TfidfVectorizer\n",
        "from sklearn.naive_bayes import MultinomialNB\n",
        "from sklearn.cluster import KMeans\n",
        "from sklearn.model_selection import train_test_split\n",
        "import nltk\n",
        "nltk.download('stopwords')"
      ],
      "execution_count": 66,
      "outputs": [
        {
          "output_type": "stream",
          "text": [
            "[nltk_data] Downloading package stopwords to /root/nltk_data...\n",
            "[nltk_data]   Package stopwords is already up-to-date!\n"
          ],
          "name": "stdout"
        },
        {
          "output_type": "execute_result",
          "data": {
            "text/plain": [
              "True"
            ]
          },
          "metadata": {
            "tags": []
          },
          "execution_count": 66
        }
      ]
    },
    {
      "cell_type": "code",
      "metadata": {
        "id": "8japa2iis6tv",
        "colab_type": "code",
        "colab": {}
      },
      "source": [
        "# Loading the data \n",
        "data = pd.read_csv('https://storage.googleapis.com/source_market_fr/data_for_ml/recipe_details.csv')"
      ],
      "execution_count": 0,
      "outputs": []
    },
    {
      "cell_type": "code",
      "metadata": {
        "id": "3ipj65ahtCui",
        "colab_type": "code",
        "outputId": "fc114ecb-9522-4fe8-c69f-c5494aea7d78",
        "colab": {
          "base_uri": "https://localhost:8080/",
          "height": 220
        }
      },
      "source": [
        "# Set Title as Index and delelte the columns 'Unnamed: 0\n",
        "data.set_index('Title', inplace=True)\n",
        "data.drop('Unnamed: 0', axis=1, inplace=True)\n",
        "dataset=data.copy()\n",
        "dataset.head()"
      ],
      "execution_count": 68,
      "outputs": [
        {
          "output_type": "execute_result",
          "data": {
            "text/html": [
              "<div>\n",
              "<style scoped>\n",
              "    .dataframe tbody tr th:only-of-type {\n",
              "        vertical-align: middle;\n",
              "    }\n",
              "\n",
              "    .dataframe tbody tr th {\n",
              "        vertical-align: top;\n",
              "    }\n",
              "\n",
              "    .dataframe thead th {\n",
              "        text-align: right;\n",
              "    }\n",
              "</style>\n",
              "<table border=\"1\" class=\"dataframe\">\n",
              "  <thead>\n",
              "    <tr style=\"text-align: right;\">\n",
              "      <th></th>\n",
              "      <th>total_time</th>\n",
              "      <th>yiedls</th>\n",
              "      <th>ingredients</th>\n",
              "      <th>instructions</th>\n",
              "      <th>ratings</th>\n",
              "    </tr>\n",
              "    <tr>\n",
              "      <th>Title</th>\n",
              "      <th></th>\n",
              "      <th></th>\n",
              "      <th></th>\n",
              "      <th></th>\n",
              "      <th></th>\n",
              "    </tr>\n",
              "  </thead>\n",
              "  <tbody>\n",
              "    <tr>\n",
              "      <th>Tacos mexicains</th>\n",
              "      <td>55</td>\n",
              "      <td>4 personnes</td>\n",
              "      <td>['8 tortillas pour tacos (achetés, ou recette ...</td>\n",
              "      <td>A la poêle, faire dorer l'oignon émincé dans u...</td>\n",
              "      <td>4.6</td>\n",
              "    </tr>\n",
              "    <tr>\n",
              "      <th>Velouté de Potiron et Carottes</th>\n",
              "      <td>60</td>\n",
              "      <td>4 personnes</td>\n",
              "      <td>['1 kg de potiron', '500 g de carotte', '2 pom...</td>\n",
              "      <td>Éplucher et couper en dés le potiron, les pomm...</td>\n",
              "      <td>4.8</td>\n",
              "    </tr>\n",
              "    <tr>\n",
              "      <th>Pain (rapide)</th>\n",
              "      <td>70</td>\n",
              "      <td>1 pain</td>\n",
              "      <td>['500 g de farine type 55', '1 sachet de levur...</td>\n",
              "      <td>Mélangez la farine, l'huile d'olive, le sachet...</td>\n",
              "      <td>4.4</td>\n",
              "    </tr>\n",
              "    <tr>\n",
              "      <th>Flan de courgettes</th>\n",
              "      <td>50</td>\n",
              "      <td>6 personnes</td>\n",
              "      <td>['1 kg de courgette', '100 g de gruyère râpé (...</td>\n",
              "      <td>Couper les courgettes en très fines rondelles....</td>\n",
              "      <td>4.8</td>\n",
              "    </tr>\n",
              "    <tr>\n",
              "      <th>Gaspacho au Thermomix</th>\n",
              "      <td>20</td>\n",
              "      <td>6 Personnes</td>\n",
              "      <td>['5 tomates bien mûres (hors saison, prendre d...</td>\n",
              "      <td>Éplucher les tomates (facultatif), un demi-con...</td>\n",
              "      <td>4.1</td>\n",
              "    </tr>\n",
              "  </tbody>\n",
              "</table>\n",
              "</div>"
            ],
            "text/plain": [
              "                                total_time  ... ratings\n",
              "Title                                       ...        \n",
              "Tacos mexicains                         55  ...     4.6\n",
              "Velouté de Potiron et Carottes          60  ...     4.8\n",
              "Pain (rapide)                           70  ...     4.4\n",
              "Flan de courgettes                      50  ...     4.8\n",
              "Gaspacho au Thermomix                   20  ...     4.1\n",
              "\n",
              "[5 rows x 5 columns]"
            ]
          },
          "metadata": {
            "tags": []
          },
          "execution_count": 68
        }
      ]
    },
    {
      "cell_type": "markdown",
      "metadata": {
        "id": "RY9CrpLBacDW",
        "colab_type": "text"
      },
      "source": [
        "## Processing ingredients \n"
      ]
    },
    {
      "cell_type": "code",
      "metadata": {
        "id": "d88_nzOKU6cT",
        "colab_type": "code",
        "colab": {}
      },
      "source": [
        "# Words to delete \n",
        "STOPWORDS = set(nltk.corpus.stopwords.words('french'))\n",
        "STEMMER = nltk.stem.SnowballStemmer('french')\n",
        "# Cleaning function\n",
        "def clean_text(text):\n",
        "    text_lower = text.lower()\n",
        "    text_clean = re.sub('[^a-z_]', ' ', text_lower)\n",
        "    tokens = [w for w in text_clean.split() if (len(w)>2) and (w not in STOPWORDS)]\n",
        "    tokens_stem = [ STEMMER.stem(token) for token in tokens]\n",
        "    return tokens_stem"
      ],
      "execution_count": 0,
      "outputs": []
    },
    {
      "cell_type": "markdown",
      "metadata": {
        "id": "sPzxELlDa9ZY",
        "colab_type": "text"
      },
      "source": [
        "## Vectorizing\n"
      ]
    },
    {
      "cell_type": "code",
      "metadata": {
        "id": "u9-C2AV1a8Fo",
        "colab_type": "code",
        "colab": {
          "base_uri": "https://localhost:8080/",
          "height": 50
        },
        "outputId": "a5c4b0ef-71b2-4018-fe16-2935d98054c0"
      },
      "source": [
        "tfid = tfidf_vectorizer = TfidfVectorizer(tokenizer=clean_text, ngram_range=(1,2))\n",
        "tfid_matrix = tfid.fit_transform(dataset['ingredients'])\n",
        "print(tfid_matrix.shape)\n",
        "tfid.get_feature_names()[10]"
      ],
      "execution_count": 70,
      "outputs": [
        {
          "output_type": "stream",
          "text": [
            "(12780, 48090)\n"
          ],
          "name": "stdout"
        },
        {
          "output_type": "execute_result",
          "data": {
            "text/plain": [
              "'able'"
            ]
          },
          "metadata": {
            "tags": []
          },
          "execution_count": 70
        }
      ]
    },
    {
      "cell_type": "code",
      "metadata": {
        "id": "phZiEND5e9ZA",
        "colab_type": "code",
        "colab": {
          "base_uri": "https://localhost:8080/",
          "height": 180
        },
        "outputId": "d11c986b-4fec-42cf-f13a-a9802c0465df"
      },
      "source": [
        "tfid.get_feature_names()[:10]"
      ],
      "execution_count": 71,
      "outputs": [
        {
          "output_type": "execute_result",
          "data": {
            "text/plain": [
              "['_blank',\n",
              " '_blank courget',\n",
              " 'aaa',\n",
              " 'aaa cuill',\n",
              " 'abaiss',\n",
              " 'abaiss viand',\n",
              " 'abat',\n",
              " 'abat cerf',\n",
              " 'abat eau',\n",
              " 'abat oignon']"
            ]
          },
          "metadata": {
            "tags": []
          },
          "execution_count": 71
        }
      ]
    },
    {
      "cell_type": "code",
      "metadata": {
        "id": "ul3RHkqKfBAo",
        "colab_type": "code",
        "colab": {}
      },
      "source": [
        "# Calcul similarity \n",
        "from sklearn.metrics.pairwise import linear_kernel\n",
        "similarity = linear_kernel(tfid_matrix, tfid_matrix)"
      ],
      "execution_count": 0,
      "outputs": []
    },
    {
      "cell_type": "code",
      "metadata": {
        "id": "iw6vDRBOfcb5",
        "colab_type": "code",
        "colab": {}
      },
      "source": [
        "simil_df = pd.DataFrame(similarity, index=dataset.index, columns=dataset.index)"
      ],
      "execution_count": 0,
      "outputs": []
    },
    {
      "cell_type": "markdown",
      "metadata": {
        "id": "MCMxpro-1rBQ",
        "colab_type": "text"
      },
      "source": [
        "## Recipe Recommender\n",
        "\n",
        "---\n",
        "\n"
      ]
    },
    {
      "cell_type": "code",
      "metadata": {
        "id": "Su1J_3LSgzH9",
        "colab_type": "code",
        "colab": {
          "base_uri": "https://localhost:8080/",
          "height": 212
        },
        "outputId": "70ba4aea-0581-4cf0-dcff-195f4522d9f1"
      },
      "source": [
        "simil_df[\"Pain farci\"].sort_values(ascending=False)[1:11]\n"
      ],
      "execution_count": 91,
      "outputs": [
        {
          "output_type": "execute_result",
          "data": {
            "text/plain": [
              "Title\n",
              "'champignons empoisonnés'                              0.331758\n",
              "Frisée oeuf, jambon et pomme                           0.296075\n",
              "Oeufs au plat de Virginie aux oignons et aux câpres    0.249449\n",
              "Salade fraicheur                                       0.247347\n",
              "Haricots verts vinaigrette aux oeufs durs              0.246318\n",
              "tomates au thon et chèvre frais                        0.235538\n",
              "Salade méditerranéenne au thon                         0.230971\n",
              "Thon tartare aux câpres                                0.222873\n",
              "Salade poulet avocat et basilic                        0.222020\n",
              "Salade méchouia algérienne de Coralie                  0.216305\n",
              "Name: Pain farci, dtype: float64"
            ]
          },
          "metadata": {
            "tags": []
          },
          "execution_count": 91
        }
      ]
    },
    {
      "cell_type": "code",
      "metadata": {
        "id": "H_RGHHSifUj-",
        "colab_type": "code",
        "colab": {}
      },
      "source": [
        "def recommender(dish):\n",
        "  print(simil_df[dish].sort_values(ascending=False)[1:11])"
      ],
      "execution_count": 0,
      "outputs": []
    },
    {
      "cell_type": "code",
      "metadata": {
        "id": "W478OzZW3_YI",
        "colab_type": "code",
        "colab": {
          "base_uri": "https://localhost:8080/",
          "height": 212
        },
        "outputId": "682b1458-57f7-47f1-b1a8-1669ce022821"
      },
      "source": [
        "recommender(\"Pissenlits au roquefort en salade\")"
      ],
      "execution_count": 94,
      "outputs": [
        {
          "output_type": "stream",
          "text": [
            "Title\n",
            "Mousse aux noix apéritive                        0.528803\n",
            "Salade d'automne sauce roquefort                 0.434030\n",
            "Salade de magret de canard aux pommes            0.433583\n",
            "Salade de courgettes et tomates                  0.389685\n",
            "Salade de chou rouge aux magrets de Noémie       0.346610\n",
            "Tarte poire, roquefort et noix                   0.329821\n",
            "Betteraves aux pommes et aux noix                0.326348\n",
            "Marinade d'oignon rouge et radis noir            0.324502\n",
            "Chou rouge au roquefort et aux noix en salade    0.319063\n",
            "Pissenlits en salade aux lards et aux noix       0.313851\n",
            "Name: Pissenlits au roquefort en salade, dtype: float64\n"
          ],
          "name": "stdout"
        }
      ]
    },
    {
      "cell_type": "code",
      "metadata": {
        "id": "3ClxzFIG5ryO",
        "colab_type": "code",
        "colab": {
          "base_uri": "https://localhost:8080/",
          "height": 228
        },
        "outputId": "15b1caaa-dbdc-480a-de95-08eaa91d41bd"
      },
      "source": [
        "dropdown = 'Tacos mexicains' #@param [\"Tacos mexicains\", \"Velouté de Potiron et Carottes\", \"Flan de courgettes\"]\n",
        "print (recommender(dropdown))"
      ],
      "execution_count": 109,
      "outputs": [
        {
          "output_type": "stream",
          "text": [
            "Title\n",
            "Terrine de boeuf aux poivrons                           0.196092\n",
            "Salade de poivrons (Maroc)                              0.168083\n",
            "Saumon cru au lait de coco                              0.165544\n",
            "Terrine rouge et blanc                                  0.158486\n",
            "Bricks a la viande hachée et aux légumes                0.153009\n",
            "Keftas                                                  0.146511\n",
            "Salade de haricots rouges, poulet mariné et crudités    0.143702\n",
            "Timbale de thon et d'avocat à la tomate                 0.140493\n",
            "Salade aux haricots rouges, maïs et thon                0.138297\n",
            "Chilaquiles à a Monique                                 0.136989\n",
            "Name: Tacos mexicains, dtype: float64\n",
            "None\n"
          ],
          "name": "stdout"
        }
      ]
    },
    {
      "cell_type": "code",
      "metadata": {
        "id": "RTsB21AA9hFp",
        "colab_type": "code",
        "colab": {}
      },
      "source": [
        ""
      ],
      "execution_count": 0,
      "outputs": []
    }
  ]
}