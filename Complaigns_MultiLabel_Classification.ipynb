{
  "nbformat": 4,
  "nbformat_minor": 0,
  "metadata": {
    "colab": {
      "name": "Complaigns_MultiLabel_Classification",
      "provenance": [],
      "machine_shape": "hm",
      "authorship_tag": "ABX9TyM/g5L7xmxfVaGG7hp7d0VX",
      "include_colab_link": true
    },
    "kernelspec": {
      "name": "python3",
      "display_name": "Python 3"
    }
  },
  "cells": [
    {
      "cell_type": "markdown",
      "metadata": {
        "id": "view-in-github",
        "colab_type": "text"
      },
      "source": [
        "<a href=\"https://colab.research.google.com/github/hamisB/machine-learning/blob/master/Complaigns_MultiLabel_Classification.ipynb\" target=\"_parent\"><img src=\"https://colab.research.google.com/assets/colab-badge.svg\" alt=\"Open In Colab\"/></a>"
      ]
    },
    {
      "cell_type": "markdown",
      "metadata": {
        "id": "MFu9uMi6F1VA",
        "colab_type": "text"
      },
      "source": [
        "\n",
        "## DATA IMPORT\n",
        "---\n",
        "\n"
      ]
    },
    {
      "cell_type": "code",
      "metadata": {
        "id": "FCYNhe7B--P1",
        "colab_type": "code",
        "outputId": "67c6ce76-6428-47ad-e8fa-5bb2ed7dbfdb",
        "colab": {
          "base_uri": "https://localhost:8080/",
          "height": 70
        }
      },
      "source": [
        "# import librairies \n",
        "import pandas as pd\n",
        "import numpy as np\n",
        "import matplotlib.pyplot as plt\n",
        "import re\n",
        "import seaborn as sns\n",
        "import warnings\n",
        "warnings.filterwarnings(\"ignore\")\n",
        "%matplotlib inline\n",
        "import pandas_profiling as pp\n",
        "import matplotlib.pyplot as plt"
      ],
      "execution_count": 1,
      "outputs": [
        {
          "output_type": "stream",
          "text": [
            "/usr/local/lib/python3.6/dist-packages/statsmodels/tools/_testing.py:19: FutureWarning: pandas.util.testing is deprecated. Use the functions in the public API at pandas.testing instead.\n",
            "  import pandas.util.testing as tm\n"
          ],
          "name": "stderr"
        }
      ]
    },
    {
      "cell_type": "code",
      "metadata": {
        "id": "it5HOf8-_XYe",
        "colab_type": "code",
        "outputId": "1ce9ff26-c6c4-4537-e0f4-bc0ae537511f",
        "colab": {
          "base_uri": "https://localhost:8080/",
          "height": 191
        }
      },
      "source": [
        "# Get the data\n",
        "data = pd.io.gbq.read_gbq(\n",
        "'''\n",
        "SELECT\n",
        "  Product,\n",
        "  Consumer_complaint_narrative\n",
        "FROM\n",
        "  `bigquery-public-data.cfpb_complaints.complaint_database`\n",
        "WHERE\n",
        "  Consumer_complaint_narrative IS NOT NULL\n",
        "LIMIT\n",
        "  100000\n",
        "'''\n",
        ", project_id=\"t-water-211708\", dialect='standard')\n",
        "\n",
        "dataset = data.copy()\n",
        "dataset.head()"
      ],
      "execution_count": 2,
      "outputs": [
        {
          "output_type": "execute_result",
          "data": {
            "text/html": [
              "<div>\n",
              "<style scoped>\n",
              "    .dataframe tbody tr th:only-of-type {\n",
              "        vertical-align: middle;\n",
              "    }\n",
              "\n",
              "    .dataframe tbody tr th {\n",
              "        vertical-align: top;\n",
              "    }\n",
              "\n",
              "    .dataframe thead th {\n",
              "        text-align: right;\n",
              "    }\n",
              "</style>\n",
              "<table border=\"1\" class=\"dataframe\">\n",
              "  <thead>\n",
              "    <tr style=\"text-align: right;\">\n",
              "      <th></th>\n",
              "      <th>Product</th>\n",
              "      <th>Consumer_complaint_narrative</th>\n",
              "    </tr>\n",
              "  </thead>\n",
              "  <tbody>\n",
              "    <tr>\n",
              "      <th>0</th>\n",
              "      <td>Prepaid card</td>\n",
              "      <td>The Western Union Netspend card is only XXXX o...</td>\n",
              "    </tr>\n",
              "    <tr>\n",
              "      <th>1</th>\n",
              "      <td>Prepaid card</td>\n",
              "      <td>I received a XXXX XXXX rebate card in the form...</td>\n",
              "    </tr>\n",
              "    <tr>\n",
              "      <th>2</th>\n",
              "      <td>Prepaid card</td>\n",
              "      <td>Without receiving any notification that my acc...</td>\n",
              "    </tr>\n",
              "    <tr>\n",
              "      <th>3</th>\n",
              "      <td>Prepaid card</td>\n",
              "      <td>I received a Citi Visa Debit card with a balan...</td>\n",
              "    </tr>\n",
              "    <tr>\n",
              "      <th>4</th>\n",
              "      <td>Prepaid card</td>\n",
              "      <td>In the process of making a purchase over the i...</td>\n",
              "    </tr>\n",
              "  </tbody>\n",
              "</table>\n",
              "</div>"
            ],
            "text/plain": [
              "        Product                       Consumer_complaint_narrative\n",
              "0  Prepaid card  The Western Union Netspend card is only XXXX o...\n",
              "1  Prepaid card  I received a XXXX XXXX rebate card in the form...\n",
              "2  Prepaid card  Without receiving any notification that my acc...\n",
              "3  Prepaid card  I received a Citi Visa Debit card with a balan...\n",
              "4  Prepaid card  In the process of making a purchase over the i..."
            ]
          },
          "metadata": {
            "tags": []
          },
          "execution_count": 2
        }
      ]
    },
    {
      "cell_type": "code",
      "metadata": {
        "id": "yuDp5yUOT_li",
        "colab_type": "code",
        "colab": {}
      },
      "source": [
        "# Create a list of top 10 productType\n",
        "product_list = list(dataset.Product.value_counts().reset_index()['index'][0:10])\n",
        "\n",
        "# Function to agregate the top 10 productType\n",
        "def productType(elem):\n",
        "  if elem in product_list:\n",
        "    info = elem\n",
        "  else :\n",
        "    info = \"Other\"\n",
        "  return info  "
      ],
      "execution_count": 0,
      "outputs": []
    },
    {
      "cell_type": "code",
      "metadata": {
        "id": "MX493T9FWpW0",
        "colab_type": "code",
        "colab": {}
      },
      "source": [
        "# Apply function to product to create the column productType\n",
        "dataset['productType'] = dataset['Product'].apply(lambda x : productType(x))"
      ],
      "execution_count": 0,
      "outputs": []
    },
    {
      "cell_type": "code",
      "metadata": {
        "id": "64N5nDxfW5hU",
        "colab_type": "code",
        "outputId": "364cba86-dea1-48b5-cfee-1e17fe0194c4",
        "colab": {
          "base_uri": "https://localhost:8080/",
          "height": 513
        }
      },
      "source": [
        "plt.figure(figsize=(20,8))\n",
        "sns.countplot(x='productType', data=dataset)"
      ],
      "execution_count": 5,
      "outputs": [
        {
          "output_type": "execute_result",
          "data": {
            "text/plain": [
              "<matplotlib.axes._subplots.AxesSubplot at 0x7f04a7e3a0b8>"
            ]
          },
          "metadata": {
            "tags": []
          },
          "execution_count": 5
        },
        {
          "output_type": "display_data",
          "data": {
            "image/png": "[encoded data removed]",
            "text/plain": [
              "<Figure size 1440x576 with 1 Axes>"
            ]
          },
          "metadata": {
            "tags": [],
            "needs_background": "light"
          }
        }
      ]
    },
    {
      "cell_type": "markdown",
      "metadata": {
        "id": "UBnxwxH7F6kH",
        "colab_type": "text"
      },
      "source": [
        "\n",
        "## TEXT EDA\n",
        "---\n",
        "\n"
      ]
    },
    {
      "cell_type": "code",
      "metadata": {
        "id": "zQcFrEafF94Z",
        "colab_type": "code",
        "outputId": "6744df24-f69c-45df-dd49-e8a5b24e61fa",
        "colab": {
          "base_uri": "https://localhost:8080/",
          "height": 66
        }
      },
      "source": [
        "from sklearn.feature_extraction.text import CountVectorizer\n",
        "from sklearn.feature_extraction.text import TfidfVectorizer\n",
        "from sklearn.feature_extraction.text import TfidfTransformer\n",
        "from sklearn.preprocessing import LabelEncoder\n",
        "from sklearn.naive_bayes import MultinomialNB\n",
        "from sklearn.compose import ColumnTransformer\n",
        "from sklearn.pipeline import Pipeline\n",
        "from sklearn.model_selection import train_test_split\n",
        "import nltk\n",
        "nltk.download('stopwords')"
      ],
      "execution_count": 6,
      "outputs": [
        {
          "output_type": "stream",
          "text": [
            "[nltk_data] Downloading package stopwords to /root/nltk_data...\n",
            "[nltk_data]   Package stopwords is already up-to-date!\n"
          ],
          "name": "stdout"
        },
        {
          "output_type": "execute_result",
          "data": {
            "text/plain": [
              "True"
            ]
          },
          "metadata": {
            "tags": []
          },
          "execution_count": 6
        }
      ]
    },
    {
      "cell_type": "code",
      "metadata": {
        "id": "w_FHYw7CtLCW",
        "colab_type": "code",
        "colab": {}
      },
      "source": [
        "# Words to delete \n",
        "STOPWORDS = set(nltk.corpus.stopwords.words('english'))\n",
        "STEMMER = nltk.stem.SnowballStemmer('english')\n",
        "# Cleaning function\n",
        "def clean_text(text):\n",
        "    text_lower = text.lower()\n",
        "    text_clean = re.sub('[^a-z_]', ' ', text_lower)\n",
        "    tokens = [w for w in text_clean.split() if (len(w)>2) and (w not in STOPWORDS)]\n",
        "    tokens_stem = [ STEMMER.stem(token) for token in tokens]\n",
        "    return tokens_stem"
      ],
      "execution_count": 0,
      "outputs": []
    },
    {
      "cell_type": "code",
      "metadata": {
        "id": "_GE9BX2ePB7d",
        "colab_type": "code",
        "outputId": "49462fb6-2919-41b0-ee5b-2f0caf9375d0",
        "colab": {
          "base_uri": "https://localhost:8080/",
          "height": 191
        }
      },
      "source": [
        "# Encoding the label\n",
        "encod = LabelEncoder()\n",
        "info = encod.fit_transform(dataset['productType'])\n",
        "label = pd.DataFrame(info, index=dataset.index, columns=['Label'])\n",
        "dataset_ml = dataset.merge(label, left_index=True, right_index=True)\n",
        "dataset_ml.head()"
      ],
      "execution_count": 8,
      "outputs": [
        {
          "output_type": "execute_result",
          "data": {
            "text/html": [
              "<div>\n",
              "<style scoped>\n",
              "    .dataframe tbody tr th:only-of-type {\n",
              "        vertical-align: middle;\n",
              "    }\n",
              "\n",
              "    .dataframe tbody tr th {\n",
              "        vertical-align: top;\n",
              "    }\n",
              "\n",
              "    .dataframe thead th {\n",
              "        text-align: right;\n",
              "    }\n",
              "</style>\n",
              "<table border=\"1\" class=\"dataframe\">\n",
              "  <thead>\n",
              "    <tr style=\"text-align: right;\">\n",
              "      <th></th>\n",
              "      <th>Product</th>\n",
              "      <th>Consumer_complaint_narrative</th>\n",
              "      <th>productType</th>\n",
              "      <th>Label</th>\n",
              "    </tr>\n",
              "  </thead>\n",
              "  <tbody>\n",
              "    <tr>\n",
              "      <th>0</th>\n",
              "      <td>Prepaid card</td>\n",
              "      <td>The Western Union Netspend card is only XXXX o...</td>\n",
              "      <td>Other</td>\n",
              "      <td>9</td>\n",
              "    </tr>\n",
              "    <tr>\n",
              "      <th>1</th>\n",
              "      <td>Prepaid card</td>\n",
              "      <td>I received a XXXX XXXX rebate card in the form...</td>\n",
              "      <td>Other</td>\n",
              "      <td>9</td>\n",
              "    </tr>\n",
              "    <tr>\n",
              "      <th>2</th>\n",
              "      <td>Prepaid card</td>\n",
              "      <td>Without receiving any notification that my acc...</td>\n",
              "      <td>Other</td>\n",
              "      <td>9</td>\n",
              "    </tr>\n",
              "    <tr>\n",
              "      <th>3</th>\n",
              "      <td>Prepaid card</td>\n",
              "      <td>I received a Citi Visa Debit card with a balan...</td>\n",
              "      <td>Other</td>\n",
              "      <td>9</td>\n",
              "    </tr>\n",
              "    <tr>\n",
              "      <th>4</th>\n",
              "      <td>Prepaid card</td>\n",
              "      <td>In the process of making a purchase over the i...</td>\n",
              "      <td>Other</td>\n",
              "      <td>9</td>\n",
              "    </tr>\n",
              "  </tbody>\n",
              "</table>\n",
              "</div>"
            ],
            "text/plain": [
              "        Product  ... Label\n",
              "0  Prepaid card  ...     9\n",
              "1  Prepaid card  ...     9\n",
              "2  Prepaid card  ...     9\n",
              "3  Prepaid card  ...     9\n",
              "4  Prepaid card  ...     9\n",
              "\n",
              "[5 rows x 4 columns]"
            ]
          },
          "metadata": {
            "tags": []
          },
          "execution_count": 8
        }
      ]
    },
    {
      "cell_type": "code",
      "metadata": {
        "id": "FYKXaxAhXKCO",
        "colab_type": "code",
        "outputId": "4efb0172-f791-466e-8437-e7159824e0ae",
        "colab": {
          "base_uri": "https://localhost:8080/",
          "height": 363
        }
      },
      "source": [
        "# Product type label\n",
        "dataset_ml[['productType', 'Label']].drop_duplicates()"
      ],
      "execution_count": 9,
      "outputs": [
        {
          "output_type": "execute_result",
          "data": {
            "text/html": [
              "<div>\n",
              "<style scoped>\n",
              "    .dataframe tbody tr th:only-of-type {\n",
              "        vertical-align: middle;\n",
              "    }\n",
              "\n",
              "    .dataframe tbody tr th {\n",
              "        vertical-align: top;\n",
              "    }\n",
              "\n",
              "    .dataframe thead th {\n",
              "        text-align: right;\n",
              "    }\n",
              "</style>\n",
              "<table border=\"1\" class=\"dataframe\">\n",
              "  <thead>\n",
              "    <tr style=\"text-align: right;\">\n",
              "      <th></th>\n",
              "      <th>productType</th>\n",
              "      <th>Label</th>\n",
              "    </tr>\n",
              "  </thead>\n",
              "  <tbody>\n",
              "    <tr>\n",
              "      <th>0</th>\n",
              "      <td>Other</td>\n",
              "      <td>9</td>\n",
              "    </tr>\n",
              "    <tr>\n",
              "      <th>39</th>\n",
              "      <td>Credit card</td>\n",
              "      <td>3</td>\n",
              "    </tr>\n",
              "    <tr>\n",
              "      <th>2208</th>\n",
              "      <td>Credit card or prepaid card</td>\n",
              "      <td>4</td>\n",
              "    </tr>\n",
              "    <tr>\n",
              "      <th>2365</th>\n",
              "      <td>Money transfer, virtual currency, or money ser...</td>\n",
              "      <td>7</td>\n",
              "    </tr>\n",
              "    <tr>\n",
              "      <th>2376</th>\n",
              "      <td>Credit reporting, credit repair services, or o...</td>\n",
              "      <td>5</td>\n",
              "    </tr>\n",
              "    <tr>\n",
              "      <th>9697</th>\n",
              "      <td>Checking or savings account</td>\n",
              "      <td>1</td>\n",
              "    </tr>\n",
              "    <tr>\n",
              "      <th>20193</th>\n",
              "      <td>Consumer Loan</td>\n",
              "      <td>2</td>\n",
              "    </tr>\n",
              "    <tr>\n",
              "      <th>22111</th>\n",
              "      <td>Mortgage</td>\n",
              "      <td>8</td>\n",
              "    </tr>\n",
              "    <tr>\n",
              "      <th>23600</th>\n",
              "      <td>Debt collection</td>\n",
              "      <td>6</td>\n",
              "    </tr>\n",
              "    <tr>\n",
              "      <th>59607</th>\n",
              "      <td>Vehicle loan or lease</td>\n",
              "      <td>10</td>\n",
              "    </tr>\n",
              "    <tr>\n",
              "      <th>60817</th>\n",
              "      <td>Bank account or service</td>\n",
              "      <td>0</td>\n",
              "    </tr>\n",
              "  </tbody>\n",
              "</table>\n",
              "</div>"
            ],
            "text/plain": [
              "                                             productType  Label\n",
              "0                                                  Other      9\n",
              "39                                           Credit card      3\n",
              "2208                         Credit card or prepaid card      4\n",
              "2365   Money transfer, virtual currency, or money ser...      7\n",
              "2376   Credit reporting, credit repair services, or o...      5\n",
              "9697                         Checking or savings account      1\n",
              "20193                                      Consumer Loan      2\n",
              "22111                                           Mortgage      8\n",
              "23600                                    Debt collection      6\n",
              "59607                              Vehicle loan or lease     10\n",
              "60817                            Bank account or service      0"
            ]
          },
          "metadata": {
            "tags": []
          },
          "execution_count": 9
        }
      ]
    },
    {
      "cell_type": "code",
      "metadata": {
        "id": "GCGMECmwAo7X",
        "colab_type": "code",
        "colab": {}
      },
      "source": [
        "# Vectorizer \n",
        "tfidf_vectorizer = TfidfVectorizer(max_df=0.8, max_features=15000,\n",
        "                                 use_idf=True, tokenizer=clean_text,\n",
        "                                 ngram_range=(1,2))\n",
        "\n",
        "X = tfidf_vectorizer.fit_transform(dataset_ml.Consumer_complaint_narrative).toarray()\n",
        "Y = dataset_ml.Label"
      ],
      "execution_count": 0,
      "outputs": []
    },
    {
      "cell_type": "code",
      "metadata": {
        "id": "CnsRWU2De0JR",
        "colab_type": "code",
        "colab": {}
      },
      "source": [
        "# Training , Testing dataset \n",
        "x_train, x_test, y_train, y_test = train_test_split( X, Y, test_size=0.4 , stratify=Y, random_state=42)"
      ],
      "execution_count": 0,
      "outputs": []
    },
    {
      "cell_type": "code",
      "metadata": {
        "id": "4Y7VV9dGWpxX",
        "colab_type": "code",
        "outputId": "c22dd582-9b2b-45cd-86dc-652704e9afa2",
        "colab": {
          "base_uri": "https://localhost:8080/",
          "height": 115
        }
      },
      "source": [
        "from sklearn.metrics import accuracy_score , precision_score, recall_score , confusion_matrix , classification_report\n",
        "clf = MultinomialNB()\n",
        "clf.fit(x_train, y_train)\n",
        "y_pred = clf.predict(x_test)\n",
        "print(f\"Acc Score : {accuracy_score(y_pred, y_test)}\\n==============================\")\n",
        "print(f\"Preci Score : {precision_score(y_pred, y_test, average='micro')}\\n==============================\")\n",
        "print(f\"Recall Score : {recall_score(y_pred, y_test, average='micro')}\\n==============================\")"
      ],
      "execution_count": 12,
      "outputs": [
        {
          "output_type": "stream",
          "text": [
            "Acc Score : 0.709675\n",
            "==============================\n",
            "Preci Score : 0.709675\n",
            "==============================\n",
            "Recall Score : 0.709675\n",
            "==============================\n"
          ],
          "name": "stdout"
        }
      ]
    },
    {
      "cell_type": "code",
      "metadata": {
        "id": "bz3Y6b37c4ir",
        "colab_type": "code",
        "outputId": "7b362fa7-d222-4ae3-8ae8-13fce0ab86a6",
        "colab": {
          "base_uri": "https://localhost:8080/",
          "height": 608
        }
      },
      "source": [
        "plt.figure(figsize=(20,10))\n",
        "sns.heatmap(data=pd.DataFrame(confusion_matrix(y_pred, y_test)), annot=True ,fmt='.6g')"
      ],
      "execution_count": 17,
      "outputs": [
        {
          "output_type": "execute_result",
          "data": {
            "text/plain": [
              "<matplotlib.axes._subplots.AxesSubplot at 0x7f0470aca438>"
            ]
          },
          "metadata": {
            "tags": []
          },
          "execution_count": 17
        },
        {
          "output_type": "display_data",
          "data": {
            "image/png": "[encoded data removed]",
            "text/plain": [
              "<Figure size 1440x720 with 2 Axes>"
            ]
          },
          "metadata": {
            "tags": [],
            "needs_background": "light"
          }
        }
      ]
    },
    {
      "cell_type": "code",
      "metadata": {
        "id": "Cy_GLn6pdJ0k",
        "colab_type": "code",
        "outputId": "9eb307d5-74ee-4ff3-b8f6-6fef1614628d",
        "colab": {
          "base_uri": "https://localhost:8080/",
          "height": 212
        }
      },
      "source": [
        "y_test.value_counts()"
      ],
      "execution_count": 18,
      "outputs": [
        {
          "output_type": "execute_result",
          "data": {
            "text/plain": [
              "1     6465\n",
              "3     5737\n",
              "6     5715\n",
              "4     5044\n",
              "8     3845\n",
              "5     3048\n",
              "9     2577\n",
              "7     2021\n",
              "0     2009\n",
              "2     1829\n",
              "10    1710\n",
              "Name: Label, dtype: int64"
            ]
          },
          "metadata": {
            "tags": []
          },
          "execution_count": 18
        }
      ]
    },
    {
      "cell_type": "code",
      "metadata": {
        "id": "nR1H7D1_eN6p",
        "colab_type": "code",
        "outputId": "e6f6b123-77e0-4b9c-8043-284e869c342a",
        "colab": {
          "base_uri": "https://localhost:8080/",
          "height": 310
        }
      },
      "source": [
        "print(classification_report(y_pred, y_test))"
      ],
      "execution_count": 19,
      "outputs": [
        {
          "output_type": "stream",
          "text": [
            "              precision    recall  f1-score   support\n",
            "\n",
            "           0       0.01      0.71      0.02        34\n",
            "           1       0.93      0.61      0.74      9799\n",
            "           2       0.33      0.64      0.44       945\n",
            "           3       0.69      0.60      0.64      6550\n",
            "           4       0.56      0.63      0.59      4443\n",
            "           5       0.87      0.82      0.84      3212\n",
            "           6       0.93      0.84      0.88      6320\n",
            "           7       0.58      0.72      0.65      1631\n",
            "           8       0.95      0.88      0.91      4153\n",
            "           9       0.55      0.82      0.66      1715\n",
            "          10       0.47      0.67      0.55      1198\n",
            "\n",
            "    accuracy                           0.71     40000\n",
            "   macro avg       0.62      0.72      0.63     40000\n",
            "weighted avg       0.79      0.71      0.74     40000\n",
            "\n"
          ],
          "name": "stdout"
        }
      ]
    },
    {
      "cell_type": "code",
      "metadata": {
        "id": "eswUoPQUejIa",
        "colab_type": "code",
        "colab": {}
      },
      "source": [
        "from sklearn.linear_model import LogisticRegression\n",
        "from sklearn.tree import DecisionTreeClassifier\n",
        "from sklearn.ensemble import RandomForestClassifier\n",
        "lo_reg = LogisticRegression(random_state=42)\n",
        "tree_de = DecisionTreeClassifier(random_state=42)\n",
        "rdf = RandomForestClassifier(random_state=42)"
      ],
      "execution_count": 0,
      "outputs": []
    },
    {
      "cell_type": "code",
      "metadata": {
        "id": "qpalelS5jcQa",
        "colab_type": "code",
        "colab": {}
      },
      "source": [
        "lo_reg.fit(x_train, y_train)\n",
        "y_pred_logreg = lo_reg.predict(x_test)\n",
        "print(accuracy_score(y_pred,y_test))\n",
        "print(classification_report(y_pred_logreg , y_test))"
      ],
      "execution_count": 0,
      "outputs": []
    },
    {
      "cell_type": "code",
      "metadata": {
        "id": "dEjh8Gu0jvKH",
        "colab_type": "code",
        "colab": {}
      },
      "source": [
        ""
      ],
      "execution_count": 0,
      "outputs": []
    }
  ]
}