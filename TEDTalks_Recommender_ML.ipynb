{
  "nbformat": 4,
  "nbformat_minor": 0,
  "metadata": {
    "colab": {
      "name": "TEDTalks_Recommender_ML.ipynb",
      "provenance": [],
      "authorship_tag": "ABX9TyOvCZk2v3YjNvEisbgT0EAq",
      "include_colab_link": true
    },
    "kernelspec": {
      "name": "python3",
      "display_name": "Python 3"
    }
  },
  "cells": [
    {
      "cell_type": "markdown",
      "metadata": {
        "id": "view-in-github",
        "colab_type": "text"
      },
      "source": [
        "<a href=\"https://colab.research.google.com/github/hamisB/machine-learning/blob/master/TEDTalks_Recommender_ML.ipynb\" target=\"_parent\"><img src=\"https://colab.research.google.com/assets/colab-badge.svg\" alt=\"Open In Colab\"/></a>"
      ]
    },
    {
      "cell_type": "markdown",
      "metadata": {
        "id": "850PYwS635Bw",
        "colab_type": "text"
      },
      "source": [
        "### Import Data & Librairies\n"
      ]
    },
    {
      "cell_type": "code",
      "metadata": {
        "id": "ceUkEq1_323k",
        "colab_type": "code",
        "colab": {}
      },
      "source": [
        "# import librairies \n",
        "import pandas as pd\n",
        "import numpy as np\n",
        "import re\n",
        "import matplotlib.pyplot as plt\n",
        "import seaborn as sns\n",
        "sns.set_style(\"whitegrid\")\n",
        "plt.style.use(\"fivethirtyeight\") \n",
        "import warnings\n",
        "warnings.filterwarnings(\"ignore\")\n",
        "%matplotlib inline\n",
        "import pandas_profiling as pp\n",
        "import matplotlib.pyplot as plt"
      ],
      "execution_count": 0,
      "outputs": []
    },
    {
      "cell_type": "code",
      "metadata": {
        "id": "pvYfzZCL4P4W",
        "colab_type": "code",
        "colab": {}
      },
      "source": [
        "# Get data\n",
        "data = pd.read_csv('https://storage.googleapis.com/source_market_fr/data_for_ml/ted_main.csv')\n",
        "transcript = pd.read_csv('https://storage.googleapis.com/source_market_fr/data_for_ml/transcripts.csv')\n"
      ],
      "execution_count": 0,
      "outputs": []
    },
    {
      "cell_type": "code",
      "metadata": {
        "id": "tLS0H3oh4UVV",
        "colab_type": "code",
        "colab": {}
      },
      "source": [
        "# Fixing url as index and merge the two sub dataset\n",
        "data.set_index('url', inplace=True)\n",
        "transcript.set_index('url', inplace=True)\n",
        "\n",
        "dataset = data.merge(transcript, right_index=True, left_index=True)"
      ],
      "execution_count": 0,
      "outputs": []
    },
    {
      "cell_type": "code",
      "metadata": {
        "id": "PyUq0uGoxUi3",
        "colab_type": "code",
        "colab": {}
      },
      "source": [
        "dataset_ml = dataset[['title','transcript']].reset_index().set_index('title')"
      ],
      "execution_count": 0,
      "outputs": []
    },
    {
      "cell_type": "code",
      "metadata": {
        "id": "wcWNZNaWKx2_",
        "colab_type": "code",
        "outputId": "2f82ceb6-6092-45bb-f804-6c7697c635cd",
        "colab": {
          "base_uri": "https://localhost:8080/",
          "height": 420
        }
      },
      "source": [
        "# EDA\n",
        "dataset_ml.drop('url', axis=1, inplace=True)\n",
        "dataset_ml"
      ],
      "execution_count": 42,
      "outputs": [
        {
          "output_type": "execute_result",
          "data": {
            "text/html": [
              "<div>\n",
              "<style scoped>\n",
              "    .dataframe tbody tr th:only-of-type {\n",
              "        vertical-align: middle;\n",
              "    }\n",
              "\n",
              "    .dataframe tbody tr th {\n",
              "        vertical-align: top;\n",
              "    }\n",
              "\n",
              "    .dataframe thead th {\n",
              "        text-align: right;\n",
              "    }\n",
              "</style>\n",
              "<table border=\"1\" class=\"dataframe\">\n",
              "  <thead>\n",
              "    <tr style=\"text-align: right;\">\n",
              "      <th></th>\n",
              "      <th>transcript</th>\n",
              "    </tr>\n",
              "    <tr>\n",
              "      <th>title</th>\n",
              "      <th></th>\n",
              "    </tr>\n",
              "  </thead>\n",
              "  <tbody>\n",
              "    <tr>\n",
              "      <th>The mothers who found forgiveness, friendship</th>\n",
              "      <td>Phyllis Rodriguez: We are here today because o...</td>\n",
              "    </tr>\n",
              "    <tr>\n",
              "      <th>My year of living biblically</th>\n",
              "      <td>I thought I'd tell you a little about what I l...</td>\n",
              "    </tr>\n",
              "    <tr>\n",
              "      <th>A robot that flies like a bird</th>\n",
              "      <td>It is a dream of mankind to fly like a bird. B...</td>\n",
              "    </tr>\n",
              "    <tr>\n",
              "      <th>A TED speaker's worst nightmare</th>\n",
              "      <td>Today I'm going to talk about unexpected disco...</td>\n",
              "    </tr>\n",
              "    <tr>\n",
              "      <th>A whistleblower you haven't heard</th>\n",
              "      <td>(Whistling)(Whistling ends)(Applause)Thank you...</td>\n",
              "    </tr>\n",
              "    <tr>\n",
              "      <th>...</th>\n",
              "      <td>...</td>\n",
              "    </tr>\n",
              "    <tr>\n",
              "      <th>Machine intelligence makes human morals more important</th>\n",
              "      <td>So, I started my first job as a computer progr...</td>\n",
              "    </tr>\n",
              "    <tr>\n",
              "      <th>My daughter, Malala</th>\n",
              "      <td>In many patriarchal societies and tribal socie...</td>\n",
              "    </tr>\n",
              "    <tr>\n",
              "      <th>The demise of guys?</th>\n",
              "      <td>So today, I want us to reflect on the demise o...</td>\n",
              "    </tr>\n",
              "    <tr>\n",
              "      <th>Everyday objects, tragic histories</th>\n",
              "      <td>These are simple objects: clocks, keys, combs,...</td>\n",
              "    </tr>\n",
              "    <tr>\n",
              "      <th>A simple birth kit for mothers in the developing world</th>\n",
              "      <td>In the next six minutes that you will listen t...</td>\n",
              "    </tr>\n",
              "  </tbody>\n",
              "</table>\n",
              "<p>2467 rows × 1 columns</p>\n",
              "</div>"
            ],
            "text/plain": [
              "                                                                                           transcript\n",
              "title                                                                                                \n",
              "The mothers who found forgiveness, friendship       Phyllis Rodriguez: We are here today because o...\n",
              "My year of living biblically                        I thought I'd tell you a little about what I l...\n",
              "A robot that flies like a bird                      It is a dream of mankind to fly like a bird. B...\n",
              "A TED speaker's worst nightmare                     Today I'm going to talk about unexpected disco...\n",
              "A whistleblower you haven't heard                   (Whistling)(Whistling ends)(Applause)Thank you...\n",
              "...                                                                                               ...\n",
              "Machine intelligence makes human morals more im...  So, I started my first job as a computer progr...\n",
              "My daughter, Malala                                 In many patriarchal societies and tribal socie...\n",
              "The demise of guys?                                 So today, I want us to reflect on the demise o...\n",
              "Everyday objects, tragic histories                  These are simple objects: clocks, keys, combs,...\n",
              "A simple birth kit for mothers in the developin...  In the next six minutes that you will listen t...\n",
              "\n",
              "[2467 rows x 1 columns]"
            ]
          },
          "metadata": {
            "tags": []
          },
          "execution_count": 42
        }
      ]
    },
    {
      "cell_type": "code",
      "metadata": {
        "id": "TnfLVRLmK97P",
        "colab_type": "code",
        "colab": {
          "base_uri": "https://localhost:8080/",
          "height": 50
        },
        "outputId": "9c535ba5-abd9-4140-fa28-db403d80e019"
      },
      "source": [
        "# Import NLTK and TfidVectorizer\n",
        "import nltk\n",
        "nltk.download('stopwords')\n",
        "from sklearn.feature_extraction.text import TfidfVectorizer\n",
        "from sklearn.metrics.pairwise import linear_kernel"
      ],
      "execution_count": 43,
      "outputs": [
        {
          "output_type": "stream",
          "text": [
            "[nltk_data] Downloading package stopwords to /root/nltk_data...\n",
            "[nltk_data]   Package stopwords is already up-to-date!\n"
          ],
          "name": "stdout"
        }
      ]
    },
    {
      "cell_type": "code",
      "metadata": {
        "id": "C5B2MR-GnCNC",
        "colab_type": "code",
        "colab": {}
      },
      "source": [
        "# Processing function\n",
        "STOPWORDS = set(nltk.corpus.stopwords.words('french'))\n",
        "STEMMER = nltk.stem.SnowballStemmer('french')\n",
        "# Cleaning function\n",
        "def clean_text(text):\n",
        "    text_lower = text.lower()\n",
        "    text_clean = re.sub('[^a-z_]', ' ', text_lower)\n",
        "    tokens = [w for w in text_clean.split() if (len(w)>2) and (w not in STOPWORDS)]\n",
        "    tokens_stem = [ STEMMER.stem(token) for token in tokens]\n",
        "    return tokens_stem"
      ],
      "execution_count": 0,
      "outputs": []
    },
    {
      "cell_type": "code",
      "metadata": {
        "id": "LCEraHyGUH7n",
        "colab_type": "code",
        "colab": {}
      },
      "source": [
        "# Create a vectorizer with 100 features \n",
        "vectorizer = TfidfVectorizer( tokenizer=clean_text , max_features=10000, ngram_range=(1,2))"
      ],
      "execution_count": 0,
      "outputs": []
    },
    {
      "cell_type": "code",
      "metadata": {
        "id": "SVOBQE0YO4Mb",
        "colab_type": "code",
        "outputId": "5f29e8dc-b25c-4892-f0b7-2e1c4e56261f",
        "colab": {
          "base_uri": "https://localhost:8080/",
          "height": 423
        }
      },
      "source": [
        "# Create the Tdif matrix and check the feature\n",
        "df_tdif = vectorizer.fit_transform(dataset_ml.transcript)\n",
        "vectorizer.get_feature_names()[:25]"
      ],
      "execution_count": 48,
      "outputs": [
        {
          "output_type": "execute_result",
          "data": {
            "text/plain": [
              "['abandoned',\n",
              " 'abilit',\n",
              " 'ability',\n",
              " 'able',\n",
              " 'able get',\n",
              " 'able mak',\n",
              " 'able se',\n",
              " 'about',\n",
              " 'about all',\n",
              " 'about and',\n",
              " 'about being',\n",
              " 'about billion',\n",
              " 'about but',\n",
              " 'about dollar',\n",
              " 'about fiv',\n",
              " 'about four',\n",
              " 'about half',\n",
              " 'about her',\n",
              " 'about his',\n",
              " 'about how',\n",
              " 'about million',\n",
              " 'about minut',\n",
              " 'about one',\n",
              " 'about other',\n",
              " 'about our']"
            ]
          },
          "metadata": {
            "tags": []
          },
          "execution_count": 48
        }
      ]
    },
    {
      "cell_type": "code",
      "metadata": {
        "id": "vBsRDkyJe0ye",
        "colab_type": "code",
        "colab": {}
      },
      "source": [
        "# Calcul similarity \n",
        "from sklearn.metrics.pairwise import linear_kernel\n",
        "similarity = linear_kernel(df_tdif, df_tdif)"
      ],
      "execution_count": 0,
      "outputs": []
    },
    {
      "cell_type": "code",
      "metadata": {
        "id": "JYb-YvC6ve2Y",
        "colab_type": "code",
        "colab": {}
      },
      "source": [
        "sim_score = pd.DataFrame(similarity, index=dataset_ml.index , columns=dataset_ml.index)"
      ],
      "execution_count": 0,
      "outputs": []
    },
    {
      "cell_type": "code",
      "metadata": {
        "id": "xezq6EJ_vkF6",
        "colab_type": "code",
        "colab": {
          "base_uri": "https://localhost:8080/",
          "height": 212
        },
        "outputId": "0ed197e0-7435-44ea-83f4-67f50299dff4"
      },
      "source": [
        "sim_score[\"Superheroes inspired by Islam\"].sort_values(ascending=False)[1:11]"
      ],
      "execution_count": 55,
      "outputs": [
        {
          "output_type": "execute_result",
          "data": {
            "text/plain": [
              "title\n",
              "The web is more than \"better TV\"                           0.723792\n",
              "Dreams from endangered cultures                            0.721669\n",
              "The worldwide web of belief and ritual                     0.710123\n",
              "My wish: Manufactured landscapes and green education       0.702625\n",
              "Design and discovery                                       0.701913\n",
              "My days as a young rebel                                   0.697814\n",
              "The unheard story of the Sistine Chapel                    0.696906\n",
              "Nationalism vs. globalism: the new political divide        0.696232\n",
              "Rebuilding a neighborhood with beauty, dignity, hope       0.692869\n",
              "Spider-Man, The Lion King and life on the creative edge    0.687954\n",
              "Name: Superheroes inspired by Islam, dtype: float64"
            ]
          },
          "metadata": {
            "tags": []
          },
          "execution_count": 55
        }
      ]
    },
    {
      "cell_type": "code",
      "metadata": {
        "id": "02z1TY7hzz7Q",
        "colab_type": "code",
        "colab": {
          "base_uri": "https://localhost:8080/",
          "height": 212
        },
        "outputId": "eeaf6848-78fb-485f-dd17-9024e9721ac9"
      },
      "source": [
        "sim_score[\"My days as a young rebel\"].sort_values(ascending=False)[1:11]"
      ],
      "execution_count": 56,
      "outputs": [
        {
          "output_type": "execute_result",
          "data": {
            "text/plain": [
              "title\n",
              "Building uniqueness                                        0.755281\n",
              "How architecture can connect us                            0.754915\n",
              "Rebuilding a neighborhood with beauty, dignity, hope       0.754517\n",
              "My green agenda for architecture                           0.749676\n",
              "My wish: Manufactured landscapes and green education       0.740199\n",
              "The Blur Building and other tech-empowered architecture    0.730747\n",
              "Building the Seed Cathedral                                0.730361\n",
              "Design and discovery                                       0.725368\n",
              "The web is more than \"better TV\"                           0.724961\n",
              "A memorial at Ground Zero                                  0.719566\n",
              "Name: My days as a young rebel, dtype: float64"
            ]
          },
          "metadata": {
            "tags": []
          },
          "execution_count": 56
        }
      ]
    }
  ]
}